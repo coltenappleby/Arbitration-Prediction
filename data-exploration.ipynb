{
 "cells": [
  {
   "cell_type": "code",
   "execution_count": 1,
   "id": "initial_id",
   "metadata": {
    "collapsed": true,
    "ExecuteTime": {
     "end_time": "2023-12-07T22:58:04.025326Z",
     "start_time": "2023-12-07T22:58:01.919055Z"
    }
   },
   "outputs": [],
   "source": [
    "import pandas as pd\n",
    "import numpy as np"
   ]
  },
  {
   "cell_type": "code",
   "execution_count": 8,
   "outputs": [],
   "source": [
    "filename = 'data/arb-predictor-data_bat_OneSeason.csv'\n",
    "data = pd.read_csv(filename)\n",
    "\n",
    "data.dropna(subset=['G', 'Year Salary'], inplace=True)\n",
    "data = data.loc[~((data['Season'] < 2024) & (data['Next Year Salary'].isna()))]\n",
    "\n",
    "identifier = data['Player']\n",
    "data['Player'] = data.pop('Player')\n",
    "data['playerid'] = data.pop('playerid')\n",
    "data['Season'] = data.pop('Season')\n",
    "\n",
    "x_train = data[data['Season'] < 2023].drop(['Next Year Salary'], axis=1).values\n",
    "x_train = x_train[:, :-3] # remove Player, playerid and Season\n",
    "y_train = data[data['Season'] < 2023]['Next Year Salary'].values\n",
    "\n",
    "x_test = data[data['Season'] == 2023].drop(['Next Year Salary'], axis=1).values\n",
    "y_test = data[data['Season'] == 2023]['Next Year Salary'].values\n",
    "test_names = data[data['Season'] == 2023]['Player'].values\n",
    "\n",
    "x_2024 = data[data['Season'] == 2024].drop(['Next Year Salary'], axis=1).values\n",
    "y_2024 = data[data['Season'] == 2024]['Next Year Salary'].values\n",
    "names_2024 = data[data['Season'] == 2024]['Player'].values"
   ],
   "metadata": {
    "collapsed": false,
    "ExecuteTime": {
     "end_time": "2023-12-07T23:08:19.853571Z",
     "start_time": "2023-12-07T23:08:19.827524Z"
    }
   },
   "id": "9a52c1dd8da8e07f"
  },
  {
   "cell_type": "code",
   "execution_count": 9,
   "outputs": [
    {
     "name": "stdout",
     "output_type": "stream",
     "text": [
      "              MLS   Year Salary  Next Year Salary           G           R  \\\n",
      "count  568.000000  5.680000e+02      4.770000e+02  568.000000  568.000000   \n",
      "mean     3.681898  2.608121e+06      4.696270e+06  102.764085   48.397887   \n",
      "std      0.928825  3.174955e+06      4.298583e+06   42.031155   28.001325   \n",
      "min      2.118000  5.136000e+05      7.100000e+05    4.000000    0.000000   \n",
      "25%      3.055500  6.070000e+05      2.000000e+06   67.000000   26.000000   \n",
      "50%      3.167000  1.300000e+06      3.280000e+06  110.000000   45.500000   \n",
      "75%      4.149000  3.306250e+06      5.800000e+06  140.000000   69.000000   \n",
      "max      5.171000  2.300000e+07      2.700000e+07  162.000000  137.000000   \n",
      "\n",
      "                H          HR         RBI          SB         AVG         OBP  \\\n",
      "count  568.000000  568.000000  568.000000  568.000000  568.000000  568.000000   \n",
      "mean    87.552817   13.200704   46.035211    5.674296    0.249227    0.321153   \n",
      "std     48.503430   10.218868   28.185619    7.767879    0.036249    0.040575   \n",
      "min      3.000000    0.000000    0.000000    0.000000    0.125000    0.154362   \n",
      "25%     47.000000    5.000000   24.000000    1.000000    0.229423    0.299000   \n",
      "50%     82.500000   11.000000   42.000000    3.000000    0.251923    0.322268   \n",
      "75%    126.250000   19.000000   63.000000    8.000000    0.271151    0.344605   \n",
      "max    213.000000   48.000000  131.000000   59.000000    0.444444    0.523810   \n",
      "\n",
      "              SLG      playerid       Season  \n",
      "count  568.000000    568.000000   568.000000  \n",
      "mean     0.418447  14086.633803  2021.137324  \n",
      "std      0.079275   3872.409786     2.038989  \n",
      "min      0.140000   2136.000000  2018.000000  \n",
      "25%      0.368813  12037.000000  2019.000000  \n",
      "50%      0.415013  14347.000000  2021.000000  \n",
      "75%      0.468559  16473.500000  2023.000000  \n",
      "max      0.777778  26197.000000  2024.000000  \n"
     ]
    }
   ],
   "source": [
    "descriptive_stats = data.describe()\n",
    "print(descriptive_stats)"
   ],
   "metadata": {
    "collapsed": false,
    "ExecuteTime": {
     "end_time": "2023-12-07T23:08:21.294549Z",
     "start_time": "2023-12-07T23:08:21.259706Z"
    }
   },
   "id": "f3a36aad937372e7"
  },
  {
   "cell_type": "code",
   "execution_count": 10,
   "outputs": [
    {
     "ename": "InvalidIndexError",
     "evalue": "(slice(None, None, None), slice(None, -3, None))",
     "output_type": "error",
     "traceback": [
      "\u001B[0;31m---------------------------------------------------------------------------\u001B[0m",
      "\u001B[0;31mTypeError\u001B[0m                                 Traceback (most recent call last)",
      "File \u001B[0;32m~/miniconda3/envs/baseball/lib/python3.11/site-packages/pandas/core/indexes/base.py:3790\u001B[0m, in \u001B[0;36mIndex.get_loc\u001B[0;34m(self, key)\u001B[0m\n\u001B[1;32m   3789\u001B[0m \u001B[38;5;28;01mtry\u001B[39;00m:\n\u001B[0;32m-> 3790\u001B[0m     \u001B[38;5;28;01mreturn\u001B[39;00m \u001B[38;5;28mself\u001B[39m\u001B[38;5;241m.\u001B[39m_engine\u001B[38;5;241m.\u001B[39mget_loc(casted_key)\n\u001B[1;32m   3791\u001B[0m \u001B[38;5;28;01mexcept\u001B[39;00m \u001B[38;5;167;01mKeyError\u001B[39;00m \u001B[38;5;28;01mas\u001B[39;00m err:\n",
      "File \u001B[0;32mindex.pyx:152\u001B[0m, in \u001B[0;36mpandas._libs.index.IndexEngine.get_loc\u001B[0;34m()\u001B[0m\n",
      "File \u001B[0;32mindex.pyx:158\u001B[0m, in \u001B[0;36mpandas._libs.index.IndexEngine.get_loc\u001B[0;34m()\u001B[0m\n",
      "\u001B[0;31mTypeError\u001B[0m: '(slice(None, None, None), slice(None, -3, None))' is an invalid key",
      "\nDuring handling of the above exception, another exception occurred:\n",
      "\u001B[0;31mInvalidIndexError\u001B[0m                         Traceback (most recent call last)",
      "Cell \u001B[0;32mIn[10], line 1\u001B[0m\n\u001B[0;32m----> 1\u001B[0m data_temp \u001B[38;5;241m=\u001B[39m data[:, :\u001B[38;5;241m-\u001B[39m\u001B[38;5;241m3\u001B[39m] \u001B[38;5;66;03m# remove Player, playerid and Season\u001B[39;00m\n\u001B[1;32m      2\u001B[0m correlation_matrix \u001B[38;5;241m=\u001B[39m data_temp\u001B[38;5;241m.\u001B[39mcorr()\n\u001B[1;32m      3\u001B[0m \u001B[38;5;28mprint\u001B[39m(correlation_matrix)\n",
      "File \u001B[0;32m~/miniconda3/envs/baseball/lib/python3.11/site-packages/pandas/core/frame.py:3896\u001B[0m, in \u001B[0;36mDataFrame.__getitem__\u001B[0;34m(self, key)\u001B[0m\n\u001B[1;32m   3894\u001B[0m \u001B[38;5;28;01mif\u001B[39;00m \u001B[38;5;28mself\u001B[39m\u001B[38;5;241m.\u001B[39mcolumns\u001B[38;5;241m.\u001B[39mnlevels \u001B[38;5;241m>\u001B[39m \u001B[38;5;241m1\u001B[39m:\n\u001B[1;32m   3895\u001B[0m     \u001B[38;5;28;01mreturn\u001B[39;00m \u001B[38;5;28mself\u001B[39m\u001B[38;5;241m.\u001B[39m_getitem_multilevel(key)\n\u001B[0;32m-> 3896\u001B[0m indexer \u001B[38;5;241m=\u001B[39m \u001B[38;5;28mself\u001B[39m\u001B[38;5;241m.\u001B[39mcolumns\u001B[38;5;241m.\u001B[39mget_loc(key)\n\u001B[1;32m   3897\u001B[0m \u001B[38;5;28;01mif\u001B[39;00m is_integer(indexer):\n\u001B[1;32m   3898\u001B[0m     indexer \u001B[38;5;241m=\u001B[39m [indexer]\n",
      "File \u001B[0;32m~/miniconda3/envs/baseball/lib/python3.11/site-packages/pandas/core/indexes/base.py:3802\u001B[0m, in \u001B[0;36mIndex.get_loc\u001B[0;34m(self, key)\u001B[0m\n\u001B[1;32m   3797\u001B[0m     \u001B[38;5;28;01mraise\u001B[39;00m \u001B[38;5;167;01mKeyError\u001B[39;00m(key) \u001B[38;5;28;01mfrom\u001B[39;00m \u001B[38;5;21;01merr\u001B[39;00m\n\u001B[1;32m   3798\u001B[0m \u001B[38;5;28;01mexcept\u001B[39;00m \u001B[38;5;167;01mTypeError\u001B[39;00m:\n\u001B[1;32m   3799\u001B[0m     \u001B[38;5;66;03m# If we have a listlike key, _check_indexing_error will raise\u001B[39;00m\n\u001B[1;32m   3800\u001B[0m     \u001B[38;5;66;03m#  InvalidIndexError. Otherwise we fall through and re-raise\u001B[39;00m\n\u001B[1;32m   3801\u001B[0m     \u001B[38;5;66;03m#  the TypeError.\u001B[39;00m\n\u001B[0;32m-> 3802\u001B[0m     \u001B[38;5;28mself\u001B[39m\u001B[38;5;241m.\u001B[39m_check_indexing_error(key)\n\u001B[1;32m   3803\u001B[0m     \u001B[38;5;28;01mraise\u001B[39;00m\n",
      "File \u001B[0;32m~/miniconda3/envs/baseball/lib/python3.11/site-packages/pandas/core/indexes/base.py:5974\u001B[0m, in \u001B[0;36mIndex._check_indexing_error\u001B[0;34m(self, key)\u001B[0m\n\u001B[1;32m   5970\u001B[0m \u001B[38;5;28;01mdef\u001B[39;00m \u001B[38;5;21m_check_indexing_error\u001B[39m(\u001B[38;5;28mself\u001B[39m, key):\n\u001B[1;32m   5971\u001B[0m     \u001B[38;5;28;01mif\u001B[39;00m \u001B[38;5;129;01mnot\u001B[39;00m is_scalar(key):\n\u001B[1;32m   5972\u001B[0m         \u001B[38;5;66;03m# if key is not a scalar, directly raise an error (the code below\u001B[39;00m\n\u001B[1;32m   5973\u001B[0m         \u001B[38;5;66;03m# would convert to numpy arrays and raise later any way) - GH29926\u001B[39;00m\n\u001B[0;32m-> 5974\u001B[0m         \u001B[38;5;28;01mraise\u001B[39;00m InvalidIndexError(key)\n",
      "\u001B[0;31mInvalidIndexError\u001B[0m: (slice(None, None, None), slice(None, -3, None))"
     ]
    }
   ],
   "source": [
    "data_temp = data[:, :-3] # remove Player, playerid and Season\n",
    "correlation_matrix = data_temp.corr()\n",
    "print(correlation_matrix)"
   ],
   "metadata": {
    "collapsed": false,
    "ExecuteTime": {
     "end_time": "2023-12-07T23:08:22.565228Z",
     "start_time": "2023-12-07T23:08:22.552842Z"
    }
   },
   "id": "9758a7baca107584"
  },
  {
   "cell_type": "code",
   "execution_count": null,
   "outputs": [],
   "source": [],
   "metadata": {
    "collapsed": false
   },
   "id": "cc5c6bb14cfc5649"
  }
 ],
 "metadata": {
  "kernelspec": {
   "display_name": "Python 3",
   "language": "python",
   "name": "python3"
  },
  "language_info": {
   "codemirror_mode": {
    "name": "ipython",
    "version": 2
   },
   "file_extension": ".py",
   "mimetype": "text/x-python",
   "name": "python",
   "nbconvert_exporter": "python",
   "pygments_lexer": "ipython2",
   "version": "2.7.6"
  }
 },
 "nbformat": 4,
 "nbformat_minor": 5
}
