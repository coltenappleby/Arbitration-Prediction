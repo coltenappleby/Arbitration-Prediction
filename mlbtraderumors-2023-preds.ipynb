{
 "cells": [
  {
   "cell_type": "code",
   "execution_count": 30,
   "id": "initial_id",
   "metadata": {
    "collapsed": true,
    "ExecuteTime": {
     "end_time": "2023-12-14T20:39:01.830119Z",
     "start_time": "2023-12-14T20:39:01.823347Z"
    }
   },
   "outputs": [],
   "source": [
    "import pandas as pd\n",
    "import requests\n",
    "import copy\n",
    "from bs4 import BeautifulSoup"
   ]
  },
  {
   "cell_type": "code",
   "execution_count": 36,
   "outputs": [
    {
     "name": "stdout",
     "output_type": "stream",
     "text": [
      "                              Items\n",
      "0    Griffin Canning(3.075): $1.1MM\n",
      "1       Luis Rengifo(3.043): $2.4MM\n",
      "2       Jaime Barria(3.035): $1.2MM\n",
      "3        Chad Wallach(3.030): $800K\n",
      "4        Jared Walsh(3.010): $2.7MM\n",
      "..                              ...\n",
      "299  Kyle Higashioka(4.005): $1.7MM\n",
      "300     Tim Locastro(3.122): $1.2MM\n",
      "301    Nestor Cortes(3.094): $3.5MM\n",
      "302       Jose Trevino(3.063): $2MM\n",
      "303     Michael King(3.004): $1.2MM\n",
      "\n",
      "[304 rows x 1 columns]\n"
     ]
    }
   ],
   "source": [
    "# Read in the html file\n",
    "url = 'https://www.mlbtraderumors.com/2022/10/mlb-projected-arbitration-salaries-2023.html'\n",
    "\n",
    "\n",
    "response = requests.get(url)\n",
    "# Check if the request was successful (status code 200)\n",
    "if response.status_code == 200:\n",
    "    # Parse the HTML content of the page\n",
    "    soup = BeautifulSoup(response.text, 'html.parser')\n",
    "      \n",
    "    # Find the div with class 'entry-content' and get all <li> elements\n",
    "    entry_content_div = soup.find('div', class_='entry-content')\n",
    "    list_items = entry_content_div.find_all('li')\n",
    "\n",
    "    # Extract text content from each <li> element\n",
    "    items_text = [li.get_text(strip=True) for li in list_items]\n",
    "\n",
    "    # Create a pandas DataFrame\n",
    "    df = pd.DataFrame({'Items': items_text})\n",
    "\n",
    "    # Print or do further processing with the DataFrame\n",
    "    print(df)\n",
    "\n",
    "else:\n",
    "    print(f\"Unable to find on the page.\")        "
   ],
   "metadata": {
    "collapsed": false,
    "ExecuteTime": {
     "end_time": "2023-12-14T20:39:44.099090Z",
     "start_time": "2023-12-14T20:39:43.256922Z"
    }
   },
   "id": "6d8de83ab9872b91"
  },
  {
   "cell_type": "code",
   "execution_count": 41,
   "outputs": [
    {
     "data": {
      "text/plain": "              Player Service  TR Pred Salary\n0    Griffin Canning   3.075       1100000.0\n1       Luis Rengifo   3.043       2400000.0\n2       Jaime Barria   3.035       1200000.0\n3       Chad Wallach   3.030        800000.0\n4        Jared Walsh   3.010       2700000.0\n..               ...     ...             ...\n299  Kyle Higashioka   4.005       1700000.0\n300     Tim Locastro   3.122       1200000.0\n301    Nestor Cortes   3.094       3500000.0\n302     Jose Trevino   3.063       2000000.0\n303     Michael King   3.004       1200000.0\n\n[304 rows x 3 columns]",
      "text/html": "<div>\n<style scoped>\n    .dataframe tbody tr th:only-of-type {\n        vertical-align: middle;\n    }\n\n    .dataframe tbody tr th {\n        vertical-align: top;\n    }\n\n    .dataframe thead th {\n        text-align: right;\n    }\n</style>\n<table border=\"1\" class=\"dataframe\">\n  <thead>\n    <tr style=\"text-align: right;\">\n      <th></th>\n      <th>Player</th>\n      <th>Service</th>\n      <th>TR Pred Salary</th>\n    </tr>\n  </thead>\n  <tbody>\n    <tr>\n      <th>0</th>\n      <td>Griffin Canning</td>\n      <td>3.075</td>\n      <td>1100000.0</td>\n    </tr>\n    <tr>\n      <th>1</th>\n      <td>Luis Rengifo</td>\n      <td>3.043</td>\n      <td>2400000.0</td>\n    </tr>\n    <tr>\n      <th>2</th>\n      <td>Jaime Barria</td>\n      <td>3.035</td>\n      <td>1200000.0</td>\n    </tr>\n    <tr>\n      <th>3</th>\n      <td>Chad Wallach</td>\n      <td>3.030</td>\n      <td>800000.0</td>\n    </tr>\n    <tr>\n      <th>4</th>\n      <td>Jared Walsh</td>\n      <td>3.010</td>\n      <td>2700000.0</td>\n    </tr>\n    <tr>\n      <th>...</th>\n      <td>...</td>\n      <td>...</td>\n      <td>...</td>\n    </tr>\n    <tr>\n      <th>299</th>\n      <td>Kyle Higashioka</td>\n      <td>4.005</td>\n      <td>1700000.0</td>\n    </tr>\n    <tr>\n      <th>300</th>\n      <td>Tim Locastro</td>\n      <td>3.122</td>\n      <td>1200000.0</td>\n    </tr>\n    <tr>\n      <th>301</th>\n      <td>Nestor Cortes</td>\n      <td>3.094</td>\n      <td>3500000.0</td>\n    </tr>\n    <tr>\n      <th>302</th>\n      <td>Jose Trevino</td>\n      <td>3.063</td>\n      <td>2000000.0</td>\n    </tr>\n    <tr>\n      <th>303</th>\n      <td>Michael King</td>\n      <td>3.004</td>\n      <td>1200000.0</td>\n    </tr>\n  </tbody>\n</table>\n<p>304 rows × 3 columns</p>\n</div>"
     },
     "execution_count": 41,
     "metadata": {},
     "output_type": "execute_result"
    }
   ],
   "source": [
    "data = copy.deepcopy(df)\n",
    "data['Player'] = data['Items'].str.split('(').str[0]\n",
    "data['Service'] = data['Items'].str.split('(').str[1].str.split(')').str[0]\n",
    "data['SalRaw'] = data['Items'].str.split('$').str[-1]\n",
    "# Function to convert salary values to integers\n",
    "def convert_salary_to_int(salary_str):\n",
    "    try:\n",
    "        if 'K' in salary_str:\n",
    "            return int(float(salary_str.replace('K', '')) * 1000)\n",
    "        elif 'MM' in salary_str:\n",
    "            return int(float(salary_str.replace('MM', '')) * 1000000)\n",
    "        else:\n",
    "            return int(float(salary_str))\n",
    "    except ValueError:\n",
    "        return None  # Return None for rows with non-convertible values\n",
    "\n",
    "# Apply the conversion function to the 'Salary' column\n",
    "data['TR Pred Salary'] = data['SalRaw'].apply(convert_salary_to_int)\n",
    "# split_names = data['Player'].str.split(' ', n=1, expand=True)\n",
    "# data[['first_name', 'last_name']]  = split_names\n",
    "data.drop(columns=['Items', 'SalRaw'], inplace=True)\n",
    "data"
   ],
   "metadata": {
    "collapsed": false,
    "ExecuteTime": {
     "end_time": "2023-12-14T20:59:10.050040Z",
     "start_time": "2023-12-14T20:59:10.044700Z"
    }
   },
   "id": "7c9d792cedc8348f"
  },
  {
   "cell_type": "code",
   "execution_count": 42,
   "outputs": [],
   "source": [
    "data.to_csv('data/mlbtr_2023_preds.csv', index=False)"
   ],
   "metadata": {
    "collapsed": false,
    "ExecuteTime": {
     "end_time": "2023-12-14T20:59:11.684335Z",
     "start_time": "2023-12-14T20:59:11.675628Z"
    }
   },
   "id": "f2fd46d3dfe637ac"
  },
  {
   "cell_type": "code",
   "execution_count": null,
   "outputs": [],
   "source": [],
   "metadata": {
    "collapsed": false
   },
   "id": "a27fdfb96d347caa"
  }
 ],
 "metadata": {
  "kernelspec": {
   "display_name": "Python 3",
   "language": "python",
   "name": "python3"
  },
  "language_info": {
   "codemirror_mode": {
    "name": "ipython",
    "version": 2
   },
   "file_extension": ".py",
   "mimetype": "text/x-python",
   "name": "python",
   "nbconvert_exporter": "python",
   "pygments_lexer": "ipython2",
   "version": "2.7.6"
  }
 },
 "nbformat": 4,
 "nbformat_minor": 5
}
