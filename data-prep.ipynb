{
 "cells": [
  {
   "cell_type": "code",
   "execution_count": 13,
   "id": "initial_id",
   "metadata": {
    "collapsed": true,
    "ExecuteTime": {
     "end_time": "2023-12-12T21:46:40.868712Z",
     "start_time": "2023-12-12T21:46:40.861066Z"
    }
   },
   "outputs": [],
   "source": [
    "import pandas as pd\n",
    "import numpy as np"
   ]
  },
  {
   "cell_type": "code",
   "execution_count": 14,
   "outputs": [],
   "source": [
    "salary_data = pd.read_csv('./data/arb_salaries_2010-2024.csv')\n",
    "mlb_bat_stats = pd.read_csv('./data/mlb-stats-bat_cleaned.csv')\n",
    "mlb_bat_stats['Year'] = mlb_bat_stats['Season']+1"
   ],
   "metadata": {
    "collapsed": false,
    "ExecuteTime": {
     "end_time": "2023-12-12T21:46:41.914930Z",
     "start_time": "2023-12-12T21:46:41.782688Z"
    }
   },
   "id": "776dd9b2309c9ae0"
  },
  {
   "cell_type": "code",
   "execution_count": 15,
   "outputs": [],
   "source": [
    "# # Arb Hitters\n",
    "# arb_bat = salary_data[~salary_data['Position'].str.contains('hp')]\n",
    "# arb_bat.head()\n",
    "# \n",
    "# # Arb Pitchers\n",
    "# arb_pitch = arbs[arbs['Position'].str.contains('hp')]\n",
    "# arb_pitch.head()"
   ],
   "metadata": {
    "collapsed": false,
    "ExecuteTime": {
     "end_time": "2023-12-12T21:46:43.521167Z",
     "start_time": "2023-12-12T21:46:43.509966Z"
    }
   },
   "id": "6a09c99b27ec393"
  },
  {
   "cell_type": "code",
   "execution_count": 71,
   "outputs": [
    {
     "data": {
      "text/plain": "Player              112\nService             112\nYear                112\nNext Year Salary      0\nSalary              100\nSalary Diff           0\nSeasonStat          112\nAge                 112\nG                   112\nPA                  112\nAB                  112\nR                   112\nH                   112\n2B                  112\n3B                  112\nHR                  112\nRBI                 112\nSB                  112\nCS                  112\nBB                  112\nSO                  112\nAVG                 112\nOBP                 112\nSLG                 112\nOPS                 112\nGDP                 112\nHBP                 112\nSH                  112\nSF                  112\nIBB                 112\nWAR                 112\nDefense             112\nTB                  112\ncum_sum_G           112\ncum_sum_PA          112\ncum_sum_AB          112\ncum_sum_R           112\ncum_sum_H           112\ncum_sum_2B          112\ncum_sum_3B          112\ncum_sum_HR          112\ncum_sum_RBI         112\ncum_sum_SB          112\ncum_sum_CS          112\ncum_sum_BB          112\ncum_sum_SO          112\ncum_sum_TB          112\ncum_sum_GDP         112\ncum_sum_HBP         112\ncum_sum_SH          112\ncum_sum_SF          112\ncum_sum_IBB         112\ncum_sum_WAR         112\ndtype: int64"
     },
     "execution_count": 71,
     "metadata": {},
     "output_type": "execute_result"
    }
   ],
   "source": [
    "arb_data_with_bat_stats = pd.merge(salary_data, mlb_bat_stats, on=['first_name', 'last_name', 'Year'], how='left')\n",
    "arb_data_with_bat_stats.rename(columns={'Season':'SeasonStat'}, inplace=True)\n",
    "# arb_data_with_bat_stats = arb_data_with_bat_stats[~(arb_data_with_bat_stats['SeasonStat'].isna() | arb_data_with_bat_stats['Extension']==False | arb_data_with_bat_stats['Non-Tendered']==False  | arb_data_with_bat_stats['Outrighted']==False)]\n",
    "arb_data_with_bat_stats = arb_data_with_bat_stats.query('Extension==False | `Non-Tendered`==False | Outrighted==False')\n",
    "arb_data_with_bat_stats = arb_data_with_bat_stats.query('(Year == 2024) | (`Salary Diff`.notna())')\n",
    "arb_data_with_bat_stats = arb_data_with_bat_stats.query('Age.notnull()')\n",
    "arb_data_with_bat_stats = arb_data_with_bat_stats.query('Service.notna()')\n",
    "\n",
    "arb_data_with_bat_stats.drop(['Team', 'Extension', 'Non-Tendered', 'Outrighted', 'first_name', 'last_name', 'Source', 'PlayerNameRoute', 'xMLBAMID'], axis=1, inplace=True)\n",
    "\n",
    "# arb_stats_bats.dropna(inplace=True)\n",
    "# arb_data_with_stats[arb_data_with_stats['Year']==2024]\n",
    "# arb_data_with_bat_stats.query('Year != 2024').isna().sum()\n",
    "arb_data_with_bat_stats.query('Year==2024').count()"
   ],
   "metadata": {
    "collapsed": false,
    "ExecuteTime": {
     "end_time": "2023-12-12T22:24:59.792994Z",
     "start_time": "2023-12-12T22:24:59.727740Z"
    }
   },
   "id": "e65b05cf4d8d8be9"
  },
  {
   "cell_type": "code",
   "execution_count": 73,
   "outputs": [
    {
     "data": {
      "text/plain": "                     Player  Service  Year  Next Year Salary      Salary  \\\n2580              Juan Soto    5.134  2024               NaN  23000000.0   \n2582            Kyle Tucker    4.079  2024               NaN   5000000.0   \n2583  Vladimir Guerrero Jr.    4.157  2024               NaN  14500000.0   \n2584            Luis Arraez    4.121  2024               NaN   6100000.0   \n2585             Jonah Heim    3.097  2024               NaN    745660.0   \n...                     ...      ...   ...               ...         ...   \n2861        Trayce Thompson    4.010  2024               NaN   1450000.0   \n2864           Carlos Perez    3.167  2024               NaN    740000.0   \n2865         Garrett Stubbs    3.120  2024               NaN    741000.0   \n2866             J.D. Davis    5.137  2024               NaN   4210000.0   \n2870       Tyler Stephenson    3.056  2024               NaN    740000.0   \n\n      Salary Diff  SeasonStat   Age      G     PA  ...  cum_sum_CS  \\\n2580          NaN      2023.0  24.0  162.0  708.0  ...        19.0   \n2582          NaN      2023.0  26.0  157.0  674.0  ...        13.0   \n2583          NaN      2023.0  24.0  156.0  682.0  ...         8.0   \n2584          NaN      2023.0  26.0  147.0  617.0  ...        10.0   \n2585          NaN      2023.0  28.0  131.0  501.0  ...         1.0   \n...           ...         ...   ...    ...    ...  ...         ...   \n2861          NaN      2023.0  32.0   72.0  179.0  ...         3.0   \n2864          NaN      2023.0  32.0   68.0  189.0  ...         0.0   \n2865          NaN      2023.0  30.0   41.0  125.0  ...         1.0   \n2866          NaN      2023.0  30.0  144.0  546.0  ...         2.0   \n2870          NaN      2023.0  26.0  142.0  517.0  ...         1.0   \n\n      cum_sum_BB  cum_sum_SO  cum_sum_TB  cum_sum_GDP  cum_sum_HBP  \\\n2580       640.0       577.0      1418.0         74.0         12.0   \n2582       220.0       356.0       995.0         36.0          8.0   \n2583       277.0       455.0      1239.0         92.0         25.0   \n2584       172.0       165.0       848.0         37.0         10.0   \n2585        99.0       244.0       465.0         29.0          3.0   \n...          ...         ...         ...          ...          ...   \n2861       115.0       346.0       384.0         11.0          4.0   \n2864        47.0       165.0       257.0         21.0          6.0   \n2865        29.0        73.0       100.0          3.0          2.0   \n2866       198.0       544.0       752.0         61.0         29.0   \n2870       102.0       266.0       418.0         31.0         14.0   \n\n      cum_sum_SH  cum_sum_SF  cum_sum_IBB  cum_sum_WAR  \n2580         2.0        16.0         65.0    28.424185  \n2582         0.0        18.0         21.0    16.270751  \n2583         0.0        12.0         19.0    10.098745  \n2584         1.0        16.0         15.0    10.578219  \n2585         1.0         8.0          2.0     7.712797  \n...          ...         ...          ...          ...  \n2861         1.0         3.0          2.0     2.998989  \n2864        13.0         7.0          0.0    -0.464576  \n2865         5.0         1.0          0.0     0.149531  \n2866         0.0        14.0          5.0     6.726676  \n2870         0.0         8.0          3.0     3.094183  \n\n[112 rows x 53 columns]",
      "text/html": "<div>\n<style scoped>\n    .dataframe tbody tr th:only-of-type {\n        vertical-align: middle;\n    }\n\n    .dataframe tbody tr th {\n        vertical-align: top;\n    }\n\n    .dataframe thead th {\n        text-align: right;\n    }\n</style>\n<table border=\"1\" class=\"dataframe\">\n  <thead>\n    <tr style=\"text-align: right;\">\n      <th></th>\n      <th>Player</th>\n      <th>Service</th>\n      <th>Year</th>\n      <th>Next Year Salary</th>\n      <th>Salary</th>\n      <th>Salary Diff</th>\n      <th>SeasonStat</th>\n      <th>Age</th>\n      <th>G</th>\n      <th>PA</th>\n      <th>...</th>\n      <th>cum_sum_CS</th>\n      <th>cum_sum_BB</th>\n      <th>cum_sum_SO</th>\n      <th>cum_sum_TB</th>\n      <th>cum_sum_GDP</th>\n      <th>cum_sum_HBP</th>\n      <th>cum_sum_SH</th>\n      <th>cum_sum_SF</th>\n      <th>cum_sum_IBB</th>\n      <th>cum_sum_WAR</th>\n    </tr>\n  </thead>\n  <tbody>\n    <tr>\n      <th>2580</th>\n      <td>Juan Soto</td>\n      <td>5.134</td>\n      <td>2024</td>\n      <td>NaN</td>\n      <td>23000000.0</td>\n      <td>NaN</td>\n      <td>2023.0</td>\n      <td>24.0</td>\n      <td>162.0</td>\n      <td>708.0</td>\n      <td>...</td>\n      <td>19.0</td>\n      <td>640.0</td>\n      <td>577.0</td>\n      <td>1418.0</td>\n      <td>74.0</td>\n      <td>12.0</td>\n      <td>2.0</td>\n      <td>16.0</td>\n      <td>65.0</td>\n      <td>28.424185</td>\n    </tr>\n    <tr>\n      <th>2582</th>\n      <td>Kyle Tucker</td>\n      <td>4.079</td>\n      <td>2024</td>\n      <td>NaN</td>\n      <td>5000000.0</td>\n      <td>NaN</td>\n      <td>2023.0</td>\n      <td>26.0</td>\n      <td>157.0</td>\n      <td>674.0</td>\n      <td>...</td>\n      <td>13.0</td>\n      <td>220.0</td>\n      <td>356.0</td>\n      <td>995.0</td>\n      <td>36.0</td>\n      <td>8.0</td>\n      <td>0.0</td>\n      <td>18.0</td>\n      <td>21.0</td>\n      <td>16.270751</td>\n    </tr>\n    <tr>\n      <th>2583</th>\n      <td>Vladimir Guerrero Jr.</td>\n      <td>4.157</td>\n      <td>2024</td>\n      <td>NaN</td>\n      <td>14500000.0</td>\n      <td>NaN</td>\n      <td>2023.0</td>\n      <td>24.0</td>\n      <td>156.0</td>\n      <td>682.0</td>\n      <td>...</td>\n      <td>8.0</td>\n      <td>277.0</td>\n      <td>455.0</td>\n      <td>1239.0</td>\n      <td>92.0</td>\n      <td>25.0</td>\n      <td>0.0</td>\n      <td>12.0</td>\n      <td>19.0</td>\n      <td>10.098745</td>\n    </tr>\n    <tr>\n      <th>2584</th>\n      <td>Luis Arraez</td>\n      <td>4.121</td>\n      <td>2024</td>\n      <td>NaN</td>\n      <td>6100000.0</td>\n      <td>NaN</td>\n      <td>2023.0</td>\n      <td>26.0</td>\n      <td>147.0</td>\n      <td>617.0</td>\n      <td>...</td>\n      <td>10.0</td>\n      <td>172.0</td>\n      <td>165.0</td>\n      <td>848.0</td>\n      <td>37.0</td>\n      <td>10.0</td>\n      <td>1.0</td>\n      <td>16.0</td>\n      <td>15.0</td>\n      <td>10.578219</td>\n    </tr>\n    <tr>\n      <th>2585</th>\n      <td>Jonah Heim</td>\n      <td>3.097</td>\n      <td>2024</td>\n      <td>NaN</td>\n      <td>745660.0</td>\n      <td>NaN</td>\n      <td>2023.0</td>\n      <td>28.0</td>\n      <td>131.0</td>\n      <td>501.0</td>\n      <td>...</td>\n      <td>1.0</td>\n      <td>99.0</td>\n      <td>244.0</td>\n      <td>465.0</td>\n      <td>29.0</td>\n      <td>3.0</td>\n      <td>1.0</td>\n      <td>8.0</td>\n      <td>2.0</td>\n      <td>7.712797</td>\n    </tr>\n    <tr>\n      <th>...</th>\n      <td>...</td>\n      <td>...</td>\n      <td>...</td>\n      <td>...</td>\n      <td>...</td>\n      <td>...</td>\n      <td>...</td>\n      <td>...</td>\n      <td>...</td>\n      <td>...</td>\n      <td>...</td>\n      <td>...</td>\n      <td>...</td>\n      <td>...</td>\n      <td>...</td>\n      <td>...</td>\n      <td>...</td>\n      <td>...</td>\n      <td>...</td>\n      <td>...</td>\n      <td>...</td>\n    </tr>\n    <tr>\n      <th>2861</th>\n      <td>Trayce Thompson</td>\n      <td>4.010</td>\n      <td>2024</td>\n      <td>NaN</td>\n      <td>1450000.0</td>\n      <td>NaN</td>\n      <td>2023.0</td>\n      <td>32.0</td>\n      <td>72.0</td>\n      <td>179.0</td>\n      <td>...</td>\n      <td>3.0</td>\n      <td>115.0</td>\n      <td>346.0</td>\n      <td>384.0</td>\n      <td>11.0</td>\n      <td>4.0</td>\n      <td>1.0</td>\n      <td>3.0</td>\n      <td>2.0</td>\n      <td>2.998989</td>\n    </tr>\n    <tr>\n      <th>2864</th>\n      <td>Carlos Perez</td>\n      <td>3.167</td>\n      <td>2024</td>\n      <td>NaN</td>\n      <td>740000.0</td>\n      <td>NaN</td>\n      <td>2023.0</td>\n      <td>32.0</td>\n      <td>68.0</td>\n      <td>189.0</td>\n      <td>...</td>\n      <td>0.0</td>\n      <td>47.0</td>\n      <td>165.0</td>\n      <td>257.0</td>\n      <td>21.0</td>\n      <td>6.0</td>\n      <td>13.0</td>\n      <td>7.0</td>\n      <td>0.0</td>\n      <td>-0.464576</td>\n    </tr>\n    <tr>\n      <th>2865</th>\n      <td>Garrett Stubbs</td>\n      <td>3.120</td>\n      <td>2024</td>\n      <td>NaN</td>\n      <td>741000.0</td>\n      <td>NaN</td>\n      <td>2023.0</td>\n      <td>30.0</td>\n      <td>41.0</td>\n      <td>125.0</td>\n      <td>...</td>\n      <td>1.0</td>\n      <td>29.0</td>\n      <td>73.0</td>\n      <td>100.0</td>\n      <td>3.0</td>\n      <td>2.0</td>\n      <td>5.0</td>\n      <td>1.0</td>\n      <td>0.0</td>\n      <td>0.149531</td>\n    </tr>\n    <tr>\n      <th>2866</th>\n      <td>J.D. Davis</td>\n      <td>5.137</td>\n      <td>2024</td>\n      <td>NaN</td>\n      <td>4210000.0</td>\n      <td>NaN</td>\n      <td>2023.0</td>\n      <td>30.0</td>\n      <td>144.0</td>\n      <td>546.0</td>\n      <td>...</td>\n      <td>2.0</td>\n      <td>198.0</td>\n      <td>544.0</td>\n      <td>752.0</td>\n      <td>61.0</td>\n      <td>29.0</td>\n      <td>0.0</td>\n      <td>14.0</td>\n      <td>5.0</td>\n      <td>6.726676</td>\n    </tr>\n    <tr>\n      <th>2870</th>\n      <td>Tyler Stephenson</td>\n      <td>3.056</td>\n      <td>2024</td>\n      <td>NaN</td>\n      <td>740000.0</td>\n      <td>NaN</td>\n      <td>2023.0</td>\n      <td>26.0</td>\n      <td>142.0</td>\n      <td>517.0</td>\n      <td>...</td>\n      <td>1.0</td>\n      <td>102.0</td>\n      <td>266.0</td>\n      <td>418.0</td>\n      <td>31.0</td>\n      <td>14.0</td>\n      <td>0.0</td>\n      <td>8.0</td>\n      <td>3.0</td>\n      <td>3.094183</td>\n    </tr>\n  </tbody>\n</table>\n<p>112 rows × 53 columns</p>\n</div>"
     },
     "execution_count": 73,
     "metadata": {},
     "output_type": "execute_result"
    }
   ],
   "source": [
    "arb_data_with_bat_stats.to_csv('./data/arb-data-with-stats_bats.csv', index=False)\n",
    "arb_data_with_bat_stats.query('Year==2024')\n"
   ],
   "metadata": {
    "collapsed": false,
    "ExecuteTime": {
     "end_time": "2023-12-12T22:32:23.108645Z",
     "start_time": "2023-12-12T22:32:22.969483Z"
    }
   },
   "id": "23665ceb2a62b527"
  },
  {
   "cell_type": "code",
   "execution_count": 40,
   "outputs": [],
   "source": [],
   "metadata": {
    "collapsed": false,
    "ExecuteTime": {
     "end_time": "2023-12-09T01:28:02.465291Z",
     "start_time": "2023-12-09T01:28:02.356331Z"
    }
   },
   "id": "4849817348da93fb"
  }
 ],
 "metadata": {
  "kernelspec": {
   "display_name": "Python 3",
   "language": "python",
   "name": "python3"
  },
  "language_info": {
   "codemirror_mode": {
    "name": "ipython",
    "version": 2
   },
   "file_extension": ".py",
   "mimetype": "text/x-python",
   "name": "python",
   "nbconvert_exporter": "python",
   "pygments_lexer": "ipython2",
   "version": "2.7.6"
  }
 },
 "nbformat": 4,
 "nbformat_minor": 5
}
