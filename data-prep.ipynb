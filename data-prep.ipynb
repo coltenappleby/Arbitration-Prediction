{
 "cells": [
  {
   "cell_type": "code",
   "execution_count": 2,
   "id": "initial_id",
   "metadata": {
    "collapsed": true,
    "ExecuteTime": {
     "end_time": "2023-12-09T00:59:17.793897Z",
     "start_time": "2023-12-09T00:59:16.241387Z"
    }
   },
   "outputs": [],
   "source": [
    "import pandas as pd\n",
    "import numpy as np"
   ]
  },
  {
   "cell_type": "code",
   "execution_count": 6,
   "outputs": [],
   "source": [
    "salary_data = pd.read_csv('./data/arb_salaries_2010-2024.csv')\n",
    "mlb_stats = pd.read_csv('./data/mlb-stats-bat_cleaned.csv')\n",
    "mlb_stats['Year'] = mlb_stats['Season']+1"
   ],
   "metadata": {
    "collapsed": false,
    "ExecuteTime": {
     "end_time": "2023-12-09T01:07:40.782159Z",
     "start_time": "2023-12-09T01:07:40.668910Z"
    }
   },
   "id": "776dd9b2309c9ae0"
  },
  {
   "cell_type": "code",
   "execution_count": 5,
   "outputs": [],
   "source": [
    "# # Arb Hitters\n",
    "# arb_bat = salary_data[~salary_data['Position'].str.contains('hp')]\n",
    "# arb_bat.head()\n",
    "# \n",
    "# # Arb Pitchers\n",
    "# arb_pitch = arbs[arbs['Position'].str.contains('hp')]\n",
    "# arb_pitch.head()"
   ],
   "metadata": {
    "collapsed": false,
    "ExecuteTime": {
     "end_time": "2023-12-06T23:08:51.962486Z",
     "start_time": "2023-12-06T23:08:51.942849Z"
    }
   },
   "id": "6a09c99b27ec393"
  },
  {
   "cell_type": "code",
   "execution_count": 17,
   "outputs": [
    {
     "data": {
      "text/plain": "                Player  Service  Year  Next Year Salary     Salary  \\\n0           Adam Jones    3.139  2011         3250000.0   465000.0   \n1     Alberto Callaspo    3.135  2011         2000000.0   460000.0   \n2     Alberto Gonzalez    2.135  2011          600000.0   415500.0   \n3          Alex Gordon    3.092  2011         1400000.0  1150000.0   \n4        Alexi Casilla    3.038  2011          865000.0   437500.0   \n...                ...      ...   ...               ...        ...   \n2529        J.D. Davis    4.137  2023         4210000.0  2760000.0   \n2541    Andrew Knizner    3.021  2023         1100000.0   718300.0   \n2552      Ryan O'Hearn    4.002  2023         1400000.0  1300000.0   \n2553       Ji-Man Choi    5.076  2023         4650000.0  3200000.0   \n2561       Jared Walsh    3.010  2023         2650000.0   730000.0   \n\n      Salary Diff  Season   Age      G     PA  ...  cum_sum_CS  cum_sum_BB  \\\n0       2785000.0  2010.0  24.0  149.0  621.0  ...        16.0        88.0   \n1       1540000.0  2010.0  27.0  146.0  601.0  ...         7.0       115.0   \n2        184500.0  2010.0  27.0  115.0  198.0  ...         3.0        30.0   \n3        250000.0  2010.0  26.0   74.0  281.0  ...        11.0       162.0   \n4        427500.0  2010.0  25.0   69.0  170.0  ...         4.0        77.0   \n...           ...     ...   ...    ...    ...  ...         ...         ...   \n2529    1450000.0  2022.0  29.0  115.0  365.0  ...         2.0       146.0   \n2541     381700.0  2022.0  27.0   97.0  293.0  ...         1.0        50.0   \n2552     100000.0  2022.0  28.0   67.0  145.0  ...         1.0        98.0   \n2553    1450000.0  2022.0  31.0  113.0  419.0  ...         7.0       231.0   \n2561    1920000.0  2022.0  28.0  118.0  454.0  ...         2.0        86.0   \n\n      cum_sum_SO  cum_sum_TB  cum_sum_GDP  cum_sum_HBP  cum_sum_SH  \\\n0          363.0       713.0         45.0         28.0         5.0   \n1          127.0       604.0         51.0          3.0         3.0   \n2           72.0       196.0         23.0          5.0         7.0   \n3          362.0       584.0         34.0         23.0         5.0   \n4          128.0       313.0         24.0          5.0        24.0   \n...          ...         ...          ...          ...         ...   \n2529       392.0       554.0         45.0         23.0         0.0   \n2541       120.0       141.0         21.0         11.0         1.0   \n2552       287.0       374.0         21.0          6.0         0.0   \n2553       441.0       627.0         20.0         13.0         0.0   \n2561       340.0       518.0         13.0         11.0         0.0   \n\n      cum_sum_SF  cum_sum_IBB  cum_sum_WAR  \n0           10.0          4.0     5.528901  \n1           14.0          7.0     2.709052  \n2            7.0          1.0    -0.732835  \n3            9.0         10.0     4.641154  \n4            9.0          0.0     0.167453  \n...          ...          ...          ...  \n2529         8.0          5.0     4.569049  \n2541         1.0          2.0    -1.739919  \n2552         7.0          3.0    -1.416611  \n2553        17.0          9.0     4.787123  \n2561         6.0         11.0     2.304774  \n\n[1124 rows x 53 columns]",
      "text/html": "<div>\n<style scoped>\n    .dataframe tbody tr th:only-of-type {\n        vertical-align: middle;\n    }\n\n    .dataframe tbody tr th {\n        vertical-align: top;\n    }\n\n    .dataframe thead th {\n        text-align: right;\n    }\n</style>\n<table border=\"1\" class=\"dataframe\">\n  <thead>\n    <tr style=\"text-align: right;\">\n      <th></th>\n      <th>Player</th>\n      <th>Service</th>\n      <th>Year</th>\n      <th>Next Year Salary</th>\n      <th>Salary</th>\n      <th>Salary Diff</th>\n      <th>Season</th>\n      <th>Age</th>\n      <th>G</th>\n      <th>PA</th>\n      <th>...</th>\n      <th>cum_sum_CS</th>\n      <th>cum_sum_BB</th>\n      <th>cum_sum_SO</th>\n      <th>cum_sum_TB</th>\n      <th>cum_sum_GDP</th>\n      <th>cum_sum_HBP</th>\n      <th>cum_sum_SH</th>\n      <th>cum_sum_SF</th>\n      <th>cum_sum_IBB</th>\n      <th>cum_sum_WAR</th>\n    </tr>\n  </thead>\n  <tbody>\n    <tr>\n      <th>0</th>\n      <td>Adam Jones</td>\n      <td>3.139</td>\n      <td>2011</td>\n      <td>3250000.0</td>\n      <td>465000.0</td>\n      <td>2785000.0</td>\n      <td>2010.0</td>\n      <td>24.0</td>\n      <td>149.0</td>\n      <td>621.0</td>\n      <td>...</td>\n      <td>16.0</td>\n      <td>88.0</td>\n      <td>363.0</td>\n      <td>713.0</td>\n      <td>45.0</td>\n      <td>28.0</td>\n      <td>5.0</td>\n      <td>10.0</td>\n      <td>4.0</td>\n      <td>5.528901</td>\n    </tr>\n    <tr>\n      <th>1</th>\n      <td>Alberto Callaspo</td>\n      <td>3.135</td>\n      <td>2011</td>\n      <td>2000000.0</td>\n      <td>460000.0</td>\n      <td>1540000.0</td>\n      <td>2010.0</td>\n      <td>27.0</td>\n      <td>146.0</td>\n      <td>601.0</td>\n      <td>...</td>\n      <td>7.0</td>\n      <td>115.0</td>\n      <td>127.0</td>\n      <td>604.0</td>\n      <td>51.0</td>\n      <td>3.0</td>\n      <td>3.0</td>\n      <td>14.0</td>\n      <td>7.0</td>\n      <td>2.709052</td>\n    </tr>\n    <tr>\n      <th>2</th>\n      <td>Alberto Gonzalez</td>\n      <td>2.135</td>\n      <td>2011</td>\n      <td>600000.0</td>\n      <td>415500.0</td>\n      <td>184500.0</td>\n      <td>2010.0</td>\n      <td>27.0</td>\n      <td>115.0</td>\n      <td>198.0</td>\n      <td>...</td>\n      <td>3.0</td>\n      <td>30.0</td>\n      <td>72.0</td>\n      <td>196.0</td>\n      <td>23.0</td>\n      <td>5.0</td>\n      <td>7.0</td>\n      <td>7.0</td>\n      <td>1.0</td>\n      <td>-0.732835</td>\n    </tr>\n    <tr>\n      <th>3</th>\n      <td>Alex Gordon</td>\n      <td>3.092</td>\n      <td>2011</td>\n      <td>1400000.0</td>\n      <td>1150000.0</td>\n      <td>250000.0</td>\n      <td>2010.0</td>\n      <td>26.0</td>\n      <td>74.0</td>\n      <td>281.0</td>\n      <td>...</td>\n      <td>11.0</td>\n      <td>162.0</td>\n      <td>362.0</td>\n      <td>584.0</td>\n      <td>34.0</td>\n      <td>23.0</td>\n      <td>5.0</td>\n      <td>9.0</td>\n      <td>10.0</td>\n      <td>4.641154</td>\n    </tr>\n    <tr>\n      <th>4</th>\n      <td>Alexi Casilla</td>\n      <td>3.038</td>\n      <td>2011</td>\n      <td>865000.0</td>\n      <td>437500.0</td>\n      <td>427500.0</td>\n      <td>2010.0</td>\n      <td>25.0</td>\n      <td>69.0</td>\n      <td>170.0</td>\n      <td>...</td>\n      <td>4.0</td>\n      <td>77.0</td>\n      <td>128.0</td>\n      <td>313.0</td>\n      <td>24.0</td>\n      <td>5.0</td>\n      <td>24.0</td>\n      <td>9.0</td>\n      <td>0.0</td>\n      <td>0.167453</td>\n    </tr>\n    <tr>\n      <th>...</th>\n      <td>...</td>\n      <td>...</td>\n      <td>...</td>\n      <td>...</td>\n      <td>...</td>\n      <td>...</td>\n      <td>...</td>\n      <td>...</td>\n      <td>...</td>\n      <td>...</td>\n      <td>...</td>\n      <td>...</td>\n      <td>...</td>\n      <td>...</td>\n      <td>...</td>\n      <td>...</td>\n      <td>...</td>\n      <td>...</td>\n      <td>...</td>\n      <td>...</td>\n      <td>...</td>\n    </tr>\n    <tr>\n      <th>2529</th>\n      <td>J.D. Davis</td>\n      <td>4.137</td>\n      <td>2023</td>\n      <td>4210000.0</td>\n      <td>2760000.0</td>\n      <td>1450000.0</td>\n      <td>2022.0</td>\n      <td>29.0</td>\n      <td>115.0</td>\n      <td>365.0</td>\n      <td>...</td>\n      <td>2.0</td>\n      <td>146.0</td>\n      <td>392.0</td>\n      <td>554.0</td>\n      <td>45.0</td>\n      <td>23.0</td>\n      <td>0.0</td>\n      <td>8.0</td>\n      <td>5.0</td>\n      <td>4.569049</td>\n    </tr>\n    <tr>\n      <th>2541</th>\n      <td>Andrew Knizner</td>\n      <td>3.021</td>\n      <td>2023</td>\n      <td>1100000.0</td>\n      <td>718300.0</td>\n      <td>381700.0</td>\n      <td>2022.0</td>\n      <td>27.0</td>\n      <td>97.0</td>\n      <td>293.0</td>\n      <td>...</td>\n      <td>1.0</td>\n      <td>50.0</td>\n      <td>120.0</td>\n      <td>141.0</td>\n      <td>21.0</td>\n      <td>11.0</td>\n      <td>1.0</td>\n      <td>1.0</td>\n      <td>2.0</td>\n      <td>-1.739919</td>\n    </tr>\n    <tr>\n      <th>2552</th>\n      <td>Ryan O'Hearn</td>\n      <td>4.002</td>\n      <td>2023</td>\n      <td>1400000.0</td>\n      <td>1300000.0</td>\n      <td>100000.0</td>\n      <td>2022.0</td>\n      <td>28.0</td>\n      <td>67.0</td>\n      <td>145.0</td>\n      <td>...</td>\n      <td>1.0</td>\n      <td>98.0</td>\n      <td>287.0</td>\n      <td>374.0</td>\n      <td>21.0</td>\n      <td>6.0</td>\n      <td>0.0</td>\n      <td>7.0</td>\n      <td>3.0</td>\n      <td>-1.416611</td>\n    </tr>\n    <tr>\n      <th>2553</th>\n      <td>Ji-Man Choi</td>\n      <td>5.076</td>\n      <td>2023</td>\n      <td>4650000.0</td>\n      <td>3200000.0</td>\n      <td>1450000.0</td>\n      <td>2022.0</td>\n      <td>31.0</td>\n      <td>113.0</td>\n      <td>419.0</td>\n      <td>...</td>\n      <td>7.0</td>\n      <td>231.0</td>\n      <td>441.0</td>\n      <td>627.0</td>\n      <td>20.0</td>\n      <td>13.0</td>\n      <td>0.0</td>\n      <td>17.0</td>\n      <td>9.0</td>\n      <td>4.787123</td>\n    </tr>\n    <tr>\n      <th>2561</th>\n      <td>Jared Walsh</td>\n      <td>3.010</td>\n      <td>2023</td>\n      <td>2650000.0</td>\n      <td>730000.0</td>\n      <td>1920000.0</td>\n      <td>2022.0</td>\n      <td>28.0</td>\n      <td>118.0</td>\n      <td>454.0</td>\n      <td>...</td>\n      <td>2.0</td>\n      <td>86.0</td>\n      <td>340.0</td>\n      <td>518.0</td>\n      <td>13.0</td>\n      <td>11.0</td>\n      <td>0.0</td>\n      <td>6.0</td>\n      <td>11.0</td>\n      <td>2.304774</td>\n    </tr>\n  </tbody>\n</table>\n<p>1124 rows × 53 columns</p>\n</div>"
     },
     "execution_count": 17,
     "metadata": {},
     "output_type": "execute_result"
    }
   ],
   "source": [
    "arb_data_with_stats = pd.merge(salary_data, mlb_stats, on=['first_name', 'last_name', 'Year'], how='left')\n",
    "arb_stats_bats = arb_data_with_stats[~arb_data_with_stats['Season'].isna()]\n",
    "arb_stats_bats = arb_stats_bats[~arb_stats_bats['Salary Diff'].isna()]\n",
    "arb_stats_bats.drop(['Team', 'Extension', 'Non-Tendered', 'Outrighted', 'first_name', 'last_name', 'Source', 'PlayerNameRoute', 'xMLBAMID'], axis=1, inplace=True)\n",
    "# drop all of hte nan\n",
    "arb_stats_bats.dropna(inplace=True)\n",
    "arb_stats_bats"
   ],
   "metadata": {
    "collapsed": false,
    "ExecuteTime": {
     "end_time": "2023-12-09T01:19:48.341060Z",
     "start_time": "2023-12-09T01:19:48.292975Z"
    }
   },
   "id": "e65b05cf4d8d8be9"
  },
  {
   "cell_type": "code",
   "execution_count": 18,
   "outputs": [
    {
     "data": {
      "text/plain": "(2887, 62)"
     },
     "execution_count": 18,
     "metadata": {},
     "output_type": "execute_result"
    }
   ],
   "source": [
    "arb_data_with_stats.to_csv('./data/arb-data-with-stats_bats.csv', index=False)\n",
    "arb_data_with_stats.shape\n"
   ],
   "metadata": {
    "collapsed": false,
    "ExecuteTime": {
     "end_time": "2023-12-09T01:19:51.084568Z",
     "start_time": "2023-12-09T01:19:50.969545Z"
    }
   },
   "id": "23665ceb2a62b527"
  },
  {
   "cell_type": "code",
   "execution_count": 19,
   "outputs": [
    {
     "data": {
      "text/plain": "Player              0\nService             0\nYear                0\nNext Year Salary    0\nSalary              0\nSalary Diff         0\nSeason              0\nAge                 0\nG                   0\nPA                  0\nAB                  0\nR                   0\nH                   0\n2B                  0\n3B                  0\nHR                  0\nRBI                 0\nSB                  0\nCS                  0\nBB                  0\nSO                  0\nAVG                 0\nOBP                 0\nSLG                 0\nOPS                 0\nGDP                 0\nHBP                 0\nSH                  0\nSF                  0\nIBB                 0\nWAR                 0\nDefense             0\nTB                  0\ncum_sum_G           0\ncum_sum_PA          0\ncum_sum_AB          0\ncum_sum_R           0\ncum_sum_H           0\ncum_sum_2B          0\ncum_sum_3B          0\ncum_sum_HR          0\ncum_sum_RBI         0\ncum_sum_SB          0\ncum_sum_CS          0\ncum_sum_BB          0\ncum_sum_SO          0\ncum_sum_TB          0\ncum_sum_GDP         0\ncum_sum_HBP         0\ncum_sum_SH          0\ncum_sum_SF          0\ncum_sum_IBB         0\ncum_sum_WAR         0\ndtype: int64"
     },
     "execution_count": 19,
     "metadata": {},
     "output_type": "execute_result"
    }
   ],
   "source": [
    "#sum all of the nan in the dataframe\n",
    "arb_stats_bats.isna().sum()"
   ],
   "metadata": {
    "collapsed": false,
    "ExecuteTime": {
     "end_time": "2023-12-09T01:19:54.166469Z",
     "start_time": "2023-12-09T01:19:54.146551Z"
    }
   },
   "id": "727f2d516fdd3d2"
  },
  {
   "cell_type": "code",
   "execution_count": null,
   "outputs": [],
   "source": [],
   "metadata": {
    "collapsed": false
   },
   "id": "4849817348da93fb"
  }
 ],
 "metadata": {
  "kernelspec": {
   "display_name": "Python 3",
   "language": "python",
   "name": "python3"
  },
  "language_info": {
   "codemirror_mode": {
    "name": "ipython",
    "version": 2
   },
   "file_extension": ".py",
   "mimetype": "text/x-python",
   "name": "python",
   "nbconvert_exporter": "python",
   "pygments_lexer": "ipython2",
   "version": "2.7.6"
  }
 },
 "nbformat": 4,
 "nbformat_minor": 5
}
