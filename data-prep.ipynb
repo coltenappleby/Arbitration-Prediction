{
 "cells": [
  {
   "cell_type": "code",
   "execution_count": 1,
   "id": "initial_id",
   "metadata": {
    "collapsed": true,
    "ExecuteTime": {
     "end_time": "2023-12-01T19:18:29.635405Z",
     "start_time": "2023-12-01T19:18:28.281830Z"
    }
   },
   "outputs": [],
   "source": [
    "import pandas as pd\n",
    "import numpy as np"
   ]
  },
  {
   "cell_type": "code",
   "execution_count": 40,
   "outputs": [],
   "source": [
    "arb1 = pd.read_csv('./data/arb-data-2018-2022.csv')\n",
    "arb2 = pd.read_csv('./data/arb-data-2023-2024.csv')"
   ],
   "metadata": {
    "collapsed": false,
    "ExecuteTime": {
     "end_time": "2023-12-01T19:47:59.901255Z",
     "start_time": "2023-12-01T19:47:59.885361Z"
    }
   },
   "id": "bf0cf2bbe11cd4f3"
  },
  {
   "cell_type": "code",
   "execution_count": 41,
   "outputs": [
    {
     "name": "stdout",
     "output_type": "stream",
     "text": [
      "(1285, 12)\n",
      "(614, 12)\n"
     ]
    },
    {
     "data": {
      "text/plain": "              Player  Season Club Position    MLS Year WAR/WARP  Career WARP  \\\n0  Blackmon, Charlie    2018  COL       cf  5.102           7.9         18.0   \n1       Bryant, Kris    2018  CHN       3b  2.171           6.6         21.5   \n2    Rendon, Anthony    2018  WAS       3b  4.130           6.2         17.7   \n3     Ozuna, Marcell    2018  SLN       lf  4.124           6.1         14.8   \n4      deGrom, Jacob    2018  NYN    rhp-s  3.139           5.9         17.1   \n\n   Year Salary Player Request Club Offer Next Year Salary Estimate/Notes  \n0  $7,300,000             NaN        NaN     $14,000,000             NaN  \n1  $1,050,000             NaN        NaN     $10,850,000             NaN  \n2  $5,800,000             NaN        NaN     $12,300,000             NaN  \n3  $3,500,000             NaN        NaN      $9,000,000             NaN  \n4  $4,050,000             NaN        NaN      $7,400,000             NaN  ",
      "text/html": "<div>\n<style scoped>\n    .dataframe tbody tr th:only-of-type {\n        vertical-align: middle;\n    }\n\n    .dataframe tbody tr th {\n        vertical-align: top;\n    }\n\n    .dataframe thead th {\n        text-align: right;\n    }\n</style>\n<table border=\"1\" class=\"dataframe\">\n  <thead>\n    <tr style=\"text-align: right;\">\n      <th></th>\n      <th>Player</th>\n      <th>Season</th>\n      <th>Club</th>\n      <th>Position</th>\n      <th>MLS</th>\n      <th>Year WAR/WARP</th>\n      <th>Career WARP</th>\n      <th>Year Salary</th>\n      <th>Player Request</th>\n      <th>Club Offer</th>\n      <th>Next Year Salary</th>\n      <th>Estimate/Notes</th>\n    </tr>\n  </thead>\n  <tbody>\n    <tr>\n      <th>0</th>\n      <td>Blackmon, Charlie</td>\n      <td>2018</td>\n      <td>COL</td>\n      <td>cf</td>\n      <td>5.102</td>\n      <td>7.9</td>\n      <td>18.0</td>\n      <td>$7,300,000</td>\n      <td>NaN</td>\n      <td>NaN</td>\n      <td>$14,000,000</td>\n      <td>NaN</td>\n    </tr>\n    <tr>\n      <th>1</th>\n      <td>Bryant, Kris</td>\n      <td>2018</td>\n      <td>CHN</td>\n      <td>3b</td>\n      <td>2.171</td>\n      <td>6.6</td>\n      <td>21.5</td>\n      <td>$1,050,000</td>\n      <td>NaN</td>\n      <td>NaN</td>\n      <td>$10,850,000</td>\n      <td>NaN</td>\n    </tr>\n    <tr>\n      <th>2</th>\n      <td>Rendon, Anthony</td>\n      <td>2018</td>\n      <td>WAS</td>\n      <td>3b</td>\n      <td>4.130</td>\n      <td>6.2</td>\n      <td>17.7</td>\n      <td>$5,800,000</td>\n      <td>NaN</td>\n      <td>NaN</td>\n      <td>$12,300,000</td>\n      <td>NaN</td>\n    </tr>\n    <tr>\n      <th>3</th>\n      <td>Ozuna, Marcell</td>\n      <td>2018</td>\n      <td>SLN</td>\n      <td>lf</td>\n      <td>4.124</td>\n      <td>6.1</td>\n      <td>14.8</td>\n      <td>$3,500,000</td>\n      <td>NaN</td>\n      <td>NaN</td>\n      <td>$9,000,000</td>\n      <td>NaN</td>\n    </tr>\n    <tr>\n      <th>4</th>\n      <td>deGrom, Jacob</td>\n      <td>2018</td>\n      <td>NYN</td>\n      <td>rhp-s</td>\n      <td>3.139</td>\n      <td>5.9</td>\n      <td>17.1</td>\n      <td>$4,050,000</td>\n      <td>NaN</td>\n      <td>NaN</td>\n      <td>$7,400,000</td>\n      <td>NaN</td>\n    </tr>\n  </tbody>\n</table>\n</div>"
     },
     "execution_count": 41,
     "metadata": {},
     "output_type": "execute_result"
    }
   ],
   "source": [
    "print(arb1.shape)\n",
    "print(arb2.shape)\n",
    "arb1.head()\n"
   ],
   "metadata": {
    "collapsed": false,
    "ExecuteTime": {
     "end_time": "2023-12-01T19:48:00.483906Z",
     "start_time": "2023-12-01T19:48:00.454521Z"
    }
   },
   "id": "fe2bcef380c087d"
  },
  {
   "cell_type": "code",
   "execution_count": 42,
   "outputs": [
    {
     "data": {
      "text/plain": "(1899, 12)"
     },
     "execution_count": 42,
     "metadata": {},
     "output_type": "execute_result"
    }
   ],
   "source": [
    "arb1['Estimate/Notes'] = arb1['Estimate/Notes'].astype(str)\n",
    "arb2['Estimate/Notes'] = arb2['Estimate/Notes'].astype(str)\n",
    "arbs = pd.concat([arb1, arb2], ignore_index=True)\n",
    "arbs.to_csv('./data/all-arb-data.csv', index=False)\n",
    "arbs.shape"
   ],
   "metadata": {
    "collapsed": false,
    "ExecuteTime": {
     "end_time": "2023-12-01T19:48:03.091239Z",
     "start_time": "2023-12-01T19:48:03.073804Z"
    }
   },
   "id": "5c9481ad3550f6e0"
  },
  {
   "cell_type": "code",
   "execution_count": 48,
   "outputs": [
    {
     "ename": "ValueError",
     "evalue": "Unable to parse string \"2 y/27.5 extn\" at position 478",
     "output_type": "error",
     "traceback": [
      "\u001B[0;31m---------------------------------------------------------------------------\u001B[0m",
      "\u001B[0;31mValueError\u001B[0m                                Traceback (most recent call last)",
      "File \u001B[0;32mlib.pyx:2368\u001B[0m, in \u001B[0;36mpandas._libs.lib.maybe_convert_numeric\u001B[0;34m()\u001B[0m\n",
      "\u001B[0;31mValueError\u001B[0m: Unable to parse string \"2 y/27.5 extn\"",
      "\nDuring handling of the above exception, another exception occurred:\n",
      "\u001B[0;31mValueError\u001B[0m                                Traceback (most recent call last)",
      "Cell \u001B[0;32mIn[48], line 4\u001B[0m\n\u001B[1;32m      2\u001B[0m \u001B[38;5;66;03m# Remove dollar sign and commas, then convert to numeric\u001B[39;00m\n\u001B[1;32m      3\u001B[0m arbs[\u001B[38;5;124m'\u001B[39m\u001B[38;5;124mYear Salary\u001B[39m\u001B[38;5;124m'\u001B[39m] \u001B[38;5;241m=\u001B[39m pd\u001B[38;5;241m.\u001B[39mto_numeric(arbs[\u001B[38;5;124m'\u001B[39m\u001B[38;5;124mYear Salary\u001B[39m\u001B[38;5;124m'\u001B[39m]\u001B[38;5;241m.\u001B[39mreplace(\u001B[38;5;124m'\u001B[39m\u001B[38;5;124m[\u001B[39m\u001B[38;5;124m\\\u001B[39m\u001B[38;5;124m$,]\u001B[39m\u001B[38;5;124m'\u001B[39m, \u001B[38;5;124m'\u001B[39m\u001B[38;5;124m'\u001B[39m, regex\u001B[38;5;241m=\u001B[39m\u001B[38;5;28;01mTrue\u001B[39;00m))\n\u001B[0;32m----> 4\u001B[0m arbs[\u001B[38;5;124m'\u001B[39m\u001B[38;5;124mNext Year Salary\u001B[39m\u001B[38;5;124m'\u001B[39m] \u001B[38;5;241m=\u001B[39m pd\u001B[38;5;241m.\u001B[39mto_numeric(arbs[\u001B[38;5;124m'\u001B[39m\u001B[38;5;124mNext Year Salary\u001B[39m\u001B[38;5;124m'\u001B[39m]\u001B[38;5;241m.\u001B[39mreplace(\u001B[38;5;124m'\u001B[39m\u001B[38;5;124m[\u001B[39m\u001B[38;5;124m\\\u001B[39m\u001B[38;5;124m$,]\u001B[39m\u001B[38;5;124m'\u001B[39m, \u001B[38;5;124m'\u001B[39m\u001B[38;5;124m'\u001B[39m, regex\u001B[38;5;241m=\u001B[39m\u001B[38;5;28;01mTrue\u001B[39;00m))\n\u001B[1;32m      5\u001B[0m arbs\u001B[38;5;241m.\u001B[39mhead()\n",
      "File \u001B[0;32m~/miniconda3/envs/baseball/lib/python3.11/site-packages/pandas/core/tools/numeric.py:222\u001B[0m, in \u001B[0;36mto_numeric\u001B[0;34m(arg, errors, downcast, dtype_backend)\u001B[0m\n\u001B[1;32m    220\u001B[0m coerce_numeric \u001B[38;5;241m=\u001B[39m errors \u001B[38;5;129;01mnot\u001B[39;00m \u001B[38;5;129;01min\u001B[39;00m (\u001B[38;5;124m\"\u001B[39m\u001B[38;5;124mignore\u001B[39m\u001B[38;5;124m\"\u001B[39m, \u001B[38;5;124m\"\u001B[39m\u001B[38;5;124mraise\u001B[39m\u001B[38;5;124m\"\u001B[39m)\n\u001B[1;32m    221\u001B[0m \u001B[38;5;28;01mtry\u001B[39;00m:\n\u001B[0;32m--> 222\u001B[0m     values, new_mask \u001B[38;5;241m=\u001B[39m lib\u001B[38;5;241m.\u001B[39mmaybe_convert_numeric(  \u001B[38;5;66;03m# type: ignore[call-overload]  # noqa: E501\u001B[39;00m\n\u001B[1;32m    223\u001B[0m         values,\n\u001B[1;32m    224\u001B[0m         \u001B[38;5;28mset\u001B[39m(),\n\u001B[1;32m    225\u001B[0m         coerce_numeric\u001B[38;5;241m=\u001B[39mcoerce_numeric,\n\u001B[1;32m    226\u001B[0m         convert_to_masked_nullable\u001B[38;5;241m=\u001B[39mdtype_backend \u001B[38;5;129;01mis\u001B[39;00m \u001B[38;5;129;01mnot\u001B[39;00m lib\u001B[38;5;241m.\u001B[39mno_default\n\u001B[1;32m    227\u001B[0m         \u001B[38;5;129;01mor\u001B[39;00m \u001B[38;5;28misinstance\u001B[39m(values_dtype, StringDtype),\n\u001B[1;32m    228\u001B[0m     )\n\u001B[1;32m    229\u001B[0m \u001B[38;5;28;01mexcept\u001B[39;00m (\u001B[38;5;167;01mValueError\u001B[39;00m, \u001B[38;5;167;01mTypeError\u001B[39;00m):\n\u001B[1;32m    230\u001B[0m     \u001B[38;5;28;01mif\u001B[39;00m errors \u001B[38;5;241m==\u001B[39m \u001B[38;5;124m\"\u001B[39m\u001B[38;5;124mraise\u001B[39m\u001B[38;5;124m\"\u001B[39m:\n",
      "File \u001B[0;32mlib.pyx:2410\u001B[0m, in \u001B[0;36mpandas._libs.lib.maybe_convert_numeric\u001B[0;34m()\u001B[0m\n",
      "\u001B[0;31mValueError\u001B[0m: Unable to parse string \"2 y/27.5 extn\" at position 478"
     ]
    }
   ],
   "source": [
    "arbs = pd.read_csv('./data/all-arb-data.csv')\n",
    "# Remove dollar sign and commas, then convert to numeric\n",
    "arbs['Year Salary'] = pd.to_numeric(arbs['Year Salary'].replace('[\\$,]', '', regex=True))\n",
    "# arbs['Next Year Salary'] = pd.to_numeric(arbs['Next Year Salary'].replace('[\\$,]', '', regex=True))\n",
    "arbs.head()"
   ],
   "metadata": {
    "collapsed": false,
    "ExecuteTime": {
     "end_time": "2023-12-01T19:53:21.598563Z",
     "start_time": "2023-12-01T19:53:21.526929Z"
    }
   },
   "id": "6529e3d0a06cbe72"
  },
  {
   "cell_type": "code",
   "execution_count": 63,
   "outputs": [
    {
     "data": {
      "text/plain": "             Player  Season Club Position    MLS Year WAR/WARP  Career WARP  \\\n4     deGrom, Jacob    2018  NYN    rhp-s  3.139           5.9         17.1   \n8   Keuchel, Dallas    2018  HOU    lhp-s  5.089           4.7         19.6   \n12  Stroman, Marcus    2018  TOR    rhp-s  3.148           4.4         11.5   \n14      Gray, Sonny    2018  NYA    rhp-s  4.061           4.2         17.4   \n18    Nelson, Jimmy    2018  MIL    rhp-s  3.107           3.9          4.5   \n\n    Year Salary Player Request   Club Offer Next Year Salary Estimate/Notes  \n4     4050000.0            NaN          NaN      $7,400,000             NaN  \n8     9150000.0            NaN          NaN     $13,200,000             NaN  \n12    3400000.0    $6,500,000   $6,900,000       $6,500,000             NaN  \n14    3575000.0            NaN          NaN      $6,500,000             NaN  \n18     547000.0            NaN          NaN      $3,700,000             NaN  ",
      "text/html": "<div>\n<style scoped>\n    .dataframe tbody tr th:only-of-type {\n        vertical-align: middle;\n    }\n\n    .dataframe tbody tr th {\n        vertical-align: top;\n    }\n\n    .dataframe thead th {\n        text-align: right;\n    }\n</style>\n<table border=\"1\" class=\"dataframe\">\n  <thead>\n    <tr style=\"text-align: right;\">\n      <th></th>\n      <th>Player</th>\n      <th>Season</th>\n      <th>Club</th>\n      <th>Position</th>\n      <th>MLS</th>\n      <th>Year WAR/WARP</th>\n      <th>Career WARP</th>\n      <th>Year Salary</th>\n      <th>Player Request</th>\n      <th>Club Offer</th>\n      <th>Next Year Salary</th>\n      <th>Estimate/Notes</th>\n    </tr>\n  </thead>\n  <tbody>\n    <tr>\n      <th>4</th>\n      <td>deGrom, Jacob</td>\n      <td>2018</td>\n      <td>NYN</td>\n      <td>rhp-s</td>\n      <td>3.139</td>\n      <td>5.9</td>\n      <td>17.1</td>\n      <td>4050000.0</td>\n      <td>NaN</td>\n      <td>NaN</td>\n      <td>$7,400,000</td>\n      <td>NaN</td>\n    </tr>\n    <tr>\n      <th>8</th>\n      <td>Keuchel, Dallas</td>\n      <td>2018</td>\n      <td>HOU</td>\n      <td>lhp-s</td>\n      <td>5.089</td>\n      <td>4.7</td>\n      <td>19.6</td>\n      <td>9150000.0</td>\n      <td>NaN</td>\n      <td>NaN</td>\n      <td>$13,200,000</td>\n      <td>NaN</td>\n    </tr>\n    <tr>\n      <th>12</th>\n      <td>Stroman, Marcus</td>\n      <td>2018</td>\n      <td>TOR</td>\n      <td>rhp-s</td>\n      <td>3.148</td>\n      <td>4.4</td>\n      <td>11.5</td>\n      <td>3400000.0</td>\n      <td>$6,500,000</td>\n      <td>$6,900,000</td>\n      <td>$6,500,000</td>\n      <td>NaN</td>\n    </tr>\n    <tr>\n      <th>14</th>\n      <td>Gray, Sonny</td>\n      <td>2018</td>\n      <td>NYA</td>\n      <td>rhp-s</td>\n      <td>4.061</td>\n      <td>4.2</td>\n      <td>17.4</td>\n      <td>3575000.0</td>\n      <td>NaN</td>\n      <td>NaN</td>\n      <td>$6,500,000</td>\n      <td>NaN</td>\n    </tr>\n    <tr>\n      <th>18</th>\n      <td>Nelson, Jimmy</td>\n      <td>2018</td>\n      <td>MIL</td>\n      <td>rhp-s</td>\n      <td>3.107</td>\n      <td>3.9</td>\n      <td>4.5</td>\n      <td>547000.0</td>\n      <td>NaN</td>\n      <td>NaN</td>\n      <td>$3,700,000</td>\n      <td>NaN</td>\n    </tr>\n  </tbody>\n</table>\n</div>"
     },
     "execution_count": 63,
     "metadata": {},
     "output_type": "execute_result"
    }
   ],
   "source": [
    "# Arb Hitters\n",
    "arb_bat = arbs[~arbs['Position'].str.contains('hp')]\n",
    "arb_bat.head()\n",
    "\n",
    "# Arb Pitchers\n",
    "arb_pitch = arbs[arbs['Position'].str.contains('hp')]\n",
    "arb_pitch.head()"
   ],
   "metadata": {
    "collapsed": false,
    "ExecuteTime": {
     "end_time": "2023-12-01T20:54:33.115001Z",
     "start_time": "2023-12-01T20:54:33.094756Z"
    }
   },
   "id": "6a09c99b27ec393"
  },
  {
   "cell_type": "code",
   "execution_count": 50,
   "outputs": [
    {
     "data": {
      "text/plain": "             Player  Season Club Position    MLS Year WAR/WARP  Career WARP  \\\n4     deGrom, Jacob    2018  NYN    rhp-s  3.139           5.9         17.1   \n8   Keuchel, Dallas    2018  HOU    lhp-s  5.089           4.7         19.6   \n12  Stroman, Marcus    2018  TOR    rhp-s  3.148           4.4         11.5   \n14      Gray, Sonny    2018  NYA    rhp-s  4.061           4.2         17.4   \n18    Nelson, Jimmy    2018  MIL    rhp-s  3.107           3.9          4.5   \n\n    Year Salary Player Request   Club Offer Next Year Salary Estimate/Notes  \n4     4050000.0            NaN          NaN      $7,400,000             NaN  \n8     9150000.0            NaN          NaN     $13,200,000             NaN  \n12    3400000.0    $6,500,000   $6,900,000       $6,500,000             NaN  \n14    3575000.0            NaN          NaN      $6,500,000             NaN  \n18     547000.0            NaN          NaN      $3,700,000             NaN  ",
      "text/html": "<div>\n<style scoped>\n    .dataframe tbody tr th:only-of-type {\n        vertical-align: middle;\n    }\n\n    .dataframe tbody tr th {\n        vertical-align: top;\n    }\n\n    .dataframe thead th {\n        text-align: right;\n    }\n</style>\n<table border=\"1\" class=\"dataframe\">\n  <thead>\n    <tr style=\"text-align: right;\">\n      <th></th>\n      <th>Player</th>\n      <th>Season</th>\n      <th>Club</th>\n      <th>Position</th>\n      <th>MLS</th>\n      <th>Year WAR/WARP</th>\n      <th>Career WARP</th>\n      <th>Year Salary</th>\n      <th>Player Request</th>\n      <th>Club Offer</th>\n      <th>Next Year Salary</th>\n      <th>Estimate/Notes</th>\n    </tr>\n  </thead>\n  <tbody>\n    <tr>\n      <th>4</th>\n      <td>deGrom, Jacob</td>\n      <td>2018</td>\n      <td>NYN</td>\n      <td>rhp-s</td>\n      <td>3.139</td>\n      <td>5.9</td>\n      <td>17.1</td>\n      <td>4050000.0</td>\n      <td>NaN</td>\n      <td>NaN</td>\n      <td>$7,400,000</td>\n      <td>NaN</td>\n    </tr>\n    <tr>\n      <th>8</th>\n      <td>Keuchel, Dallas</td>\n      <td>2018</td>\n      <td>HOU</td>\n      <td>lhp-s</td>\n      <td>5.089</td>\n      <td>4.7</td>\n      <td>19.6</td>\n      <td>9150000.0</td>\n      <td>NaN</td>\n      <td>NaN</td>\n      <td>$13,200,000</td>\n      <td>NaN</td>\n    </tr>\n    <tr>\n      <th>12</th>\n      <td>Stroman, Marcus</td>\n      <td>2018</td>\n      <td>TOR</td>\n      <td>rhp-s</td>\n      <td>3.148</td>\n      <td>4.4</td>\n      <td>11.5</td>\n      <td>3400000.0</td>\n      <td>$6,500,000</td>\n      <td>$6,900,000</td>\n      <td>$6,500,000</td>\n      <td>NaN</td>\n    </tr>\n    <tr>\n      <th>14</th>\n      <td>Gray, Sonny</td>\n      <td>2018</td>\n      <td>NYA</td>\n      <td>rhp-s</td>\n      <td>4.061</td>\n      <td>4.2</td>\n      <td>17.4</td>\n      <td>3575000.0</td>\n      <td>NaN</td>\n      <td>NaN</td>\n      <td>$6,500,000</td>\n      <td>NaN</td>\n    </tr>\n    <tr>\n      <th>18</th>\n      <td>Nelson, Jimmy</td>\n      <td>2018</td>\n      <td>MIL</td>\n      <td>rhp-s</td>\n      <td>3.107</td>\n      <td>3.9</td>\n      <td>4.5</td>\n      <td>547000.0</td>\n      <td>NaN</td>\n      <td>NaN</td>\n      <td>$3,700,000</td>\n      <td>NaN</td>\n    </tr>\n  </tbody>\n</table>\n</div>"
     },
     "execution_count": 50,
     "metadata": {},
     "output_type": "execute_result"
    }
   ],
   "source": [],
   "metadata": {
    "collapsed": false,
    "ExecuteTime": {
     "end_time": "2023-12-01T20:15:17.599103Z",
     "start_time": "2023-12-01T20:15:17.581108Z"
    }
   },
   "id": "944700ac25ed1c13"
  },
  {
   "cell_type": "code",
   "execution_count": 76,
   "outputs": [
    {
     "data": {
      "text/plain": "  key_person                              key_uuid  key_mlbam key_retro  \\\n0   000007d9  000007d9-a2b6-47fd-bc61-e582f190e74a   472542.0       NaN   \n1   000018b8  000018b8-a25e-45b8-b060-5c4877cb84cc   572962.0       NaN   \n2   00002834  00002834-fa3c-48c4-842a-fc1308cbb4d3        NaN       NaN   \n3   00002901  00002901-1af6-4911-abe4-ec261b5f492c        NaN       NaN   \n4   000045b3  000045b3-e249-4d07-becf-dcce89efe4fd        NaN       NaN   \n\n  key_bbref key_bbref_minors  key_fangraphs  key_npb key_sr_nfl key_sr_nba  \\\n0       NaN     garcia001ado            NaN      NaN        NaN        NaN   \n1       NaN     kaupan001ste            NaN      NaN        NaN        NaN   \n2       NaN     smith-001ado            NaN      NaN        NaN        NaN   \n3       NaN     decarl000lou            NaN      NaN        NaN        NaN   \n4       NaN     spaine001har            NaN      NaN        NaN        NaN   \n\n   ... pro_managed_first  pro_managed_last mlb_managed_first mlb_managed_last  \\\n0  ...               NaN               NaN               NaN              NaN   \n1  ...               NaN               NaN               NaN              NaN   \n2  ...               NaN               NaN               NaN              NaN   \n3  ...               NaN               NaN               NaN              NaN   \n4  ...               NaN               NaN               NaN              NaN   \n\n  col_managed_first col_managed_last pro_umpired_first pro_umpired_last  \\\n0               NaN              NaN               NaN              NaN   \n1               NaN              NaN               NaN              NaN   \n2               NaN              NaN               NaN              NaN   \n3               NaN              NaN               NaN              NaN   \n4               NaN              NaN               NaN              NaN   \n\n   mlb_umpired_first  mlb_umpired_last  \n0                NaN               NaN  \n1                NaN               NaN  \n2                NaN               NaN  \n3                NaN               NaN  \n4                NaN               NaN  \n\n[5 rows x 40 columns]",
      "text/html": "<div>\n<style scoped>\n    .dataframe tbody tr th:only-of-type {\n        vertical-align: middle;\n    }\n\n    .dataframe tbody tr th {\n        vertical-align: top;\n    }\n\n    .dataframe thead th {\n        text-align: right;\n    }\n</style>\n<table border=\"1\" class=\"dataframe\">\n  <thead>\n    <tr style=\"text-align: right;\">\n      <th></th>\n      <th>key_person</th>\n      <th>key_uuid</th>\n      <th>key_mlbam</th>\n      <th>key_retro</th>\n      <th>key_bbref</th>\n      <th>key_bbref_minors</th>\n      <th>key_fangraphs</th>\n      <th>key_npb</th>\n      <th>key_sr_nfl</th>\n      <th>key_sr_nba</th>\n      <th>...</th>\n      <th>pro_managed_first</th>\n      <th>pro_managed_last</th>\n      <th>mlb_managed_first</th>\n      <th>mlb_managed_last</th>\n      <th>col_managed_first</th>\n      <th>col_managed_last</th>\n      <th>pro_umpired_first</th>\n      <th>pro_umpired_last</th>\n      <th>mlb_umpired_first</th>\n      <th>mlb_umpired_last</th>\n    </tr>\n  </thead>\n  <tbody>\n    <tr>\n      <th>0</th>\n      <td>000007d9</td>\n      <td>000007d9-a2b6-47fd-bc61-e582f190e74a</td>\n      <td>472542.0</td>\n      <td>NaN</td>\n      <td>NaN</td>\n      <td>garcia001ado</td>\n      <td>NaN</td>\n      <td>NaN</td>\n      <td>NaN</td>\n      <td>NaN</td>\n      <td>...</td>\n      <td>NaN</td>\n      <td>NaN</td>\n      <td>NaN</td>\n      <td>NaN</td>\n      <td>NaN</td>\n      <td>NaN</td>\n      <td>NaN</td>\n      <td>NaN</td>\n      <td>NaN</td>\n      <td>NaN</td>\n    </tr>\n    <tr>\n      <th>1</th>\n      <td>000018b8</td>\n      <td>000018b8-a25e-45b8-b060-5c4877cb84cc</td>\n      <td>572962.0</td>\n      <td>NaN</td>\n      <td>NaN</td>\n      <td>kaupan001ste</td>\n      <td>NaN</td>\n      <td>NaN</td>\n      <td>NaN</td>\n      <td>NaN</td>\n      <td>...</td>\n      <td>NaN</td>\n      <td>NaN</td>\n      <td>NaN</td>\n      <td>NaN</td>\n      <td>NaN</td>\n      <td>NaN</td>\n      <td>NaN</td>\n      <td>NaN</td>\n      <td>NaN</td>\n      <td>NaN</td>\n    </tr>\n    <tr>\n      <th>2</th>\n      <td>00002834</td>\n      <td>00002834-fa3c-48c4-842a-fc1308cbb4d3</td>\n      <td>NaN</td>\n      <td>NaN</td>\n      <td>NaN</td>\n      <td>smith-001ado</td>\n      <td>NaN</td>\n      <td>NaN</td>\n      <td>NaN</td>\n      <td>NaN</td>\n      <td>...</td>\n      <td>NaN</td>\n      <td>NaN</td>\n      <td>NaN</td>\n      <td>NaN</td>\n      <td>NaN</td>\n      <td>NaN</td>\n      <td>NaN</td>\n      <td>NaN</td>\n      <td>NaN</td>\n      <td>NaN</td>\n    </tr>\n    <tr>\n      <th>3</th>\n      <td>00002901</td>\n      <td>00002901-1af6-4911-abe4-ec261b5f492c</td>\n      <td>NaN</td>\n      <td>NaN</td>\n      <td>NaN</td>\n      <td>decarl000lou</td>\n      <td>NaN</td>\n      <td>NaN</td>\n      <td>NaN</td>\n      <td>NaN</td>\n      <td>...</td>\n      <td>NaN</td>\n      <td>NaN</td>\n      <td>NaN</td>\n      <td>NaN</td>\n      <td>NaN</td>\n      <td>NaN</td>\n      <td>NaN</td>\n      <td>NaN</td>\n      <td>NaN</td>\n      <td>NaN</td>\n    </tr>\n    <tr>\n      <th>4</th>\n      <td>000045b3</td>\n      <td>000045b3-e249-4d07-becf-dcce89efe4fd</td>\n      <td>NaN</td>\n      <td>NaN</td>\n      <td>NaN</td>\n      <td>spaine001har</td>\n      <td>NaN</td>\n      <td>NaN</td>\n      <td>NaN</td>\n      <td>NaN</td>\n      <td>...</td>\n      <td>NaN</td>\n      <td>NaN</td>\n      <td>NaN</td>\n      <td>NaN</td>\n      <td>NaN</td>\n      <td>NaN</td>\n      <td>NaN</td>\n      <td>NaN</td>\n      <td>NaN</td>\n      <td>NaN</td>\n    </tr>\n  </tbody>\n</table>\n<p>5 rows × 40 columns</p>\n</div>"
     },
     "execution_count": 76,
     "metadata": {},
     "output_type": "execute_result"
    }
   ],
   "source": [
    "### Player Lookup\n",
    "file_names = ['0', '1', '2', '3', '4', '5', '6', '7', '8', '9', 'a', 'b', 'c', 'd', 'e', 'f']\n",
    "\n",
    "player_lookup = pd.DataFrame()\n",
    "for file in file_names:\n",
    "    df = pd.read_csv(f'./data/player-id/people-{file}.csv', low_memory=False)\n",
    "    \n",
    "    player_lookup = pd.concat([player_lookup, df], ignore_index=True)\n",
    "player_lookup.head()\n"
   ],
   "metadata": {
    "collapsed": false,
    "ExecuteTime": {
     "end_time": "2023-12-01T21:05:13.106302Z",
     "start_time": "2023-12-01T21:05:09.797168Z"
    }
   },
   "id": "ae71d46aa7e59ca7"
  },
  {
   "cell_type": "code",
   "execution_count": 77,
   "outputs": [
    {
     "name": "stdout",
     "output_type": "stream",
     "text": [
      "448390    Mike\n",
      "Name: name_first, dtype: object\n"
     ]
    }
   ],
   "source": [
    "print(player_lookup[player_lookup['key_fangraphs'] == 10155]['name_first'])"
   ],
   "metadata": {
    "collapsed": false,
    "ExecuteTime": {
     "end_time": "2023-12-01T21:05:19.000416Z",
     "start_time": "2023-12-01T21:05:18.985113Z"
    }
   },
   "id": "5836ef3eee1cd328"
  },
  {
   "cell_type": "code",
   "execution_count": 126,
   "outputs": [
    {
     "name": "stderr",
     "output_type": "stream",
     "text": [
      "/var/folders/mx/7b6cg1qd6ngdttv8tfdhzc1m0000gn/T/ipykernel_14731/1675751672.py:3: SettingWithCopyWarning: \n",
      "A value is trying to be set on a copy of a slice from a DataFrame.\n",
      "Try using .loc[row_indexer,col_indexer] = value instead\n",
      "\n",
      "See the caveats in the documentation: https://pandas.pydata.org/pandas-docs/stable/user_guide/indexing.html#returning-a-view-versus-a-copy\n",
      "  arb_bat[['last_name', 'first_name']]  = split_names\n",
      "/var/folders/mx/7b6cg1qd6ngdttv8tfdhzc1m0000gn/T/ipykernel_14731/1675751672.py:3: SettingWithCopyWarning: \n",
      "A value is trying to be set on a copy of a slice from a DataFrame.\n",
      "Try using .loc[row_indexer,col_indexer] = value instead\n",
      "\n",
      "See the caveats in the documentation: https://pandas.pydata.org/pandas-docs/stable/user_guide/indexing.html#returning-a-view-versus-a-copy\n",
      "  arb_bat[['last_name', 'first_name']]  = split_names\n"
     ]
    },
    {
     "data": {
      "text/plain": "              Player  Season Club Position    MLS Year WAR/WARP  Career WARP  \\\n0  Blackmon, Charlie    2018  COL       cf  5.102           7.9         18.0   \n1       Bryant, Kris    2018  CHN       3b  2.171           6.6         21.5   \n2    Rendon, Anthony    2018  WAS       3b  4.130           6.2         17.7   \n3     Ozuna, Marcell    2018  SLN       lf  4.124           6.1         14.8   \n5      Betts, Mookie    2018  BOS       rf  3.070           5.5         20.4   \n\n   Year Salary Player Request    Club Offer Next Year Salary Estimate/Notes  \\\n0    7300000.0            NaN           NaN     $14,000,000             NaN   \n1    1050000.0            NaN           NaN     $10,850,000             NaN   \n2    5800000.0            NaN           NaN     $12,300,000             NaN   \n3    3500000.0            NaN           NaN      $9,000,000             NaN   \n5     950000.0    $7,500,000   $10,500,000      $10,500,000             NaN   \n\n  last_name first_name  \n0  Blackmon    Charlie  \n1    Bryant       Kris  \n2    Rendon    Anthony  \n3     Ozuna    Marcell  \n5     Betts     Mookie  ",
      "text/html": "<div>\n<style scoped>\n    .dataframe tbody tr th:only-of-type {\n        vertical-align: middle;\n    }\n\n    .dataframe tbody tr th {\n        vertical-align: top;\n    }\n\n    .dataframe thead th {\n        text-align: right;\n    }\n</style>\n<table border=\"1\" class=\"dataframe\">\n  <thead>\n    <tr style=\"text-align: right;\">\n      <th></th>\n      <th>Player</th>\n      <th>Season</th>\n      <th>Club</th>\n      <th>Position</th>\n      <th>MLS</th>\n      <th>Year WAR/WARP</th>\n      <th>Career WARP</th>\n      <th>Year Salary</th>\n      <th>Player Request</th>\n      <th>Club Offer</th>\n      <th>Next Year Salary</th>\n      <th>Estimate/Notes</th>\n      <th>last_name</th>\n      <th>first_name</th>\n    </tr>\n  </thead>\n  <tbody>\n    <tr>\n      <th>0</th>\n      <td>Blackmon, Charlie</td>\n      <td>2018</td>\n      <td>COL</td>\n      <td>cf</td>\n      <td>5.102</td>\n      <td>7.9</td>\n      <td>18.0</td>\n      <td>7300000.0</td>\n      <td>NaN</td>\n      <td>NaN</td>\n      <td>$14,000,000</td>\n      <td>NaN</td>\n      <td>Blackmon</td>\n      <td>Charlie</td>\n    </tr>\n    <tr>\n      <th>1</th>\n      <td>Bryant, Kris</td>\n      <td>2018</td>\n      <td>CHN</td>\n      <td>3b</td>\n      <td>2.171</td>\n      <td>6.6</td>\n      <td>21.5</td>\n      <td>1050000.0</td>\n      <td>NaN</td>\n      <td>NaN</td>\n      <td>$10,850,000</td>\n      <td>NaN</td>\n      <td>Bryant</td>\n      <td>Kris</td>\n    </tr>\n    <tr>\n      <th>2</th>\n      <td>Rendon, Anthony</td>\n      <td>2018</td>\n      <td>WAS</td>\n      <td>3b</td>\n      <td>4.130</td>\n      <td>6.2</td>\n      <td>17.7</td>\n      <td>5800000.0</td>\n      <td>NaN</td>\n      <td>NaN</td>\n      <td>$12,300,000</td>\n      <td>NaN</td>\n      <td>Rendon</td>\n      <td>Anthony</td>\n    </tr>\n    <tr>\n      <th>3</th>\n      <td>Ozuna, Marcell</td>\n      <td>2018</td>\n      <td>SLN</td>\n      <td>lf</td>\n      <td>4.124</td>\n      <td>6.1</td>\n      <td>14.8</td>\n      <td>3500000.0</td>\n      <td>NaN</td>\n      <td>NaN</td>\n      <td>$9,000,000</td>\n      <td>NaN</td>\n      <td>Ozuna</td>\n      <td>Marcell</td>\n    </tr>\n    <tr>\n      <th>5</th>\n      <td>Betts, Mookie</td>\n      <td>2018</td>\n      <td>BOS</td>\n      <td>rf</td>\n      <td>3.070</td>\n      <td>5.5</td>\n      <td>20.4</td>\n      <td>950000.0</td>\n      <td>$7,500,000</td>\n      <td>$10,500,000</td>\n      <td>$10,500,000</td>\n      <td>NaN</td>\n      <td>Betts</td>\n      <td>Mookie</td>\n    </tr>\n  </tbody>\n</table>\n</div>"
     },
     "execution_count": 126,
     "metadata": {},
     "output_type": "execute_result"
    }
   ],
   "source": [
    "arb_bat = arbs[~arbs['Position'].str.contains('hp')]\n",
    "split_names = arb_bat['Player'].str.split(', ', n=1, expand=True)\n",
    "arb_bat[['last_name', 'first_name']]  = split_names\n",
    "arb_bat.head()"
   ],
   "metadata": {
    "collapsed": false,
    "ExecuteTime": {
     "end_time": "2023-12-01T21:47:32.116871Z",
     "start_time": "2023-12-01T21:47:32.092207Z"
    }
   },
   "id": "4cebbd23767c8ce6"
  },
  {
   "cell_type": "code",
   "execution_count": 122,
   "outputs": [
    {
     "data": {
      "text/plain": "  Bats  xMLBAMID                                               Name  \\\n0    R    545361  <a href=\"statss.aspx?playerid=10155&position=O...   \n1    R    605141  <a href=\"statss.aspx?playerid=13611&position=O...   \n2    L    518692  <a href=\"statss.aspx?playerid=5361&position=1B...   \n3    R    457763  <a href=\"statss.aspx?playerid=9166&position=C\"...   \n4    R    502671  <a href=\"statss.aspx?playerid=9218&position=1B...   \n\n                                                Team  Season   Age     AgeR  \\\n0  <a href=\"leaders.aspx?pos=all&stats=bat&lg=all...    2011  25.0  19 - 31   \n1                                              - - -    2014  26.0  21 - 30   \n2                                              - - -    2010  27.0  20 - 33   \n3  <a href=\"leaders.aspx?pos=all&stats=bat&lg=all...    2010  28.0  23 - 34   \n4                                              - - -    2011  29.0  23 - 35   \n\n   SeasonMin  SeasonMax       G  ...     TPA   PlayerNameRoute  \\\n0       2011       2023  1489.0  ...  6521.0        Mike Trout   \n1       2014       2023  1265.0  ...  5757.0      Mookie Betts   \n2       2010       2023  1885.0  ...  8098.0   Freddie Freeman   \n3       2010       2021  1364.0  ...  5590.0      Buster Posey   \n4       2011       2023  1774.0  ...  7638.0  Paul Goldschmidt   \n\n         PlayerName  playerid  TeamName  TeamNameAbb  teamid     Pos  \\\n0        Mike Trout     10155       LAA          LAA       1  0.0488   \n1      Mookie Betts     13611     - - -        2 Tms       0  0.0105   \n2   Freddie Freeman      5361     - - -        2 Tms       0  0.0016   \n3      Buster Posey      9166       SFG          SFG      30  0.0230   \n4  Paul Goldschmidt      9218     - - -        2 Tms       0  0.0347   \n\n   first_name    last_name  \n0        Mike        Trout  \n1      Mookie        Betts  \n2     Freddie      Freeman  \n3      Buster        Posey  \n4        Paul  Goldschmidt  \n\n[5 rows x 359 columns]",
      "text/html": "<div>\n<style scoped>\n    .dataframe tbody tr th:only-of-type {\n        vertical-align: middle;\n    }\n\n    .dataframe tbody tr th {\n        vertical-align: top;\n    }\n\n    .dataframe thead th {\n        text-align: right;\n    }\n</style>\n<table border=\"1\" class=\"dataframe\">\n  <thead>\n    <tr style=\"text-align: right;\">\n      <th></th>\n      <th>Bats</th>\n      <th>xMLBAMID</th>\n      <th>Name</th>\n      <th>Team</th>\n      <th>Season</th>\n      <th>Age</th>\n      <th>AgeR</th>\n      <th>SeasonMin</th>\n      <th>SeasonMax</th>\n      <th>G</th>\n      <th>...</th>\n      <th>TPA</th>\n      <th>PlayerNameRoute</th>\n      <th>PlayerName</th>\n      <th>playerid</th>\n      <th>TeamName</th>\n      <th>TeamNameAbb</th>\n      <th>teamid</th>\n      <th>Pos</th>\n      <th>first_name</th>\n      <th>last_name</th>\n    </tr>\n  </thead>\n  <tbody>\n    <tr>\n      <th>0</th>\n      <td>R</td>\n      <td>545361</td>\n      <td>&lt;a href=\"statss.aspx?playerid=10155&amp;position=O...</td>\n      <td>&lt;a href=\"leaders.aspx?pos=all&amp;stats=bat&amp;lg=all...</td>\n      <td>2011</td>\n      <td>25.0</td>\n      <td>19 - 31</td>\n      <td>2011</td>\n      <td>2023</td>\n      <td>1489.0</td>\n      <td>...</td>\n      <td>6521.0</td>\n      <td>Mike Trout</td>\n      <td>Mike Trout</td>\n      <td>10155</td>\n      <td>LAA</td>\n      <td>LAA</td>\n      <td>1</td>\n      <td>0.0488</td>\n      <td>Mike</td>\n      <td>Trout</td>\n    </tr>\n    <tr>\n      <th>1</th>\n      <td>R</td>\n      <td>605141</td>\n      <td>&lt;a href=\"statss.aspx?playerid=13611&amp;position=O...</td>\n      <td>- - -</td>\n      <td>2014</td>\n      <td>26.0</td>\n      <td>21 - 30</td>\n      <td>2014</td>\n      <td>2023</td>\n      <td>1265.0</td>\n      <td>...</td>\n      <td>5757.0</td>\n      <td>Mookie Betts</td>\n      <td>Mookie Betts</td>\n      <td>13611</td>\n      <td>- - -</td>\n      <td>2 Tms</td>\n      <td>0</td>\n      <td>0.0105</td>\n      <td>Mookie</td>\n      <td>Betts</td>\n    </tr>\n    <tr>\n      <th>2</th>\n      <td>L</td>\n      <td>518692</td>\n      <td>&lt;a href=\"statss.aspx?playerid=5361&amp;position=1B...</td>\n      <td>- - -</td>\n      <td>2010</td>\n      <td>27.0</td>\n      <td>20 - 33</td>\n      <td>2010</td>\n      <td>2023</td>\n      <td>1885.0</td>\n      <td>...</td>\n      <td>8098.0</td>\n      <td>Freddie Freeman</td>\n      <td>Freddie Freeman</td>\n      <td>5361</td>\n      <td>- - -</td>\n      <td>2 Tms</td>\n      <td>0</td>\n      <td>0.0016</td>\n      <td>Freddie</td>\n      <td>Freeman</td>\n    </tr>\n    <tr>\n      <th>3</th>\n      <td>R</td>\n      <td>457763</td>\n      <td>&lt;a href=\"statss.aspx?playerid=9166&amp;position=C\"...</td>\n      <td>&lt;a href=\"leaders.aspx?pos=all&amp;stats=bat&amp;lg=all...</td>\n      <td>2010</td>\n      <td>28.0</td>\n      <td>23 - 34</td>\n      <td>2010</td>\n      <td>2021</td>\n      <td>1364.0</td>\n      <td>...</td>\n      <td>5590.0</td>\n      <td>Buster Posey</td>\n      <td>Buster Posey</td>\n      <td>9166</td>\n      <td>SFG</td>\n      <td>SFG</td>\n      <td>30</td>\n      <td>0.0230</td>\n      <td>Buster</td>\n      <td>Posey</td>\n    </tr>\n    <tr>\n      <th>4</th>\n      <td>R</td>\n      <td>502671</td>\n      <td>&lt;a href=\"statss.aspx?playerid=9218&amp;position=1B...</td>\n      <td>- - -</td>\n      <td>2011</td>\n      <td>29.0</td>\n      <td>23 - 35</td>\n      <td>2011</td>\n      <td>2023</td>\n      <td>1774.0</td>\n      <td>...</td>\n      <td>7638.0</td>\n      <td>Paul Goldschmidt</td>\n      <td>Paul Goldschmidt</td>\n      <td>9218</td>\n      <td>- - -</td>\n      <td>2 Tms</td>\n      <td>0</td>\n      <td>0.0347</td>\n      <td>Paul</td>\n      <td>Goldschmidt</td>\n    </tr>\n  </tbody>\n</table>\n<p>5 rows × 359 columns</p>\n</div>"
     },
     "execution_count": 122,
     "metadata": {},
     "output_type": "execute_result"
    }
   ],
   "source": [
    "# MLB_STATS\n",
    "mlb_stats = pd.read_csv('./data/mlb-stats-bat-2010-2023.csv')\n",
    "split_names = mlb_stats['PlayerNameRoute'].str.split(' ', n=1, expand=True)\n",
    "mlb_stats[['first_name', 'last_name']]  = split_names\n",
    "# REMOVE PLAYERS WITH THE SAME NAME\n",
    "# duplicates = arb_bat.duplicated(subset=['first_name', 'last_name', 'Season'])\n",
    "# # Get the indices of rows where duplicates is True\n",
    "# duplicate_indices = arb_bat.loc[duplicates, ['first_name', 'last_name', 'Season']]\n",
    "# # Print the indices of duplicate rows\n",
    "# print(\"Indices of Duplicate Rows:\")\n",
    "# print(duplicate_indices)\n",
    "# Drop rows where playerName is 'Mookie Betts'\n",
    "mlb_stats = mlb_stats[mlb_stats['PlayerNameRoute'] != 'Chris Young']\n",
    "# Drop rows where playerName is 'Mookie Betts'\n",
    "mlb_stats = mlb_stats[mlb_stats['PlayerNameRoute'] != 'Chris Carter']\n",
    "# Drop rows where playerName is 'Mookie Betts'\n",
    "mlb_stats = mlb_stats[mlb_stats['PlayerNameRoute'] != 'Luis Garcia']\n",
    "mlb_stats.head()"
   ],
   "metadata": {
    "collapsed": false,
    "ExecuteTime": {
     "end_time": "2023-12-01T21:46:37.421892Z",
     "start_time": "2023-12-01T21:46:37.202167Z"
    }
   },
   "id": "5f3967c83d95516d"
  },
  {
   "cell_type": "code",
   "execution_count": 145,
   "outputs": [
    {
     "data": {
      "text/plain": "              Player  Season Club Position    MLS Year WAR/WARP  Career WARP  \\\n0  Blackmon, Charlie    2018  COL       cf  5.102           7.9         18.0   \n1       Bryant, Kris    2018  CHN       3b  2.171           6.6         21.5   \n2    Rendon, Anthony    2018  WAS       3b  4.130           6.2         17.7   \n3     Ozuna, Marcell    2018  SLN       lf  4.124           6.1         14.8   \n4      Betts, Mookie    2014  BOS       rf  3.070           5.5         20.4   \n\n   Year Salary Player Request    Club Offer  ...       Q      TG     TPA  \\\n0    7300000.0            NaN           NaN  ...     NaN     NaN     NaN   \n1    1050000.0            NaN           NaN  ...     NaN     NaN     NaN   \n2    5800000.0            NaN           NaN  ...     NaN     NaN     NaN   \n3    3500000.0            NaN           NaN  ...     NaN     NaN     NaN   \n4     950000.0    $7,500,000   $10,500,000   ...  3.7925  1518.0  5757.0   \n\n  PlayerNameRoute    PlayerName  playerid TeamName TeamNameAbb  teamid     Pos  \n0             NaN           NaN       NaN      NaN         NaN     NaN     NaN  \n1             NaN           NaN       NaN      NaN         NaN     NaN     NaN  \n2             NaN           NaN       NaN      NaN         NaN     NaN     NaN  \n3             NaN           NaN       NaN      NaN         NaN     NaN     NaN  \n4    Mookie Betts  Mookie Betts   13611.0    - - -       2 Tms     0.0  0.0105  \n\n[5 rows x 370 columns]",
      "text/html": "<div>\n<style scoped>\n    .dataframe tbody tr th:only-of-type {\n        vertical-align: middle;\n    }\n\n    .dataframe tbody tr th {\n        vertical-align: top;\n    }\n\n    .dataframe thead th {\n        text-align: right;\n    }\n</style>\n<table border=\"1\" class=\"dataframe\">\n  <thead>\n    <tr style=\"text-align: right;\">\n      <th></th>\n      <th>Player</th>\n      <th>Season</th>\n      <th>Club</th>\n      <th>Position</th>\n      <th>MLS</th>\n      <th>Year WAR/WARP</th>\n      <th>Career WARP</th>\n      <th>Year Salary</th>\n      <th>Player Request</th>\n      <th>Club Offer</th>\n      <th>...</th>\n      <th>Q</th>\n      <th>TG</th>\n      <th>TPA</th>\n      <th>PlayerNameRoute</th>\n      <th>PlayerName</th>\n      <th>playerid</th>\n      <th>TeamName</th>\n      <th>TeamNameAbb</th>\n      <th>teamid</th>\n      <th>Pos</th>\n    </tr>\n  </thead>\n  <tbody>\n    <tr>\n      <th>0</th>\n      <td>Blackmon, Charlie</td>\n      <td>2018</td>\n      <td>COL</td>\n      <td>cf</td>\n      <td>5.102</td>\n      <td>7.9</td>\n      <td>18.0</td>\n      <td>7300000.0</td>\n      <td>NaN</td>\n      <td>NaN</td>\n      <td>...</td>\n      <td>NaN</td>\n      <td>NaN</td>\n      <td>NaN</td>\n      <td>NaN</td>\n      <td>NaN</td>\n      <td>NaN</td>\n      <td>NaN</td>\n      <td>NaN</td>\n      <td>NaN</td>\n      <td>NaN</td>\n    </tr>\n    <tr>\n      <th>1</th>\n      <td>Bryant, Kris</td>\n      <td>2018</td>\n      <td>CHN</td>\n      <td>3b</td>\n      <td>2.171</td>\n      <td>6.6</td>\n      <td>21.5</td>\n      <td>1050000.0</td>\n      <td>NaN</td>\n      <td>NaN</td>\n      <td>...</td>\n      <td>NaN</td>\n      <td>NaN</td>\n      <td>NaN</td>\n      <td>NaN</td>\n      <td>NaN</td>\n      <td>NaN</td>\n      <td>NaN</td>\n      <td>NaN</td>\n      <td>NaN</td>\n      <td>NaN</td>\n    </tr>\n    <tr>\n      <th>2</th>\n      <td>Rendon, Anthony</td>\n      <td>2018</td>\n      <td>WAS</td>\n      <td>3b</td>\n      <td>4.130</td>\n      <td>6.2</td>\n      <td>17.7</td>\n      <td>5800000.0</td>\n      <td>NaN</td>\n      <td>NaN</td>\n      <td>...</td>\n      <td>NaN</td>\n      <td>NaN</td>\n      <td>NaN</td>\n      <td>NaN</td>\n      <td>NaN</td>\n      <td>NaN</td>\n      <td>NaN</td>\n      <td>NaN</td>\n      <td>NaN</td>\n      <td>NaN</td>\n    </tr>\n    <tr>\n      <th>3</th>\n      <td>Ozuna, Marcell</td>\n      <td>2018</td>\n      <td>SLN</td>\n      <td>lf</td>\n      <td>4.124</td>\n      <td>6.1</td>\n      <td>14.8</td>\n      <td>3500000.0</td>\n      <td>NaN</td>\n      <td>NaN</td>\n      <td>...</td>\n      <td>NaN</td>\n      <td>NaN</td>\n      <td>NaN</td>\n      <td>NaN</td>\n      <td>NaN</td>\n      <td>NaN</td>\n      <td>NaN</td>\n      <td>NaN</td>\n      <td>NaN</td>\n      <td>NaN</td>\n    </tr>\n    <tr>\n      <th>4</th>\n      <td>Betts, Mookie</td>\n      <td>2014</td>\n      <td>BOS</td>\n      <td>rf</td>\n      <td>3.070</td>\n      <td>5.5</td>\n      <td>20.4</td>\n      <td>950000.0</td>\n      <td>$7,500,000</td>\n      <td>$10,500,000</td>\n      <td>...</td>\n      <td>3.7925</td>\n      <td>1518.0</td>\n      <td>5757.0</td>\n      <td>Mookie Betts</td>\n      <td>Mookie Betts</td>\n      <td>13611.0</td>\n      <td>- - -</td>\n      <td>2 Tms</td>\n      <td>0.0</td>\n      <td>0.0105</td>\n    </tr>\n  </tbody>\n</table>\n<p>5 rows × 370 columns</p>\n</div>"
     },
     "execution_count": 145,
     "metadata": {},
     "output_type": "execute_result"
    }
   ],
   "source": [
    "arb_data_with_stats = pd.merge(arb_bat, mlb_stats, on=['first_name', 'last_name', 'Season'], how='left')\n",
    "\n",
    "arb_data_with_stats.head()"
   ],
   "metadata": {
    "collapsed": false,
    "ExecuteTime": {
     "end_time": "2023-12-01T22:00:36.088774Z",
     "start_time": "2023-12-01T22:00:36.052339Z"
    }
   },
   "id": "e65b05cf4d8d8be9"
  },
  {
   "cell_type": "code",
   "execution_count": 146,
   "outputs": [
    {
     "data": {
      "text/plain": "(826, 370)"
     },
     "execution_count": 146,
     "metadata": {},
     "output_type": "execute_result"
    }
   ],
   "source": [
    "arb_data_with_stats.to_csv('./data/arb-data-with-stats.csv', index=False)\n",
    "arb_data_with_stats.shape"
   ],
   "metadata": {
    "collapsed": false,
    "ExecuteTime": {
     "end_time": "2023-12-01T22:00:38.803767Z",
     "start_time": "2023-12-01T22:00:38.684494Z"
    }
   },
   "id": "23665ceb2a62b527"
  },
  {
   "cell_type": "code",
   "execution_count": 151,
   "outputs": [
    {
     "data": {
      "text/plain": "(531, 30)"
     },
     "execution_count": 151,
     "metadata": {},
     "output_type": "execute_result"
    }
   ],
   "source": [
    "cleaned_data = pd.read_csv('./data/arb-data-with-stats.csv')\n",
    "\n",
    "# Convert the 'Amount' column to numeric and remove non-valid columns\n",
    "cleaned_data['Next Year Salary'] = pd.to_numeric(cleaned_data['Next Year Salary'].replace('[\\$,]', '', regex=True), errors='coerce')\n",
    "cleaned_data = cleaned_data.dropna(subset=['Next Year Salary'])\n",
    "\n",
    "# Keep only columns in the list\n",
    "columns_to_keep = ['Player', 'Season', 'MLS', 'Year Salary', 'Next Year Salary', 'Age', 'G', 'PA', 'AB', 'R', 'H', '2B', '3B', 'HR', 'RBI', 'SB', 'CS', 'BB%', 'K%', 'ISO', 'BABIP', 'AVG', 'OBP', 'SLG', 'wOBA', 'wRC+', 'playerid', 'first_name', 'last_name', 'Position']\n",
    "cleaned_data = cleaned_data.loc[:, columns_to_keep]\n",
    "\n",
    "cleaned_data.to_csv('./data/arb-predictor-data.csv', index=False)\n",
    "cleaned_data.shape"
   ],
   "metadata": {
    "collapsed": false,
    "ExecuteTime": {
     "end_time": "2023-12-01T22:08:12.750651Z",
     "start_time": "2023-12-01T22:08:12.696174Z"
    }
   },
   "id": "e6d0bf0ab2ad25af"
  },
  {
   "cell_type": "code",
   "execution_count": null,
   "outputs": [],
   "source": [],
   "metadata": {
    "collapsed": false
   },
   "id": "b0bca3684197a887"
  }
 ],
 "metadata": {
  "kernelspec": {
   "display_name": "Python 3",
   "language": "python",
   "name": "python3"
  },
  "language_info": {
   "codemirror_mode": {
    "name": "ipython",
    "version": 2
   },
   "file_extension": ".py",
   "mimetype": "text/x-python",
   "name": "python",
   "nbconvert_exporter": "python",
   "pygments_lexer": "ipython2",
   "version": "2.7.6"
  }
 },
 "nbformat": 4,
 "nbformat_minor": 5
}
