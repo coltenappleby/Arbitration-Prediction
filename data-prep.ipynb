{
 "cells": [
  {
   "cell_type": "code",
   "execution_count": 233,
   "id": "initial_id",
   "metadata": {
    "collapsed": true,
    "ExecuteTime": {
     "end_time": "2023-12-04T22:40:46.243994Z",
     "start_time": "2023-12-04T22:40:46.211039Z"
    }
   },
   "outputs": [],
   "source": [
    "import pandas as pd\n",
    "import numpy as np"
   ]
  },
  {
   "cell_type": "code",
   "execution_count": 234,
   "outputs": [],
   "source": [
    "arb1 = pd.read_csv('./data/arb-data-2018-2022.csv')\n",
    "arb2 = pd.read_csv('./data/arb-data-2023-2024.csv')"
   ],
   "metadata": {
    "collapsed": false,
    "ExecuteTime": {
     "end_time": "2023-12-04T22:40:46.285879Z",
     "start_time": "2023-12-04T22:40:46.217555Z"
    }
   },
   "id": "bf0cf2bbe11cd4f3"
  },
  {
   "cell_type": "code",
   "execution_count": 235,
   "outputs": [
    {
     "name": "stdout",
     "output_type": "stream",
     "text": [
      "(1285, 12)\n",
      "(614, 12)\n"
     ]
    },
    {
     "data": {
      "text/plain": "              Player  Season Club Position    MLS Year WAR/WARP  Career WARP  \\\n0  Blackmon, Charlie    2018  COL       cf  5.102           7.9         18.0   \n1       Bryant, Kris    2018  CHN       3b  2.171           6.6         21.5   \n2    Rendon, Anthony    2018  WAS       3b  4.130           6.2         17.7   \n3     Ozuna, Marcell    2018  SLN       lf  4.124           6.1         14.8   \n4      deGrom, Jacob    2018  NYN    rhp-s  3.139           5.9         17.1   \n\n   Year Salary Player Request Club Offer Next Year Salary Estimate/Notes  \n0  $7,300,000             NaN        NaN     $14,000,000             NaN  \n1  $1,050,000             NaN        NaN     $10,850,000             NaN  \n2  $5,800,000             NaN        NaN     $12,300,000             NaN  \n3  $3,500,000             NaN        NaN      $9,000,000             NaN  \n4  $4,050,000             NaN        NaN      $7,400,000             NaN  ",
      "text/html": "<div>\n<style scoped>\n    .dataframe tbody tr th:only-of-type {\n        vertical-align: middle;\n    }\n\n    .dataframe tbody tr th {\n        vertical-align: top;\n    }\n\n    .dataframe thead th {\n        text-align: right;\n    }\n</style>\n<table border=\"1\" class=\"dataframe\">\n  <thead>\n    <tr style=\"text-align: right;\">\n      <th></th>\n      <th>Player</th>\n      <th>Season</th>\n      <th>Club</th>\n      <th>Position</th>\n      <th>MLS</th>\n      <th>Year WAR/WARP</th>\n      <th>Career WARP</th>\n      <th>Year Salary</th>\n      <th>Player Request</th>\n      <th>Club Offer</th>\n      <th>Next Year Salary</th>\n      <th>Estimate/Notes</th>\n    </tr>\n  </thead>\n  <tbody>\n    <tr>\n      <th>0</th>\n      <td>Blackmon, Charlie</td>\n      <td>2018</td>\n      <td>COL</td>\n      <td>cf</td>\n      <td>5.102</td>\n      <td>7.9</td>\n      <td>18.0</td>\n      <td>$7,300,000</td>\n      <td>NaN</td>\n      <td>NaN</td>\n      <td>$14,000,000</td>\n      <td>NaN</td>\n    </tr>\n    <tr>\n      <th>1</th>\n      <td>Bryant, Kris</td>\n      <td>2018</td>\n      <td>CHN</td>\n      <td>3b</td>\n      <td>2.171</td>\n      <td>6.6</td>\n      <td>21.5</td>\n      <td>$1,050,000</td>\n      <td>NaN</td>\n      <td>NaN</td>\n      <td>$10,850,000</td>\n      <td>NaN</td>\n    </tr>\n    <tr>\n      <th>2</th>\n      <td>Rendon, Anthony</td>\n      <td>2018</td>\n      <td>WAS</td>\n      <td>3b</td>\n      <td>4.130</td>\n      <td>6.2</td>\n      <td>17.7</td>\n      <td>$5,800,000</td>\n      <td>NaN</td>\n      <td>NaN</td>\n      <td>$12,300,000</td>\n      <td>NaN</td>\n    </tr>\n    <tr>\n      <th>3</th>\n      <td>Ozuna, Marcell</td>\n      <td>2018</td>\n      <td>SLN</td>\n      <td>lf</td>\n      <td>4.124</td>\n      <td>6.1</td>\n      <td>14.8</td>\n      <td>$3,500,000</td>\n      <td>NaN</td>\n      <td>NaN</td>\n      <td>$9,000,000</td>\n      <td>NaN</td>\n    </tr>\n    <tr>\n      <th>4</th>\n      <td>deGrom, Jacob</td>\n      <td>2018</td>\n      <td>NYN</td>\n      <td>rhp-s</td>\n      <td>3.139</td>\n      <td>5.9</td>\n      <td>17.1</td>\n      <td>$4,050,000</td>\n      <td>NaN</td>\n      <td>NaN</td>\n      <td>$7,400,000</td>\n      <td>NaN</td>\n    </tr>\n  </tbody>\n</table>\n</div>"
     },
     "execution_count": 235,
     "metadata": {},
     "output_type": "execute_result"
    }
   ],
   "source": [
    "print(arb1.shape)\n",
    "print(arb2.shape)\n",
    "arb1.head()\n"
   ],
   "metadata": {
    "collapsed": false,
    "ExecuteTime": {
     "end_time": "2023-12-04T22:40:46.286680Z",
     "start_time": "2023-12-04T22:40:46.258425Z"
    }
   },
   "id": "fe2bcef380c087d"
  },
  {
   "cell_type": "code",
   "execution_count": 236,
   "outputs": [
    {
     "data": {
      "text/plain": "(1899, 12)"
     },
     "execution_count": 236,
     "metadata": {},
     "output_type": "execute_result"
    }
   ],
   "source": [
    "# Clean up the data and add the years together\n",
    "arb1['Estimate/Notes'] = arb1['Estimate/Notes'].astype(str)\n",
    "arb2['Estimate/Notes'] = arb2['Estimate/Notes'].astype(str)\n",
    "arbs = pd.concat([arb1, arb2], ignore_index=True)\n",
    "# arbs['Year Salary'] = arbs['Year Salary'].str.replace('-', '')\n",
    "arbs['Year Salary'] = pd.to_numeric(arbs['Year Salary'].replace('[\\$,]', '', regex=True), errors='coerce')\n",
    "arbs.to_csv('./data/all-arb-data.csv', index=False)\n",
    "arbs.shape"
   ],
   "metadata": {
    "collapsed": false,
    "ExecuteTime": {
     "end_time": "2023-12-04T22:40:46.302231Z",
     "start_time": "2023-12-04T22:40:46.274312Z"
    }
   },
   "id": "5c9481ad3550f6e0"
  },
  {
   "cell_type": "code",
   "execution_count": 237,
   "outputs": [
    {
     "data": {
      "text/plain": "             Player  Season Club Position    MLS Year WAR/WARP  Career WARP  \\\n4     deGrom, Jacob    2018  NYN    rhp-s  3.139           5.9         17.1   \n8   Keuchel, Dallas    2018  HOU    lhp-s  5.089           4.7         19.6   \n12  Stroman, Marcus    2018  TOR    rhp-s  3.148           4.4         11.5   \n14      Gray, Sonny    2018  NYA    rhp-s  4.061           4.2         17.4   \n18    Nelson, Jimmy    2018  MIL    rhp-s  3.107           3.9          4.5   \n\n    Year Salary Player Request   Club Offer Next Year Salary Estimate/Notes  \n4     4050000.0            NaN          NaN      $7,400,000             nan  \n8     9150000.0            NaN          NaN     $13,200,000             nan  \n12    3400000.0    $6,500,000   $6,900,000       $6,500,000             nan  \n14    3575000.0            NaN          NaN      $6,500,000             nan  \n18     547000.0            NaN          NaN      $3,700,000             nan  ",
      "text/html": "<div>\n<style scoped>\n    .dataframe tbody tr th:only-of-type {\n        vertical-align: middle;\n    }\n\n    .dataframe tbody tr th {\n        vertical-align: top;\n    }\n\n    .dataframe thead th {\n        text-align: right;\n    }\n</style>\n<table border=\"1\" class=\"dataframe\">\n  <thead>\n    <tr style=\"text-align: right;\">\n      <th></th>\n      <th>Player</th>\n      <th>Season</th>\n      <th>Club</th>\n      <th>Position</th>\n      <th>MLS</th>\n      <th>Year WAR/WARP</th>\n      <th>Career WARP</th>\n      <th>Year Salary</th>\n      <th>Player Request</th>\n      <th>Club Offer</th>\n      <th>Next Year Salary</th>\n      <th>Estimate/Notes</th>\n    </tr>\n  </thead>\n  <tbody>\n    <tr>\n      <th>4</th>\n      <td>deGrom, Jacob</td>\n      <td>2018</td>\n      <td>NYN</td>\n      <td>rhp-s</td>\n      <td>3.139</td>\n      <td>5.9</td>\n      <td>17.1</td>\n      <td>4050000.0</td>\n      <td>NaN</td>\n      <td>NaN</td>\n      <td>$7,400,000</td>\n      <td>nan</td>\n    </tr>\n    <tr>\n      <th>8</th>\n      <td>Keuchel, Dallas</td>\n      <td>2018</td>\n      <td>HOU</td>\n      <td>lhp-s</td>\n      <td>5.089</td>\n      <td>4.7</td>\n      <td>19.6</td>\n      <td>9150000.0</td>\n      <td>NaN</td>\n      <td>NaN</td>\n      <td>$13,200,000</td>\n      <td>nan</td>\n    </tr>\n    <tr>\n      <th>12</th>\n      <td>Stroman, Marcus</td>\n      <td>2018</td>\n      <td>TOR</td>\n      <td>rhp-s</td>\n      <td>3.148</td>\n      <td>4.4</td>\n      <td>11.5</td>\n      <td>3400000.0</td>\n      <td>$6,500,000</td>\n      <td>$6,900,000</td>\n      <td>$6,500,000</td>\n      <td>nan</td>\n    </tr>\n    <tr>\n      <th>14</th>\n      <td>Gray, Sonny</td>\n      <td>2018</td>\n      <td>NYA</td>\n      <td>rhp-s</td>\n      <td>4.061</td>\n      <td>4.2</td>\n      <td>17.4</td>\n      <td>3575000.0</td>\n      <td>NaN</td>\n      <td>NaN</td>\n      <td>$6,500,000</td>\n      <td>nan</td>\n    </tr>\n    <tr>\n      <th>18</th>\n      <td>Nelson, Jimmy</td>\n      <td>2018</td>\n      <td>MIL</td>\n      <td>rhp-s</td>\n      <td>3.107</td>\n      <td>3.9</td>\n      <td>4.5</td>\n      <td>547000.0</td>\n      <td>NaN</td>\n      <td>NaN</td>\n      <td>$3,700,000</td>\n      <td>nan</td>\n    </tr>\n  </tbody>\n</table>\n</div>"
     },
     "execution_count": 237,
     "metadata": {},
     "output_type": "execute_result"
    }
   ],
   "source": [
    "# Arb Hitters\n",
    "arb_bat = arbs[~arbs['Position'].str.contains('hp')]\n",
    "arb_bat.head()\n",
    "\n",
    "# Arb Pitchers\n",
    "arb_pitch = arbs[arbs['Position'].str.contains('hp')]\n",
    "arb_pitch.head()"
   ],
   "metadata": {
    "collapsed": false,
    "ExecuteTime": {
     "end_time": "2023-12-04T22:40:46.357017Z",
     "start_time": "2023-12-04T22:40:46.301215Z"
    }
   },
   "id": "6a09c99b27ec393"
  },
  {
   "cell_type": "code",
   "execution_count": 238,
   "outputs": [],
   "source": [
    "# ### Player Lookup\n",
    "# file_names = ['0', '1', '2', '3', '4', '5', '6', '7', '8', '9', 'a', 'b', 'c', 'd', 'e', 'f']\n",
    "# \n",
    "# player_lookup = pd.DataFrame()\n",
    "# for file in file_names:\n",
    "#     df = pd.read_csv(f'./data/player-id/people-{file}.csv', low_memory=False)\n",
    "#     \n",
    "#     player_lookup = pd.concat([player_lookup, df], ignore_index=True)\n",
    "# player_lookup.head()\n"
   ],
   "metadata": {
    "collapsed": false,
    "ExecuteTime": {
     "end_time": "2023-12-04T22:40:46.358729Z",
     "start_time": "2023-12-04T22:40:46.319234Z"
    }
   },
   "id": "ae71d46aa7e59ca7"
  },
  {
   "cell_type": "code",
   "execution_count": 239,
   "outputs": [],
   "source": [
    "# print(player_lookup[player_lookup['key_fangraphs'] == 10155]['name_first'])"
   ],
   "metadata": {
    "collapsed": false,
    "ExecuteTime": {
     "end_time": "2023-12-04T22:40:46.383558Z",
     "start_time": "2023-12-04T22:40:46.327735Z"
    }
   },
   "id": "5836ef3eee1cd328"
  },
  {
   "cell_type": "code",
   "execution_count": 240,
   "outputs": [
    {
     "name": "stderr",
     "output_type": "stream",
     "text": [
      "/var/folders/mx/7b6cg1qd6ngdttv8tfdhzc1m0000gn/T/ipykernel_14731/1675751672.py:3: SettingWithCopyWarning: \n",
      "A value is trying to be set on a copy of a slice from a DataFrame.\n",
      "Try using .loc[row_indexer,col_indexer] = value instead\n",
      "\n",
      "See the caveats in the documentation: https://pandas.pydata.org/pandas-docs/stable/user_guide/indexing.html#returning-a-view-versus-a-copy\n",
      "  arb_bat[['last_name', 'first_name']]  = split_names\n",
      "/var/folders/mx/7b6cg1qd6ngdttv8tfdhzc1m0000gn/T/ipykernel_14731/1675751672.py:3: SettingWithCopyWarning: \n",
      "A value is trying to be set on a copy of a slice from a DataFrame.\n",
      "Try using .loc[row_indexer,col_indexer] = value instead\n",
      "\n",
      "See the caveats in the documentation: https://pandas.pydata.org/pandas-docs/stable/user_guide/indexing.html#returning-a-view-versus-a-copy\n",
      "  arb_bat[['last_name', 'first_name']]  = split_names\n"
     ]
    },
    {
     "data": {
      "text/plain": "              Player  Season Club Position    MLS Year WAR/WARP  Career WARP  \\\n0  Blackmon, Charlie    2018  COL       cf  5.102           7.9         18.0   \n1       Bryant, Kris    2018  CHN       3b  2.171           6.6         21.5   \n2    Rendon, Anthony    2018  WAS       3b  4.130           6.2         17.7   \n3     Ozuna, Marcell    2018  SLN       lf  4.124           6.1         14.8   \n5      Betts, Mookie    2018  BOS       rf  3.070           5.5         20.4   \n\n   Year Salary Player Request    Club Offer Next Year Salary Estimate/Notes  \\\n0    7300000.0            NaN           NaN     $14,000,000             nan   \n1    1050000.0            NaN           NaN     $10,850,000             nan   \n2    5800000.0            NaN           NaN     $12,300,000             nan   \n3    3500000.0            NaN           NaN      $9,000,000             nan   \n5     950000.0    $7,500,000   $10,500,000      $10,500,000             nan   \n\n  last_name first_name  \n0  Blackmon    Charlie  \n1    Bryant       Kris  \n2    Rendon    Anthony  \n3     Ozuna    Marcell  \n5     Betts     Mookie  ",
      "text/html": "<div>\n<style scoped>\n    .dataframe tbody tr th:only-of-type {\n        vertical-align: middle;\n    }\n\n    .dataframe tbody tr th {\n        vertical-align: top;\n    }\n\n    .dataframe thead th {\n        text-align: right;\n    }\n</style>\n<table border=\"1\" class=\"dataframe\">\n  <thead>\n    <tr style=\"text-align: right;\">\n      <th></th>\n      <th>Player</th>\n      <th>Season</th>\n      <th>Club</th>\n      <th>Position</th>\n      <th>MLS</th>\n      <th>Year WAR/WARP</th>\n      <th>Career WARP</th>\n      <th>Year Salary</th>\n      <th>Player Request</th>\n      <th>Club Offer</th>\n      <th>Next Year Salary</th>\n      <th>Estimate/Notes</th>\n      <th>last_name</th>\n      <th>first_name</th>\n    </tr>\n  </thead>\n  <tbody>\n    <tr>\n      <th>0</th>\n      <td>Blackmon, Charlie</td>\n      <td>2018</td>\n      <td>COL</td>\n      <td>cf</td>\n      <td>5.102</td>\n      <td>7.9</td>\n      <td>18.0</td>\n      <td>7300000.0</td>\n      <td>NaN</td>\n      <td>NaN</td>\n      <td>$14,000,000</td>\n      <td>nan</td>\n      <td>Blackmon</td>\n      <td>Charlie</td>\n    </tr>\n    <tr>\n      <th>1</th>\n      <td>Bryant, Kris</td>\n      <td>2018</td>\n      <td>CHN</td>\n      <td>3b</td>\n      <td>2.171</td>\n      <td>6.6</td>\n      <td>21.5</td>\n      <td>1050000.0</td>\n      <td>NaN</td>\n      <td>NaN</td>\n      <td>$10,850,000</td>\n      <td>nan</td>\n      <td>Bryant</td>\n      <td>Kris</td>\n    </tr>\n    <tr>\n      <th>2</th>\n      <td>Rendon, Anthony</td>\n      <td>2018</td>\n      <td>WAS</td>\n      <td>3b</td>\n      <td>4.130</td>\n      <td>6.2</td>\n      <td>17.7</td>\n      <td>5800000.0</td>\n      <td>NaN</td>\n      <td>NaN</td>\n      <td>$12,300,000</td>\n      <td>nan</td>\n      <td>Rendon</td>\n      <td>Anthony</td>\n    </tr>\n    <tr>\n      <th>3</th>\n      <td>Ozuna, Marcell</td>\n      <td>2018</td>\n      <td>SLN</td>\n      <td>lf</td>\n      <td>4.124</td>\n      <td>6.1</td>\n      <td>14.8</td>\n      <td>3500000.0</td>\n      <td>NaN</td>\n      <td>NaN</td>\n      <td>$9,000,000</td>\n      <td>nan</td>\n      <td>Ozuna</td>\n      <td>Marcell</td>\n    </tr>\n    <tr>\n      <th>5</th>\n      <td>Betts, Mookie</td>\n      <td>2018</td>\n      <td>BOS</td>\n      <td>rf</td>\n      <td>3.070</td>\n      <td>5.5</td>\n      <td>20.4</td>\n      <td>950000.0</td>\n      <td>$7,500,000</td>\n      <td>$10,500,000</td>\n      <td>$10,500,000</td>\n      <td>nan</td>\n      <td>Betts</td>\n      <td>Mookie</td>\n    </tr>\n  </tbody>\n</table>\n</div>"
     },
     "execution_count": 240,
     "metadata": {},
     "output_type": "execute_result"
    }
   ],
   "source": [
    "arb_bat = arbs[~arbs['Position'].str.contains('hp')]\n",
    "split_names = arb_bat['Player'].str.split(', ', n=1, expand=True)\n",
    "arb_bat[['last_name', 'first_name']]  = split_names\n",
    "arb_bat.head()"
   ],
   "metadata": {
    "collapsed": false,
    "ExecuteTime": {
     "end_time": "2023-12-04T22:40:46.474887Z",
     "start_time": "2023-12-04T22:40:46.332036Z"
    }
   },
   "id": "4cebbd23767c8ce6"
  },
  {
   "cell_type": "code",
   "execution_count": 241,
   "outputs": [
    {
     "name": "stdout",
     "output_type": "stream",
     "text": [
      "Indices of Duplicate Rows:\n",
      "Empty DataFrame\n",
      "Columns: [first_name, last_name, Season]\n",
      "Index: []\n"
     ]
    },
    {
     "data": {
      "text/plain": "  Bats  xMLBAMID                                               Name  \\\n0    L    285078  <a href=\"statss.aspx?playerid=1875&position=OF...   \n1    L    408307  <a href=\"statss.aspx?playerid=1201&position=OF...   \n2    R    446334  <a href=\"statss.aspx?playerid=9368&position=3B...   \n3    L    458015  <a href=\"statss.aspx?playerid=4314&position=1B...   \n4    R    405395  <a href=\"statss.aspx?playerid=1177&position=1B...   \n\n                                                Team  Season   Age     AgeR  \\\n0  <a href=\"leaders.aspx?pos=all&stats=bat&lg=all...    2010  29.0  29 - 29   \n1  <a href=\"leaders.aspx?pos=all&stats=bat&lg=all...    2010  28.0  28 - 28   \n2  <a href=\"leaders.aspx?pos=all&stats=bat&lg=all...    2010  24.0  24 - 24   \n3  <a href=\"leaders.aspx?pos=all&stats=bat&lg=all...    2010  26.0  26 - 26   \n4  <a href=\"leaders.aspx?pos=all&stats=bat&lg=all...    2010  30.0  30 - 30   \n\n   SeasonMin  SeasonMax      G  ...    TPA  PlayerNameRoute     PlayerName  \\\n0       2010       2010  133.0  ...  571.0    Josh Hamilton  Josh Hamilton   \n1       2010       2010  154.0  ...  663.0    Carl Crawford  Carl Crawford   \n2       2010       2010  151.0  ...  661.0    Evan Longoria  Evan Longoria   \n3       2010       2010  150.0  ...  648.0       Joey Votto     Joey Votto   \n4       2010       2010  159.0  ...  700.0    Albert Pujols  Albert Pujols   \n\n   playerid  TeamName  TeamNameAbb  teamid     Pos  first_name  last_name  \n0      1875       TEX          TEX      13  0.0897        Josh   Hamilton  \n1      1201       TBR          TBR      12  0.0200        Carl   Crawford  \n2      9368       TBR          TBR      12  0.0000        Evan   Longoria  \n3      4314       CIN          CIN      18  0.0000        Joey      Votto  \n4      1177       STL          STL      28  0.0000      Albert     Pujols  \n\n[5 rows x 359 columns]",
      "text/html": "<div>\n<style scoped>\n    .dataframe tbody tr th:only-of-type {\n        vertical-align: middle;\n    }\n\n    .dataframe tbody tr th {\n        vertical-align: top;\n    }\n\n    .dataframe thead th {\n        text-align: right;\n    }\n</style>\n<table border=\"1\" class=\"dataframe\">\n  <thead>\n    <tr style=\"text-align: right;\">\n      <th></th>\n      <th>Bats</th>\n      <th>xMLBAMID</th>\n      <th>Name</th>\n      <th>Team</th>\n      <th>Season</th>\n      <th>Age</th>\n      <th>AgeR</th>\n      <th>SeasonMin</th>\n      <th>SeasonMax</th>\n      <th>G</th>\n      <th>...</th>\n      <th>TPA</th>\n      <th>PlayerNameRoute</th>\n      <th>PlayerName</th>\n      <th>playerid</th>\n      <th>TeamName</th>\n      <th>TeamNameAbb</th>\n      <th>teamid</th>\n      <th>Pos</th>\n      <th>first_name</th>\n      <th>last_name</th>\n    </tr>\n  </thead>\n  <tbody>\n    <tr>\n      <th>0</th>\n      <td>L</td>\n      <td>285078</td>\n      <td>&lt;a href=\"statss.aspx?playerid=1875&amp;position=OF...</td>\n      <td>&lt;a href=\"leaders.aspx?pos=all&amp;stats=bat&amp;lg=all...</td>\n      <td>2010</td>\n      <td>29.0</td>\n      <td>29 - 29</td>\n      <td>2010</td>\n      <td>2010</td>\n      <td>133.0</td>\n      <td>...</td>\n      <td>571.0</td>\n      <td>Josh Hamilton</td>\n      <td>Josh Hamilton</td>\n      <td>1875</td>\n      <td>TEX</td>\n      <td>TEX</td>\n      <td>13</td>\n      <td>0.0897</td>\n      <td>Josh</td>\n      <td>Hamilton</td>\n    </tr>\n    <tr>\n      <th>1</th>\n      <td>L</td>\n      <td>408307</td>\n      <td>&lt;a href=\"statss.aspx?playerid=1201&amp;position=OF...</td>\n      <td>&lt;a href=\"leaders.aspx?pos=all&amp;stats=bat&amp;lg=all...</td>\n      <td>2010</td>\n      <td>28.0</td>\n      <td>28 - 28</td>\n      <td>2010</td>\n      <td>2010</td>\n      <td>154.0</td>\n      <td>...</td>\n      <td>663.0</td>\n      <td>Carl Crawford</td>\n      <td>Carl Crawford</td>\n      <td>1201</td>\n      <td>TBR</td>\n      <td>TBR</td>\n      <td>12</td>\n      <td>0.0200</td>\n      <td>Carl</td>\n      <td>Crawford</td>\n    </tr>\n    <tr>\n      <th>2</th>\n      <td>R</td>\n      <td>446334</td>\n      <td>&lt;a href=\"statss.aspx?playerid=9368&amp;position=3B...</td>\n      <td>&lt;a href=\"leaders.aspx?pos=all&amp;stats=bat&amp;lg=all...</td>\n      <td>2010</td>\n      <td>24.0</td>\n      <td>24 - 24</td>\n      <td>2010</td>\n      <td>2010</td>\n      <td>151.0</td>\n      <td>...</td>\n      <td>661.0</td>\n      <td>Evan Longoria</td>\n      <td>Evan Longoria</td>\n      <td>9368</td>\n      <td>TBR</td>\n      <td>TBR</td>\n      <td>12</td>\n      <td>0.0000</td>\n      <td>Evan</td>\n      <td>Longoria</td>\n    </tr>\n    <tr>\n      <th>3</th>\n      <td>L</td>\n      <td>458015</td>\n      <td>&lt;a href=\"statss.aspx?playerid=4314&amp;position=1B...</td>\n      <td>&lt;a href=\"leaders.aspx?pos=all&amp;stats=bat&amp;lg=all...</td>\n      <td>2010</td>\n      <td>26.0</td>\n      <td>26 - 26</td>\n      <td>2010</td>\n      <td>2010</td>\n      <td>150.0</td>\n      <td>...</td>\n      <td>648.0</td>\n      <td>Joey Votto</td>\n      <td>Joey Votto</td>\n      <td>4314</td>\n      <td>CIN</td>\n      <td>CIN</td>\n      <td>18</td>\n      <td>0.0000</td>\n      <td>Joey</td>\n      <td>Votto</td>\n    </tr>\n    <tr>\n      <th>4</th>\n      <td>R</td>\n      <td>405395</td>\n      <td>&lt;a href=\"statss.aspx?playerid=1177&amp;position=1B...</td>\n      <td>&lt;a href=\"leaders.aspx?pos=all&amp;stats=bat&amp;lg=all...</td>\n      <td>2010</td>\n      <td>30.0</td>\n      <td>30 - 30</td>\n      <td>2010</td>\n      <td>2010</td>\n      <td>159.0</td>\n      <td>...</td>\n      <td>700.0</td>\n      <td>Albert Pujols</td>\n      <td>Albert Pujols</td>\n      <td>1177</td>\n      <td>STL</td>\n      <td>STL</td>\n      <td>28</td>\n      <td>0.0000</td>\n      <td>Albert</td>\n      <td>Pujols</td>\n    </tr>\n  </tbody>\n</table>\n<p>5 rows × 359 columns</p>\n</div>"
     },
     "execution_count": 241,
     "metadata": {},
     "output_type": "execute_result"
    }
   ],
   "source": [
    "# MLB_STATS\n",
    "mlb_stats = pd.read_csv('./data/mlb-stats-bat-2010-2023.csv')\n",
    "split_names = mlb_stats['PlayerNameRoute'].str.split(' ', n=1, expand=True)\n",
    "mlb_stats[['first_name', 'last_name']]  = split_names\n",
    "# REMOVE PLAYERS WITH THE SAME NAME\n",
    "duplicates = arb_bat.duplicated(subset=['first_name', 'last_name', 'Season'])\n",
    "# Get the indices of rows where duplicates is True\n",
    "duplicate_indices = arb_bat.loc[duplicates, ['first_name', 'last_name', 'Season']]\n",
    "# Print the indices of duplicate rows\n",
    "print(\"Indices of Duplicate Rows:\")\n",
    "print(duplicate_indices)\n",
    "# Drop rows where playerName is 'John Smith'\n",
    "mlb_stats = mlb_stats[mlb_stats['PlayerNameRoute'] != 'Chris Young']\n",
    "mlb_stats = mlb_stats[mlb_stats['PlayerNameRoute'] != 'Chris Carter']\n",
    "mlb_stats = mlb_stats[mlb_stats['PlayerNameRoute'] != 'Luis Garcia']\n",
    "mlb_stats.head()"
   ],
   "metadata": {
    "collapsed": false,
    "ExecuteTime": {
     "end_time": "2023-12-04T22:40:47.174523Z",
     "start_time": "2023-12-04T22:40:46.385699Z"
    }
   },
   "id": "5f3967c83d95516d"
  },
  {
   "cell_type": "code",
   "execution_count": 242,
   "outputs": [
    {
     "data": {
      "text/plain": "              Player  Season Club Position    MLS Year WAR/WARP  Career WARP  \\\n0  Blackmon, Charlie    2018  COL       cf  5.102           7.9         18.0   \n1       Bryant, Kris    2018  CHN       3b  2.171           6.6         21.5   \n2    Rendon, Anthony    2018  WAS       3b  4.130           6.2         17.7   \n3     Ozuna, Marcell    2018  SLN       lf  4.124           6.1         14.8   \n4      Betts, Mookie    2018  BOS       rf  3.070           5.5         20.4   \n\n   Year Salary Player Request    Club Offer  ...       Q     TG    TPA  \\\n0    7300000.0            NaN           NaN  ...  4.4753  162.0  725.0   \n1    1050000.0            NaN           NaN  ...  4.1049  162.0  665.0   \n2    5800000.0            NaN           NaN  ...  3.7346  162.0  605.0   \n3    3500000.0            NaN           NaN  ...  4.1914  162.0  679.0   \n4     950000.0    $7,500,000   $10,500,000   ...  4.3951  162.0  712.0   \n\n    PlayerNameRoute        PlayerName  playerid TeamName TeamNameAbb  teamid  \\\n0  Charlie Blackmon  Charlie Blackmon    7859.0      COL         COL    19.0   \n1       Kris Bryant       Kris Bryant   15429.0      CHC         CHC    17.0   \n2    Anthony Rendon    Anthony Rendon   12861.0      WSN         WSN    24.0   \n3     Marcell Ozuna     Marcell Ozuna   10324.0      MIA         MIA    20.0   \n4      Mookie Betts      Mookie Betts   13611.0      BOS         BOS     3.0   \n\n      Pos  \n0  0.0000  \n1  0.0000  \n2  0.0000  \n3  0.0127  \n4  0.0000  \n\n[5 rows x 370 columns]",
      "text/html": "<div>\n<style scoped>\n    .dataframe tbody tr th:only-of-type {\n        vertical-align: middle;\n    }\n\n    .dataframe tbody tr th {\n        vertical-align: top;\n    }\n\n    .dataframe thead th {\n        text-align: right;\n    }\n</style>\n<table border=\"1\" class=\"dataframe\">\n  <thead>\n    <tr style=\"text-align: right;\">\n      <th></th>\n      <th>Player</th>\n      <th>Season</th>\n      <th>Club</th>\n      <th>Position</th>\n      <th>MLS</th>\n      <th>Year WAR/WARP</th>\n      <th>Career WARP</th>\n      <th>Year Salary</th>\n      <th>Player Request</th>\n      <th>Club Offer</th>\n      <th>...</th>\n      <th>Q</th>\n      <th>TG</th>\n      <th>TPA</th>\n      <th>PlayerNameRoute</th>\n      <th>PlayerName</th>\n      <th>playerid</th>\n      <th>TeamName</th>\n      <th>TeamNameAbb</th>\n      <th>teamid</th>\n      <th>Pos</th>\n    </tr>\n  </thead>\n  <tbody>\n    <tr>\n      <th>0</th>\n      <td>Blackmon, Charlie</td>\n      <td>2018</td>\n      <td>COL</td>\n      <td>cf</td>\n      <td>5.102</td>\n      <td>7.9</td>\n      <td>18.0</td>\n      <td>7300000.0</td>\n      <td>NaN</td>\n      <td>NaN</td>\n      <td>...</td>\n      <td>4.4753</td>\n      <td>162.0</td>\n      <td>725.0</td>\n      <td>Charlie Blackmon</td>\n      <td>Charlie Blackmon</td>\n      <td>7859.0</td>\n      <td>COL</td>\n      <td>COL</td>\n      <td>19.0</td>\n      <td>0.0000</td>\n    </tr>\n    <tr>\n      <th>1</th>\n      <td>Bryant, Kris</td>\n      <td>2018</td>\n      <td>CHN</td>\n      <td>3b</td>\n      <td>2.171</td>\n      <td>6.6</td>\n      <td>21.5</td>\n      <td>1050000.0</td>\n      <td>NaN</td>\n      <td>NaN</td>\n      <td>...</td>\n      <td>4.1049</td>\n      <td>162.0</td>\n      <td>665.0</td>\n      <td>Kris Bryant</td>\n      <td>Kris Bryant</td>\n      <td>15429.0</td>\n      <td>CHC</td>\n      <td>CHC</td>\n      <td>17.0</td>\n      <td>0.0000</td>\n    </tr>\n    <tr>\n      <th>2</th>\n      <td>Rendon, Anthony</td>\n      <td>2018</td>\n      <td>WAS</td>\n      <td>3b</td>\n      <td>4.130</td>\n      <td>6.2</td>\n      <td>17.7</td>\n      <td>5800000.0</td>\n      <td>NaN</td>\n      <td>NaN</td>\n      <td>...</td>\n      <td>3.7346</td>\n      <td>162.0</td>\n      <td>605.0</td>\n      <td>Anthony Rendon</td>\n      <td>Anthony Rendon</td>\n      <td>12861.0</td>\n      <td>WSN</td>\n      <td>WSN</td>\n      <td>24.0</td>\n      <td>0.0000</td>\n    </tr>\n    <tr>\n      <th>3</th>\n      <td>Ozuna, Marcell</td>\n      <td>2018</td>\n      <td>SLN</td>\n      <td>lf</td>\n      <td>4.124</td>\n      <td>6.1</td>\n      <td>14.8</td>\n      <td>3500000.0</td>\n      <td>NaN</td>\n      <td>NaN</td>\n      <td>...</td>\n      <td>4.1914</td>\n      <td>162.0</td>\n      <td>679.0</td>\n      <td>Marcell Ozuna</td>\n      <td>Marcell Ozuna</td>\n      <td>10324.0</td>\n      <td>MIA</td>\n      <td>MIA</td>\n      <td>20.0</td>\n      <td>0.0127</td>\n    </tr>\n    <tr>\n      <th>4</th>\n      <td>Betts, Mookie</td>\n      <td>2018</td>\n      <td>BOS</td>\n      <td>rf</td>\n      <td>3.070</td>\n      <td>5.5</td>\n      <td>20.4</td>\n      <td>950000.0</td>\n      <td>$7,500,000</td>\n      <td>$10,500,000</td>\n      <td>...</td>\n      <td>4.3951</td>\n      <td>162.0</td>\n      <td>712.0</td>\n      <td>Mookie Betts</td>\n      <td>Mookie Betts</td>\n      <td>13611.0</td>\n      <td>BOS</td>\n      <td>BOS</td>\n      <td>3.0</td>\n      <td>0.0000</td>\n    </tr>\n  </tbody>\n</table>\n<p>5 rows × 370 columns</p>\n</div>"
     },
     "execution_count": 242,
     "metadata": {},
     "output_type": "execute_result"
    }
   ],
   "source": [
    "# Arbitration Hearing in 2024 is based on 2023 stats\n",
    "mlb_stats['Season'] = mlb_stats['Season'] + 1\n",
    "arb_data_with_stats = pd.merge(arb_bat, mlb_stats, on=['first_name', 'last_name', 'Season'], how='left')\n",
    "\n",
    "arb_data_with_stats.head()"
   ],
   "metadata": {
    "collapsed": false,
    "ExecuteTime": {
     "end_time": "2023-12-04T22:40:47.272118Z",
     "start_time": "2023-12-04T22:40:47.169623Z"
    }
   },
   "id": "e65b05cf4d8d8be9"
  },
  {
   "cell_type": "code",
   "execution_count": 243,
   "outputs": [
    {
     "data": {
      "text/plain": "(827, 370)"
     },
     "execution_count": 243,
     "metadata": {},
     "output_type": "execute_result"
    }
   ],
   "source": [
    "arb_data_with_stats.to_csv('./data/arb-data-with-stats.csv', index=False)\n",
    "arb_data_with_stats.shape"
   ],
   "metadata": {
    "collapsed": false,
    "ExecuteTime": {
     "end_time": "2023-12-04T22:40:47.486507Z",
     "start_time": "2023-12-04T22:40:47.216872Z"
    }
   },
   "id": "23665ceb2a62b527"
  },
  {
   "cell_type": "code",
   "execution_count": 244,
   "outputs": [
    {
     "data": {
      "text/plain": "(807, 38)"
     },
     "execution_count": 244,
     "metadata": {},
     "output_type": "execute_result"
    }
   ],
   "source": [
    "cleaned_data = pd.read_csv('./data/arb-data-with-stats.csv')\n",
    "\n",
    "# Convert the 'Amount' column to numeric and remove non-valid columns\n",
    "cleaned_data['Next Year Salary'] = pd.to_numeric(cleaned_data['Next Year Salary'].replace('[\\$,]', '', regex=True), errors='coerce')\n",
    "\n",
    "cleaned_data = cleaned_data.loc[~((cleaned_data['Season'] < 2024) & (cleaned_data['Next Year Salary'].isna()) & (cleaned_data['G'].isna()))]\n",
    "# cleaned_data = cleaned_data[cleaned_data['G'].notna() | cleaned_data['Season'] == 2024]\n",
    "\n",
    "\n",
    "# Keep only columns in the list\n",
    "columns_to_keep = ['Player', 'Season', 'MLS', 'Year Salary', 'Next Year Salary', 'Age', 'G', 'PA', 'AB', 'R', 'H', '2B', '3B', 'HR', 'RBI', 'SB', 'CS', 'BB%', 'K%', 'ISO', 'BABIP', 'AVG', 'OBP', 'SLG', 'wOBA', 'wRC+', 'playerid', 'Position']\n",
    "cleaned_data = cleaned_data.loc[:, columns_to_keep]\n",
    "cleaned_data['Position'] = cleaned_data['Position'].str.split('-').str[0]\n",
    "cleaned_data = pd.get_dummies(cleaned_data, columns=['Position'], prefix='Position')\n",
    "\n",
    "cleaned_data.to_csv('./data/arb-predictor-data_bat.csv', index=False)\n",
    "cleaned_data.shape"
   ],
   "metadata": {
    "collapsed": false,
    "ExecuteTime": {
     "end_time": "2023-12-04T22:40:47.574487Z",
     "start_time": "2023-12-04T22:40:47.484213Z"
    }
   },
   "id": "e6d0bf0ab2ad25af"
  },
  {
   "cell_type": "code",
   "execution_count": 244,
   "outputs": [],
   "source": [],
   "metadata": {
    "collapsed": false,
    "ExecuteTime": {
     "end_time": "2023-12-04T22:40:47.583595Z",
     "start_time": "2023-12-04T22:40:47.573145Z"
    }
   },
   "id": "7d97b21810ec29f6"
  }
 ],
 "metadata": {
  "kernelspec": {
   "display_name": "Python 3",
   "language": "python",
   "name": "python3"
  },
  "language_info": {
   "codemirror_mode": {
    "name": "ipython",
    "version": 2
   },
   "file_extension": ".py",
   "mimetype": "text/x-python",
   "name": "python",
   "nbconvert_exporter": "python",
   "pygments_lexer": "ipython2",
   "version": "2.7.6"
  }
 },
 "nbformat": 4,
 "nbformat_minor": 5
}
