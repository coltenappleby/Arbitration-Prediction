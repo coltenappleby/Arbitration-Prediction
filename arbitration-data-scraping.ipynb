{
 "cells": [
  {
   "cell_type": "code",
   "execution_count": 36,
   "id": "initial_id",
   "metadata": {
    "collapsed": true,
    "ExecuteTime": {
     "end_time": "2023-12-08T04:27:39.098745Z",
     "start_time": "2023-12-08T04:27:39.094982Z"
    }
   },
   "outputs": [],
   "source": [
    "import requests\n",
    "from bs4 import BeautifulSoup\n",
    "import pandas as pd\n",
    "import numpy as np"
   ]
  },
  {
   "cell_type": "code",
   "execution_count": 37,
   "outputs": [
    {
     "name": "stderr",
     "output_type": "stream",
     "text": [
      "/var/folders/mx/7b6cg1qd6ngdttv8tfdhzc1m0000gn/T/ipykernel_26705/3472463238.py:20: FutureWarning: Passing literal html to 'read_html' is deprecated and will be removed in a future version. To read from a literal string, wrap it in a 'StringIO' object.\n",
      "  df = pd.read_html(str(table), header=0, index_col=0)[0]\n",
      "/var/folders/mx/7b6cg1qd6ngdttv8tfdhzc1m0000gn/T/ipykernel_26705/3472463238.py:20: FutureWarning: Passing literal html to 'read_html' is deprecated and will be removed in a future version. To read from a literal string, wrap it in a 'StringIO' object.\n",
      "  df = pd.read_html(str(table), header=0, index_col=0)[0]\n",
      "/var/folders/mx/7b6cg1qd6ngdttv8tfdhzc1m0000gn/T/ipykernel_26705/3472463238.py:20: FutureWarning: Passing literal html to 'read_html' is deprecated and will be removed in a future version. To read from a literal string, wrap it in a 'StringIO' object.\n",
      "  df = pd.read_html(str(table), header=0, index_col=0)[0]\n",
      "/var/folders/mx/7b6cg1qd6ngdttv8tfdhzc1m0000gn/T/ipykernel_26705/3472463238.py:20: FutureWarning: Passing literal html to 'read_html' is deprecated and will be removed in a future version. To read from a literal string, wrap it in a 'StringIO' object.\n",
      "  df = pd.read_html(str(table), header=0, index_col=0)[0]\n",
      "/var/folders/mx/7b6cg1qd6ngdttv8tfdhzc1m0000gn/T/ipykernel_26705/3472463238.py:20: FutureWarning: Passing literal html to 'read_html' is deprecated and will be removed in a future version. To read from a literal string, wrap it in a 'StringIO' object.\n",
      "  df = pd.read_html(str(table), header=0, index_col=0)[0]\n",
      "/var/folders/mx/7b6cg1qd6ngdttv8tfdhzc1m0000gn/T/ipykernel_26705/3472463238.py:20: FutureWarning: Passing literal html to 'read_html' is deprecated and will be removed in a future version. To read from a literal string, wrap it in a 'StringIO' object.\n",
      "  df = pd.read_html(str(table), header=0, index_col=0)[0]\n",
      "/var/folders/mx/7b6cg1qd6ngdttv8tfdhzc1m0000gn/T/ipykernel_26705/3472463238.py:20: FutureWarning: Passing literal html to 'read_html' is deprecated and will be removed in a future version. To read from a literal string, wrap it in a 'StringIO' object.\n",
      "  df = pd.read_html(str(table), header=0, index_col=0)[0]\n",
      "/var/folders/mx/7b6cg1qd6ngdttv8tfdhzc1m0000gn/T/ipykernel_26705/3472463238.py:20: FutureWarning: Passing literal html to 'read_html' is deprecated and will be removed in a future version. To read from a literal string, wrap it in a 'StringIO' object.\n",
      "  df = pd.read_html(str(table), header=0, index_col=0)[0]\n",
      "/var/folders/mx/7b6cg1qd6ngdttv8tfdhzc1m0000gn/T/ipykernel_26705/3472463238.py:20: FutureWarning: Passing literal html to 'read_html' is deprecated and will be removed in a future version. To read from a literal string, wrap it in a 'StringIO' object.\n",
      "  df = pd.read_html(str(table), header=0, index_col=0)[0]\n",
      "/var/folders/mx/7b6cg1qd6ngdttv8tfdhzc1m0000gn/T/ipykernel_26705/3472463238.py:20: FutureWarning: Passing literal html to 'read_html' is deprecated and will be removed in a future version. To read from a literal string, wrap it in a 'StringIO' object.\n",
      "  df = pd.read_html(str(table), header=0, index_col=0)[0]\n",
      "/var/folders/mx/7b6cg1qd6ngdttv8tfdhzc1m0000gn/T/ipykernel_26705/3472463238.py:20: FutureWarning: Passing literal html to 'read_html' is deprecated and will be removed in a future version. To read from a literal string, wrap it in a 'StringIO' object.\n",
      "  df = pd.read_html(str(table), header=0, index_col=0)[0]\n",
      "/var/folders/mx/7b6cg1qd6ngdttv8tfdhzc1m0000gn/T/ipykernel_26705/3472463238.py:20: FutureWarning: Passing literal html to 'read_html' is deprecated and will be removed in a future version. To read from a literal string, wrap it in a 'StringIO' object.\n",
      "  df = pd.read_html(str(table), header=0, index_col=0)[0]\n"
     ]
    },
    {
     "data": {
      "text/plain": "             Player       Team  Service Player  Amt. Team Amt. Midpoint  \\\n0        Adam Jones    Orioles    3.139          NaN       NaN      NaN   \n1  Alberto Callaspo     Angels    3.135          NaN       NaN      NaN   \n2  Alberto Gonzalez  Nationals  2.135 ⇑          NaN       NaN      NaN   \n3       Alex Gordon     Royals    3.092          NaN       NaN      NaN   \n4     Alexi Casilla      Twins    3.038          NaN       NaN      NaN   \n\n  Settled Amt.  Season  \n0     $3.250MM    2011  \n1     $2.000MM    2011  \n2     $0.600MM    2011  \n3     $1.400MM    2011  \n4     $0.865MM    2011  ",
      "text/html": "<div>\n<style scoped>\n    .dataframe tbody tr th:only-of-type {\n        vertical-align: middle;\n    }\n\n    .dataframe tbody tr th {\n        vertical-align: top;\n    }\n\n    .dataframe thead th {\n        text-align: right;\n    }\n</style>\n<table border=\"1\" class=\"dataframe\">\n  <thead>\n    <tr style=\"text-align: right;\">\n      <th></th>\n      <th>Player</th>\n      <th>Team</th>\n      <th>Service</th>\n      <th>Player  Amt.</th>\n      <th>Team Amt.</th>\n      <th>Midpoint</th>\n      <th>Settled Amt.</th>\n      <th>Season</th>\n    </tr>\n  </thead>\n  <tbody>\n    <tr>\n      <th>0</th>\n      <td>Adam Jones</td>\n      <td>Orioles</td>\n      <td>3.139</td>\n      <td>NaN</td>\n      <td>NaN</td>\n      <td>NaN</td>\n      <td>$3.250MM</td>\n      <td>2011</td>\n    </tr>\n    <tr>\n      <th>1</th>\n      <td>Alberto Callaspo</td>\n      <td>Angels</td>\n      <td>3.135</td>\n      <td>NaN</td>\n      <td>NaN</td>\n      <td>NaN</td>\n      <td>$2.000MM</td>\n      <td>2011</td>\n    </tr>\n    <tr>\n      <th>2</th>\n      <td>Alberto Gonzalez</td>\n      <td>Nationals</td>\n      <td>2.135 ⇑</td>\n      <td>NaN</td>\n      <td>NaN</td>\n      <td>NaN</td>\n      <td>$0.600MM</td>\n      <td>2011</td>\n    </tr>\n    <tr>\n      <th>3</th>\n      <td>Alex Gordon</td>\n      <td>Royals</td>\n      <td>3.092</td>\n      <td>NaN</td>\n      <td>NaN</td>\n      <td>NaN</td>\n      <td>$1.400MM</td>\n      <td>2011</td>\n    </tr>\n    <tr>\n      <th>4</th>\n      <td>Alexi Casilla</td>\n      <td>Twins</td>\n      <td>3.038</td>\n      <td>NaN</td>\n      <td>NaN</td>\n      <td>NaN</td>\n      <td>$0.865MM</td>\n      <td>2011</td>\n    </tr>\n  </tbody>\n</table>\n</div>"
     },
     "execution_count": 37,
     "metadata": {},
     "output_type": "execute_result"
    }
   ],
   "source": [
    "# Get Arbitrage Table from MLBTRADERUMORS\n",
    "\n",
    "years = []\n",
    "table_id = 'arbitration_submissions'\n",
    "\n",
    "for year in range(2010, 2022):\n",
    "    url = f'https://transactions.mlbtraderumors.com/widget/arbitration-submissions/{year}'\n",
    "    response = requests.get(url)\n",
    "    # Check if the request was successful (status code 200)\n",
    "    if response.status_code == 200:\n",
    "        # Parse the HTML content of the page\n",
    "        soup = BeautifulSoup(response.text, 'html.parser')\n",
    "          \n",
    "        # Find the table by the table_id\n",
    "        table = soup.find('table', {'id': table_id})\n",
    "    \n",
    "        # Check if the table was found\n",
    "        if table:\n",
    "            # Convert the table to a DataFrame\n",
    "            df = pd.read_html(str(table), header=0, index_col=0)[0]\n",
    "            \n",
    "            df[\"Season\"] = year+1\n",
    "            \n",
    "            years.append(df)\n",
    "\n",
    "        else:\n",
    "            print(f\"Table with ID '{table_id}' not found on the page.\")                         \n",
    "\n",
    "arb_data = pd.concat(years)\n",
    "arb_data = arb_data.reset_index()\n",
    "arb_data.head()\n"
   ],
   "metadata": {
    "collapsed": false,
    "ExecuteTime": {
     "end_time": "2023-12-08T04:27:46.164028Z",
     "start_time": "2023-12-08T04:27:39.114042Z"
    }
   },
   "id": "a3749862d8c553f3"
  },
  {
   "cell_type": "code",
   "execution_count": 39,
   "outputs": [
    {
     "data": {
      "text/plain": "             Player       Team  Service Player  Amt. Team Amt. Midpoint  \\\n0        Adam Jones    Orioles    3.139          NaN       NaN      NaN   \n1  Alberto Callaspo     Angels    3.135          NaN       NaN      NaN   \n2  Alberto Gonzalez  Nationals    2.135          NaN       NaN      NaN   \n3       Alex Gordon     Royals    3.092          NaN       NaN      NaN   \n4     Alexi Casilla      Twins    3.038          NaN       NaN      NaN   \n\n  Settled Amt.  Season  Super Two  \n0     $3.250MM    2011      False  \n1     $2.000MM    2011      False  \n2     $0.600MM    2011       True  \n3     $1.400MM    2011      False  \n4     $0.865MM    2011      False  ",
      "text/html": "<div>\n<style scoped>\n    .dataframe tbody tr th:only-of-type {\n        vertical-align: middle;\n    }\n\n    .dataframe tbody tr th {\n        vertical-align: top;\n    }\n\n    .dataframe thead th {\n        text-align: right;\n    }\n</style>\n<table border=\"1\" class=\"dataframe\">\n  <thead>\n    <tr style=\"text-align: right;\">\n      <th></th>\n      <th>Player</th>\n      <th>Team</th>\n      <th>Service</th>\n      <th>Player  Amt.</th>\n      <th>Team Amt.</th>\n      <th>Midpoint</th>\n      <th>Settled Amt.</th>\n      <th>Season</th>\n      <th>Super Two</th>\n    </tr>\n  </thead>\n  <tbody>\n    <tr>\n      <th>0</th>\n      <td>Adam Jones</td>\n      <td>Orioles</td>\n      <td>3.139</td>\n      <td>NaN</td>\n      <td>NaN</td>\n      <td>NaN</td>\n      <td>$3.250MM</td>\n      <td>2011</td>\n      <td>False</td>\n    </tr>\n    <tr>\n      <th>1</th>\n      <td>Alberto Callaspo</td>\n      <td>Angels</td>\n      <td>3.135</td>\n      <td>NaN</td>\n      <td>NaN</td>\n      <td>NaN</td>\n      <td>$2.000MM</td>\n      <td>2011</td>\n      <td>False</td>\n    </tr>\n    <tr>\n      <th>2</th>\n      <td>Alberto Gonzalez</td>\n      <td>Nationals</td>\n      <td>2.135</td>\n      <td>NaN</td>\n      <td>NaN</td>\n      <td>NaN</td>\n      <td>$0.600MM</td>\n      <td>2011</td>\n      <td>True</td>\n    </tr>\n    <tr>\n      <th>3</th>\n      <td>Alex Gordon</td>\n      <td>Royals</td>\n      <td>3.092</td>\n      <td>NaN</td>\n      <td>NaN</td>\n      <td>NaN</td>\n      <td>$1.400MM</td>\n      <td>2011</td>\n      <td>False</td>\n    </tr>\n    <tr>\n      <th>4</th>\n      <td>Alexi Casilla</td>\n      <td>Twins</td>\n      <td>3.038</td>\n      <td>NaN</td>\n      <td>NaN</td>\n      <td>NaN</td>\n      <td>$0.865MM</td>\n      <td>2011</td>\n      <td>False</td>\n    </tr>\n  </tbody>\n</table>\n</div>"
     },
     "execution_count": 39,
     "metadata": {},
     "output_type": "execute_result"
    }
   ],
   "source": [
    "df = arb_data\n",
    "\n",
    "df['Super Two'] = df['Service'].astype(str).str.contains('⇑')\n",
    "df['Service'] = df['Service'].str.replace('⇑', '').astype(float)\n",
    "\n",
    "df.head()"
   ],
   "metadata": {
    "collapsed": false,
    "ExecuteTime": {
     "end_time": "2023-12-08T04:27:46.246120Z",
     "start_time": "2023-12-08T04:27:46.196751Z"
    }
   },
   "id": "518c0daf1a87bd8c"
  },
  {
   "cell_type": "code",
   "execution_count": 41,
   "outputs": [
    {
     "data": {
      "text/plain": "             Player       Team  Service Player  Amt. Team Amt. Midpoint  \\\n0        Adam Jones    Orioles    3.139          NaN       NaN      NaN   \n1  Alberto Callaspo     Angels    3.135          NaN       NaN      NaN   \n2  Alberto Gonzalez  Nationals    2.135          NaN       NaN      NaN   \n3       Alex Gordon     Royals    3.092          NaN       NaN      NaN   \n4     Alexi Casilla      Twins    3.038          NaN       NaN      NaN   \n\n  Settled Amt.  Season  Super Two  \n0     $3.250MM    2011      False  \n1     $2.000MM    2011      False  \n2     $0.600MM    2011       True  \n3     $1.400MM    2011      False  \n4     $0.865MM    2011      False  ",
      "text/html": "<div>\n<style scoped>\n    .dataframe tbody tr th:only-of-type {\n        vertical-align: middle;\n    }\n\n    .dataframe tbody tr th {\n        vertical-align: top;\n    }\n\n    .dataframe thead th {\n        text-align: right;\n    }\n</style>\n<table border=\"1\" class=\"dataframe\">\n  <thead>\n    <tr style=\"text-align: right;\">\n      <th></th>\n      <th>Player</th>\n      <th>Team</th>\n      <th>Service</th>\n      <th>Player  Amt.</th>\n      <th>Team Amt.</th>\n      <th>Midpoint</th>\n      <th>Settled Amt.</th>\n      <th>Season</th>\n      <th>Super Two</th>\n    </tr>\n  </thead>\n  <tbody>\n    <tr>\n      <th>0</th>\n      <td>Adam Jones</td>\n      <td>Orioles</td>\n      <td>3.139</td>\n      <td>NaN</td>\n      <td>NaN</td>\n      <td>NaN</td>\n      <td>$3.250MM</td>\n      <td>2011</td>\n      <td>False</td>\n    </tr>\n    <tr>\n      <th>1</th>\n      <td>Alberto Callaspo</td>\n      <td>Angels</td>\n      <td>3.135</td>\n      <td>NaN</td>\n      <td>NaN</td>\n      <td>NaN</td>\n      <td>$2.000MM</td>\n      <td>2011</td>\n      <td>False</td>\n    </tr>\n    <tr>\n      <th>2</th>\n      <td>Alberto Gonzalez</td>\n      <td>Nationals</td>\n      <td>2.135</td>\n      <td>NaN</td>\n      <td>NaN</td>\n      <td>NaN</td>\n      <td>$0.600MM</td>\n      <td>2011</td>\n      <td>True</td>\n    </tr>\n    <tr>\n      <th>3</th>\n      <td>Alex Gordon</td>\n      <td>Royals</td>\n      <td>3.092</td>\n      <td>NaN</td>\n      <td>NaN</td>\n      <td>NaN</td>\n      <td>$1.400MM</td>\n      <td>2011</td>\n      <td>False</td>\n    </tr>\n    <tr>\n      <th>4</th>\n      <td>Alexi Casilla</td>\n      <td>Twins</td>\n      <td>3.038</td>\n      <td>NaN</td>\n      <td>NaN</td>\n      <td>NaN</td>\n      <td>$0.865MM</td>\n      <td>2011</td>\n      <td>False</td>\n    </tr>\n  </tbody>\n</table>\n</div>"
     },
     "execution_count": 41,
     "metadata": {},
     "output_type": "execute_result"
    }
   ],
   "source": [
    "arb_data.head()"
   ],
   "metadata": {
    "collapsed": false,
    "ExecuteTime": {
     "end_time": "2023-12-08T04:27:46.423654Z",
     "start_time": "2023-12-08T04:27:46.239039Z"
    }
   },
   "id": "5703a670dfb17b4"
  },
  {
   "cell_type": "code",
   "execution_count": 43,
   "outputs": [],
   "source": [
    "arb_data.to_csv('./data/arb_data_mlbTR.csv', index=False)"
   ],
   "metadata": {
    "collapsed": false,
    "ExecuteTime": {
     "end_time": "2023-12-08T04:44:24.027441Z",
     "start_time": "2023-12-08T04:44:24.011680Z"
    }
   },
   "id": "3e7d1845bec01f4f"
  },
  {
   "cell_type": "code",
   "execution_count": null,
   "outputs": [],
   "source": [],
   "metadata": {
    "collapsed": false
   },
   "id": "35a7eef58b436d9f"
  }
 ],
 "metadata": {
  "kernelspec": {
   "display_name": "Python 3",
   "language": "python",
   "name": "python3"
  },
  "language_info": {
   "codemirror_mode": {
    "name": "ipython",
    "version": 2
   },
   "file_extension": ".py",
   "mimetype": "text/x-python",
   "name": "python",
   "nbconvert_exporter": "python",
   "pygments_lexer": "ipython2",
   "version": "2.7.6"
  }
 },
 "nbformat": 4,
 "nbformat_minor": 5
}
