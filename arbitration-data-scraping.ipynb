{
 "cells": [
  {
   "cell_type": "code",
   "execution_count": 11,
   "id": "initial_id",
   "metadata": {
    "collapsed": true,
    "ExecuteTime": {
     "end_time": "2023-12-08T16:34:33.077255Z",
     "start_time": "2023-12-08T16:34:33.071402Z"
    }
   },
   "outputs": [],
   "source": [
    "import requests\n",
    "from bs4 import BeautifulSoup\n",
    "import pandas as pd\n",
    "import numpy as np"
   ]
  },
  {
   "cell_type": "markdown",
   "source": [
    "# Arbitration Data from MLB Trade Rumors"
   ],
   "metadata": {
    "collapsed": false
   },
   "id": "87edf094bbe0d763"
  },
  {
   "cell_type": "code",
   "execution_count": 150,
   "outputs": [
    {
     "name": "stderr",
     "output_type": "stream",
     "text": [
      "/var/folders/mx/7b6cg1qd6ngdttv8tfdhzc1m0000gn/T/ipykernel_30720/2004561609.py:20: FutureWarning: Passing literal html to 'read_html' is deprecated and will be removed in a future version. To read from a literal string, wrap it in a 'StringIO' object.\n",
      "  df = pd.read_html(str(table), header=0, index_col=0)[0]\n",
      "/var/folders/mx/7b6cg1qd6ngdttv8tfdhzc1m0000gn/T/ipykernel_30720/2004561609.py:20: FutureWarning: Passing literal html to 'read_html' is deprecated and will be removed in a future version. To read from a literal string, wrap it in a 'StringIO' object.\n",
      "  df = pd.read_html(str(table), header=0, index_col=0)[0]\n",
      "/var/folders/mx/7b6cg1qd6ngdttv8tfdhzc1m0000gn/T/ipykernel_30720/2004561609.py:20: FutureWarning: Passing literal html to 'read_html' is deprecated and will be removed in a future version. To read from a literal string, wrap it in a 'StringIO' object.\n",
      "  df = pd.read_html(str(table), header=0, index_col=0)[0]\n",
      "/var/folders/mx/7b6cg1qd6ngdttv8tfdhzc1m0000gn/T/ipykernel_30720/2004561609.py:20: FutureWarning: Passing literal html to 'read_html' is deprecated and will be removed in a future version. To read from a literal string, wrap it in a 'StringIO' object.\n",
      "  df = pd.read_html(str(table), header=0, index_col=0)[0]\n",
      "/var/folders/mx/7b6cg1qd6ngdttv8tfdhzc1m0000gn/T/ipykernel_30720/2004561609.py:20: FutureWarning: Passing literal html to 'read_html' is deprecated and will be removed in a future version. To read from a literal string, wrap it in a 'StringIO' object.\n",
      "  df = pd.read_html(str(table), header=0, index_col=0)[0]\n",
      "/var/folders/mx/7b6cg1qd6ngdttv8tfdhzc1m0000gn/T/ipykernel_30720/2004561609.py:20: FutureWarning: Passing literal html to 'read_html' is deprecated and will be removed in a future version. To read from a literal string, wrap it in a 'StringIO' object.\n",
      "  df = pd.read_html(str(table), header=0, index_col=0)[0]\n",
      "/var/folders/mx/7b6cg1qd6ngdttv8tfdhzc1m0000gn/T/ipykernel_30720/2004561609.py:20: FutureWarning: Passing literal html to 'read_html' is deprecated and will be removed in a future version. To read from a literal string, wrap it in a 'StringIO' object.\n",
      "  df = pd.read_html(str(table), header=0, index_col=0)[0]\n",
      "/var/folders/mx/7b6cg1qd6ngdttv8tfdhzc1m0000gn/T/ipykernel_30720/2004561609.py:20: FutureWarning: Passing literal html to 'read_html' is deprecated and will be removed in a future version. To read from a literal string, wrap it in a 'StringIO' object.\n",
      "  df = pd.read_html(str(table), header=0, index_col=0)[0]\n",
      "/var/folders/mx/7b6cg1qd6ngdttv8tfdhzc1m0000gn/T/ipykernel_30720/2004561609.py:20: FutureWarning: Passing literal html to 'read_html' is deprecated and will be removed in a future version. To read from a literal string, wrap it in a 'StringIO' object.\n",
      "  df = pd.read_html(str(table), header=0, index_col=0)[0]\n",
      "/var/folders/mx/7b6cg1qd6ngdttv8tfdhzc1m0000gn/T/ipykernel_30720/2004561609.py:20: FutureWarning: Passing literal html to 'read_html' is deprecated and will be removed in a future version. To read from a literal string, wrap it in a 'StringIO' object.\n",
      "  df = pd.read_html(str(table), header=0, index_col=0)[0]\n",
      "/var/folders/mx/7b6cg1qd6ngdttv8tfdhzc1m0000gn/T/ipykernel_30720/2004561609.py:20: FutureWarning: Passing literal html to 'read_html' is deprecated and will be removed in a future version. To read from a literal string, wrap it in a 'StringIO' object.\n",
      "  df = pd.read_html(str(table), header=0, index_col=0)[0]\n",
      "/var/folders/mx/7b6cg1qd6ngdttv8tfdhzc1m0000gn/T/ipykernel_30720/2004561609.py:20: FutureWarning: Passing literal html to 'read_html' is deprecated and will be removed in a future version. To read from a literal string, wrap it in a 'StringIO' object.\n",
      "  df = pd.read_html(str(table), header=0, index_col=0)[0]\n"
     ]
    }
   ],
   "source": [
    "# Get Arbitrage Table from MLBTRADERUMORS\n",
    "\n",
    "years = []\n",
    "table_id = 'arbitration_submissions'\n",
    "\n",
    "for year in range(2010, 2022):\n",
    "    url = f'https://transactions.mlbtraderumors.com/widget/arbitration-submissions/{year}'\n",
    "    response = requests.get(url)\n",
    "    # Check if the request was successful (status code 200)\n",
    "    if response.status_code == 200:\n",
    "        # Parse the HTML content of the page\n",
    "        soup = BeautifulSoup(response.text, 'html.parser')\n",
    "          \n",
    "        # Find the table by the table_id\n",
    "        table = soup.find('table', {'id': table_id})\n",
    "    \n",
    "        # Check if the table was found\n",
    "        if table:\n",
    "            # Convert the table to a DataFrame\n",
    "            df = pd.read_html(str(table), header=0, index_col=0)[0]\n",
    "            \n",
    "            df[\"Season\"] = year\n",
    "            \n",
    "            years.append(df)\n",
    "\n",
    "        else:\n",
    "            print(f\"Table with ID '{table_id}' not found on the page.\")                         \n",
    "\n",
    "arb_data = pd.concat(years)\n",
    "arb_data = arb_data.reset_index()\n",
    "arb_data.head()\n",
    "\n",
    "arb_data.to_csv('./data/mlb-trade-rumors_raw.csv', index=False)\n"
   ],
   "metadata": {
    "collapsed": false,
    "ExecuteTime": {
     "end_time": "2023-12-08T20:48:50.022523Z",
     "start_time": "2023-12-08T20:48:44.933368Z"
    }
   },
   "id": "a3749862d8c553f3"
  },
  {
   "cell_type": "code",
   "execution_count": 252,
   "outputs": [
    {
     "data": {
      "text/plain": "            Player     Team  Service  Extension  Year  Non-Tendered  \\\n2264  Willy Adames  Brewers    3.105      False  2022         False   \n\n      Outrighted  Next Year Salary first_name last_name Source  \n2264       False         4600000.0      Willy    Adames  MLBTR  ",
      "text/html": "<div>\n<style scoped>\n    .dataframe tbody tr th:only-of-type {\n        vertical-align: middle;\n    }\n\n    .dataframe tbody tr th {\n        vertical-align: top;\n    }\n\n    .dataframe thead th {\n        text-align: right;\n    }\n</style>\n<table border=\"1\" class=\"dataframe\">\n  <thead>\n    <tr style=\"text-align: right;\">\n      <th></th>\n      <th>Player</th>\n      <th>Team</th>\n      <th>Service</th>\n      <th>Extension</th>\n      <th>Year</th>\n      <th>Non-Tendered</th>\n      <th>Outrighted</th>\n      <th>Next Year Salary</th>\n      <th>first_name</th>\n      <th>last_name</th>\n      <th>Source</th>\n    </tr>\n  </thead>\n  <tbody>\n    <tr>\n      <th>2264</th>\n      <td>Willy Adames</td>\n      <td>Brewers</td>\n      <td>3.105</td>\n      <td>False</td>\n      <td>2022</td>\n      <td>False</td>\n      <td>False</td>\n      <td>4600000.0</td>\n      <td>Willy</td>\n      <td>Adames</td>\n      <td>MLBTR</td>\n    </tr>\n  </tbody>\n</table>\n</div>"
     },
     "execution_count": 252,
     "metadata": {},
     "output_type": "execute_result"
    }
   ],
   "source": [
    "df = pd.read_csv('./data/mlb-trade-rumors_raw.csv')\n",
    "\n",
    "df['Super Two'] = df['Service'].astype(str).str.contains('⇑')\n",
    "df['Service'] = df['Service'].str.replace('⇑', '').astype(float)\n",
    "\n",
    "df['Player'] = df['Player'].str.replace('†', '')\n",
    "df['Player'] = df['Player'].str.replace('‡', '')\n",
    "\n",
    "df['Extension'] = df['Settled Amt.'].astype(str).str.contains('Extension')\n",
    "\n",
    "df['Year'] = df['Season']+1\n",
    "\n",
    "df['Non-Tendered'] = False\n",
    "df['Outrighted'] = False\n",
    "\n",
    "df['Next Year Salary'] = pd.to_numeric(df['Settled Amt.'].replace('[\\$,]', '', regex=True).str.replace('MM', ''), errors='coerce').astype(float) * 1e6\n",
    "\n",
    "split_names = df['Player'].str.split(' ', n=1, expand=True)\n",
    "df[['first_name', 'last_name']]  = split_names\n",
    "df['Source'] = 'MLBTR'\n",
    "\n",
    "\n",
    "\n",
    "df = df[~((df['Player'] == 'Randall Delgado') & (df['Service'] == 5.1) & (df['Season'] == 2016))]\n",
    "\n",
    "# df.loc[(df['Player'] == \"Randall Delgado\") & (df['Season'] == 2016), 'Next Year Salary'] = 1275000\n",
    "df.loc[(df['Player'] == \"Aaron Judge\") & (df['Season'] == 2021), 'Next Year Salary'] = 19000000\n",
    "df.loc[(df['Player'] == \"Adam Duvall\") & (df['Season'] == 2021), 'Next Year Salary'] = 9275000\n",
    "df.loc[(df['Player'] == \"Adam Frazier\") & (df['Season'] == 2021), 'Next Year Salary'] = 8000000\n",
    "df.loc[(df['Player'] == \"Adrian Houser\") & (df['Season'] == 2021), 'Next Year Salary'] = 2524000\n",
    "df.loc[(df['Player'] == \"Andrew Benintendi\") & (df['Season'] == 2021), 'Next Year Salary'] = 8500000\n",
    "df.loc[(df['Player'] == \"Austin Riley\") & (df['Season'] == 2021), 'Next Year Salary'] = 3950000\n",
    "df.loc[(df['Player'] == \"Bryan Reynolds\") & (df['Season'] == 2021), 'Extension'] = True\n",
    "df.loc[(df['Player'] == \"Chris Bassitt\") & (df['Season'] == 2021), 'Next Year Salary'] = 8800000\n",
    "df.loc[(df['Player'] == \"Dansby Swanson\") & (df['Season'] == 2021), 'Next Year Salary'] = 10000000\n",
    "df.loc[(df['Player'] == \"Gary Sanchez\") & (df['Season'] == 2021), 'Next Year Salary'] = 9000000\n",
    "df.loc[(df['Player'] == \"Jacob Stallings\") & (df['Season'] == 2021), 'Next Year Salary'] = 2450000\n",
    "df.loc[(df['Player'] == \"Jesse Winker\") & (df['Season'] == 2021), 'Extension'] = True\n",
    "df.loc[(df['Player'] == \"Joey Wendle\") & (df['Season'] == 2021), 'Next Year Salary'] = 4550000\n",
    "df.loc[(df['Player'] == \"John Means\") & (df['Season'] == 2021), 'Extension'] = True\n",
    "df.loc[(df['Player'] == \"Kyle Freeland\") & (df['Season'] == 2021), 'Extension'] = True\n",
    "df.loc[(df['Player'] == \"Luis Arraez\") & (df['Season'] == 2021), 'Next Year Salary'] = 2125000\n",
    "df.loc[(df['Player'] == \"Lucas Sims\") & (df['Season'] == 2021), 'Extension'] = True\n",
    "df.loc[(df['Player'] == \"Max Fried\") & (df['Season'] == 2021), 'Next Year Salary'] = 6850000\n",
    "df.loc[(df['Player'] == \"Nicky Lopez\") & (df['Season'] == 2021), 'Next Year Salary'] = 2550000\n",
    "df.loc[(df['Player'] == \"Pablo Lopez\") & (df['Season'] == 2021), 'Next Year Salary'] = 2450000\n",
    "df.loc[(df['Player'] == \"Lucas Sims\") & (df['Season'] == 2021), 'Non-Tendered'] = True\n",
    "df.loc[(df['Player'] == \"Tyler O'Neill\") & (df['Season'] == 2021), 'Next Year Salary'] = 3400000\n",
    "df.loc[(df['Player'] == \"Willson Contreras\") & (df['Season'] == 2021), 'Next Year Salary'] = 9625000\n",
    "df.loc[(df['Player'] == \"Zach Eflin\") & (df['Season'] == 2021), 'Extension'] = True\n",
    "df.loc[(df['Player'] == \"Luke Jackson\") & (df['Season'] == 2021), 'Next Year Salary'] = 3600000\n",
    "df.loc[(df['Player'] == \"Paul Janish\") & (df['Season'] == 2011), 'Next Year Salary'] = 850000\n",
    "df.loc[(df['Player'] == \"Cesar Jimenez\") & (df['Season'] == 2014), 'Non-Tendered'] = True\n",
    "\n",
    "df.drop(['Player  Amt.', 'Team Amt.', 'Midpoint', 'Settled Amt.', 'Super Two', 'Season'], axis=1, inplace=True)\n",
    "\n",
    "\n",
    "df.to_csv('./data/arb_data_mlbTR.csv', index=False)\n",
    "# df[df['Missing' == True]].head()\n",
    "# df.loc[(df['Missing'] == True) & (df['Extension'] == False)]\n",
    "# df.loc[(df['Player'] == 'Kyle Freeland')]\n",
    "df[df['Player'] == 'Willy Adames']\n",
    "# df"
   ],
   "metadata": {
    "collapsed": false,
    "ExecuteTime": {
     "end_time": "2023-12-08T23:42:45.183658Z",
     "start_time": "2023-12-08T23:42:45.115955Z"
    }
   },
   "id": "518c0daf1a87bd8c"
  },
  {
   "cell_type": "code",
   "execution_count": 7,
   "outputs": [
    {
     "name": "stderr",
     "output_type": "stream",
     "text": [
      "/var/folders/mx/7b6cg1qd6ngdttv8tfdhzc1m0000gn/T/ipykernel_30720/2935043699.py:18: FutureWarning: Passing literal html to 'read_html' is deprecated and will be removed in a future version. To read from a literal string, wrap it in a 'StringIO' object.\n",
      "  df = pd.read_html(str(table), header=0, index_col=0)[0]\n"
     ]
    }
   ],
   "source": [
    "# # Sportstract Arbitrage Data\n",
    "# table_class = \"datatable\"\n",
    "# url = 'https://www.spotrac.com/mlb/arbitration/2022/all/'\n",
    "# \n",
    "# response = requests.get(url)\n",
    "# # Check if the request was successful (status code 200)\n",
    "# if response.status_code == 200:\n",
    "#     # Parse the HTML content of the page\n",
    "#     soup = BeautifulSoup(response.text, 'html.parser')\n",
    "#     \n",
    "#     \n",
    "#       \n",
    "#     # Find the table by the table_id\n",
    "#     table = soup.find('table', {'class': table_class})\n",
    "# \n",
    "#     # Check if the table was found\n",
    "#     if table:\n",
    "#         # Convert the table to a DataFrame\n",
    "#         df = pd.read_html(str(table), header=0, index_col=0)[0]\n",
    "#         \n",
    "#         df[\"Season\"] = 2022\n",
    "#         \n",
    "#         df.head()\n",
    "# \n",
    "#     else:\n",
    "#         print(f\"Table with ID '{table_class}' not found on the page.\")\n",
    "#         \n",
    "# df = df.reset_index()\n",
    "# df.to_csv('./data/sportstrack2022.csv', index=False)\n",
    "# df.head()\n"
   ],
   "metadata": {
    "collapsed": false,
    "ExecuteTime": {
     "end_time": "2023-12-08T15:40:08.685266Z",
     "start_time": "2023-12-08T15:40:07.880289Z"
    }
   },
   "id": "35a7eef58b436d9f"
  },
  {
   "cell_type": "markdown",
   "source": [
    "# 2023 and 2024 Arbitration Data"
   ],
   "metadata": {
    "collapsed": false
   },
   "id": "894cd8ceb8cb8c50"
  },
  {
   "cell_type": "code",
   "execution_count": 292,
   "outputs": [
    {
     "data": {
      "text/plain": "                 Player  Year Team Position  Service  Next Year Salary Source  \\\n0         Corbin Burnes  2023  MIL    rhp-s    4.049        10010000.0   Cots   \n1           Pete Alonso  2023  NYN       1b    4.000        14500000.0   Cots   \n2           Dylan Cease  2023  CHA      rhp    3.089         5700000.0   Cots   \n3      Christian Walker  2023  ARI       1b    4.124         6500000.0   Cots   \n4            Zac Gallen  2023  ARI    rhp-s    3.100         5600000.0   Cots   \n..                  ...   ...  ...      ...      ...               ...    ...   \n609         Matt Foster  2024  CHA      rhp    3.093               NaN   Cots   \n610          Casey Mize  2024  DET    rhp-s    3.111               NaN   Cots   \n611     J.P. Feyereisen  2024  LAN      rhp    3.108               NaN   Cots   \n612  Vladimir Gutierrez  2024  CIN      rhp    2.127               NaN   Cots   \n613         Justin Dunn  2024  CIN      rhp    4.020               NaN   Cots   \n\n     Extension Non-Tendered Outrighted first_name   last_name  \n0        False        False      False     Corbin      Burnes  \n1        False          NaN        NaN       Pete      Alonso  \n2        False          NaN        NaN      Dylan       Cease  \n3        False          NaN        NaN  Christian      Walker  \n4        False          NaN        NaN        Zac      Gallen  \n..         ...          ...        ...        ...         ...  \n609      False          NaN        NaN       Matt      Foster  \n610      False          NaN        NaN      Casey        Mize  \n611      False          NaN        NaN       J.P.  Feyereisen  \n612      False          NaN        NaN   Vladimir   Gutierrez  \n613      False          NaN        NaN     Justin        Dunn  \n\n[614 rows x 12 columns]",
      "text/html": "<div>\n<style scoped>\n    .dataframe tbody tr th:only-of-type {\n        vertical-align: middle;\n    }\n\n    .dataframe tbody tr th {\n        vertical-align: top;\n    }\n\n    .dataframe thead th {\n        text-align: right;\n    }\n</style>\n<table border=\"1\" class=\"dataframe\">\n  <thead>\n    <tr style=\"text-align: right;\">\n      <th></th>\n      <th>Player</th>\n      <th>Year</th>\n      <th>Team</th>\n      <th>Position</th>\n      <th>Service</th>\n      <th>Next Year Salary</th>\n      <th>Source</th>\n      <th>Extension</th>\n      <th>Non-Tendered</th>\n      <th>Outrighted</th>\n      <th>first_name</th>\n      <th>last_name</th>\n    </tr>\n  </thead>\n  <tbody>\n    <tr>\n      <th>0</th>\n      <td>Corbin Burnes</td>\n      <td>2023</td>\n      <td>MIL</td>\n      <td>rhp-s</td>\n      <td>4.049</td>\n      <td>10010000.0</td>\n      <td>Cots</td>\n      <td>False</td>\n      <td>False</td>\n      <td>False</td>\n      <td>Corbin</td>\n      <td>Burnes</td>\n    </tr>\n    <tr>\n      <th>1</th>\n      <td>Pete Alonso</td>\n      <td>2023</td>\n      <td>NYN</td>\n      <td>1b</td>\n      <td>4.000</td>\n      <td>14500000.0</td>\n      <td>Cots</td>\n      <td>False</td>\n      <td>NaN</td>\n      <td>NaN</td>\n      <td>Pete</td>\n      <td>Alonso</td>\n    </tr>\n    <tr>\n      <th>2</th>\n      <td>Dylan Cease</td>\n      <td>2023</td>\n      <td>CHA</td>\n      <td>rhp</td>\n      <td>3.089</td>\n      <td>5700000.0</td>\n      <td>Cots</td>\n      <td>False</td>\n      <td>NaN</td>\n      <td>NaN</td>\n      <td>Dylan</td>\n      <td>Cease</td>\n    </tr>\n    <tr>\n      <th>3</th>\n      <td>Christian Walker</td>\n      <td>2023</td>\n      <td>ARI</td>\n      <td>1b</td>\n      <td>4.124</td>\n      <td>6500000.0</td>\n      <td>Cots</td>\n      <td>False</td>\n      <td>NaN</td>\n      <td>NaN</td>\n      <td>Christian</td>\n      <td>Walker</td>\n    </tr>\n    <tr>\n      <th>4</th>\n      <td>Zac Gallen</td>\n      <td>2023</td>\n      <td>ARI</td>\n      <td>rhp-s</td>\n      <td>3.100</td>\n      <td>5600000.0</td>\n      <td>Cots</td>\n      <td>False</td>\n      <td>NaN</td>\n      <td>NaN</td>\n      <td>Zac</td>\n      <td>Gallen</td>\n    </tr>\n    <tr>\n      <th>...</th>\n      <td>...</td>\n      <td>...</td>\n      <td>...</td>\n      <td>...</td>\n      <td>...</td>\n      <td>...</td>\n      <td>...</td>\n      <td>...</td>\n      <td>...</td>\n      <td>...</td>\n      <td>...</td>\n      <td>...</td>\n    </tr>\n    <tr>\n      <th>609</th>\n      <td>Matt Foster</td>\n      <td>2024</td>\n      <td>CHA</td>\n      <td>rhp</td>\n      <td>3.093</td>\n      <td>NaN</td>\n      <td>Cots</td>\n      <td>False</td>\n      <td>NaN</td>\n      <td>NaN</td>\n      <td>Matt</td>\n      <td>Foster</td>\n    </tr>\n    <tr>\n      <th>610</th>\n      <td>Casey Mize</td>\n      <td>2024</td>\n      <td>DET</td>\n      <td>rhp-s</td>\n      <td>3.111</td>\n      <td>NaN</td>\n      <td>Cots</td>\n      <td>False</td>\n      <td>NaN</td>\n      <td>NaN</td>\n      <td>Casey</td>\n      <td>Mize</td>\n    </tr>\n    <tr>\n      <th>611</th>\n      <td>J.P. Feyereisen</td>\n      <td>2024</td>\n      <td>LAN</td>\n      <td>rhp</td>\n      <td>3.108</td>\n      <td>NaN</td>\n      <td>Cots</td>\n      <td>False</td>\n      <td>NaN</td>\n      <td>NaN</td>\n      <td>J.P.</td>\n      <td>Feyereisen</td>\n    </tr>\n    <tr>\n      <th>612</th>\n      <td>Vladimir Gutierrez</td>\n      <td>2024</td>\n      <td>CIN</td>\n      <td>rhp</td>\n      <td>2.127</td>\n      <td>NaN</td>\n      <td>Cots</td>\n      <td>False</td>\n      <td>NaN</td>\n      <td>NaN</td>\n      <td>Vladimir</td>\n      <td>Gutierrez</td>\n    </tr>\n    <tr>\n      <th>613</th>\n      <td>Justin Dunn</td>\n      <td>2024</td>\n      <td>CIN</td>\n      <td>rhp</td>\n      <td>4.020</td>\n      <td>NaN</td>\n      <td>Cots</td>\n      <td>False</td>\n      <td>NaN</td>\n      <td>NaN</td>\n      <td>Justin</td>\n      <td>Dunn</td>\n    </tr>\n  </tbody>\n</table>\n<p>614 rows × 12 columns</p>\n</div>"
     },
     "execution_count": 292,
     "metadata": {},
     "output_type": "execute_result"
    }
   ],
   "source": [
    "cots = pd.read_csv('./data/arb-data-2023-2024.csv')\n",
    "\n",
    "cots['Source'] = 'Cots'\n",
    "\n",
    "columns_to_check = ['Player Request', 'Club Offer', 'Next Year Salary', 'Estimate/Notes']\n",
    "cots['Extension'] = cots[columns_to_check].apply(lambda x: any('ext' in str(value) for value in x), axis=1)\n",
    "cots['Non-Tendered'] = cots['Club Offer'].str.contains('non-tendered')\n",
    "cots['Outrighted'] = cots['Club Offer'].str.contains('outrighted')\n",
    "\n",
    "# Missing Salary Info\n",
    "# cots[~(cots['Extension'] | cots['Outrighted'] | cots['Non-Tendered']) & pd.isna(cots['Next Year Salary']) & (cots['Season'] == 2023)] \n",
    "cots.loc[(cots['Player'] == \"McNeil, Jeff\") & (cots['Season'] == 2023), 'Extension'] = True\n",
    "cots.loc[(cots['Player'] == \"Urshela, Giovanny\") & (cots['Season'] == 2023), 'Next Year Salary'] = \"$8,400,000\"\n",
    "cots.loc[(cots['Player'] == \"Fairbanks, Pete\") & (cots['Season'] == 2023), 'Extension'] = True\n",
    "cots.loc[(cots['Player'] == \"Vogelbach, Daniel\") & (cots['Season'] == 2023), 'Extension'] = True\n",
    "cots.loc[(cots['Player'] == \"Kinley, Tyler\") & (cots['Season'] == 2023), 'Extension'] = True\n",
    "cots.loc[(cots['Player'] == \"Cave, Jake\") & (cots['Season'] == 2023), 'Next Year Salary'] = \"$950,000\"\n",
    "cots.loc[(cots['Player'] == \"Borucki, Ryan\") & (cots['Season'] == 2023), 'Non-Tendered'] = True\n",
    "cots.loc[(cots['Player'] == \"Blach, Ty\") & (cots['Season'] == 2023), 'Outrighted'] = True\n",
    "cots.loc[(cots['Player'] == \"Raley, Luke\") & (cots['Season'] == 2023), 'Outrighted'] = True #Pre-Arb\n",
    "cots.loc[(cots['Player'] == \"Torrens, Luis\") & (cots['Season'] == 2023), 'Outrighted'] = True\n",
    "\n",
    "# More Formatting Data\n",
    "cots['Next Year Salary'] = pd.to_numeric(cots['Next Year Salary'].replace('[\\$,]', '', regex=True), errors='coerce')\n",
    "cots['Year Salary'] = pd.to_numeric(cots['Year Salary'].replace('[\\$,]', '', regex=True), errors='coerce')\n",
    "cots.rename(columns={'MLS': 'Service'}, inplace=True)\n",
    "cots.rename(columns={'Club': 'Team'}, inplace=True)\n",
    "\n",
    "# Reformat Name\n",
    "cots[['Last', 'First', 'Suffix']] = cots['Player'].str.extract(r'([^,]+),\\s*([^ ]+)(?:\\s+([^ ]+))?')\n",
    "cots['Player'] = cots.apply(lambda row: f\"{row['First']} {row['Last']}\" if pd.isna(row['Suffix']) else f\"{row['First']} {row['Last']} {row['Suffix']}\", axis=1)\n",
    "cots.drop(['Last', 'First', 'Suffix'], axis=1, inplace=True)\n",
    "\n",
    "split_names = cots['Player'].str.split(' ', n=1, expand=True)\n",
    "cots[['first_name', 'last_name']]  = split_names\n",
    "\n",
    "cots.rename(columns={'Season' : 'Year'}, inplace=True)\n",
    "\n",
    "# clear 2024 data\n",
    "cots.loc[cots['Year'] == 2024, 'Next Year Salary'] = np.nan\n",
    "cots.drop(['Year WAR/WARP', 'Career WARP', 'Year Salary', 'Player Request', 'Club Offer', 'Estimate/Notes'], axis=1, inplace=True)\n",
    "cots.to_csv('./data/arb_data_cots.csv', index=False)\n",
    "cots"
   ],
   "metadata": {
    "collapsed": false,
    "ExecuteTime": {
     "end_time": "2023-12-09T00:59:46.710284Z",
     "start_time": "2023-12-09T00:59:46.645105Z"
    }
   },
   "id": "9933780c35a524f5"
  },
  {
   "cell_type": "markdown",
   "source": [
    "# Create Arbitration Data File for 2010-2024"
   ],
   "metadata": {
    "collapsed": false
   },
   "id": "3255e71407ee46ce"
  },
  {
   "cell_type": "code",
   "execution_count": 258,
   "outputs": [
    {
     "name": "stdout",
     "output_type": "stream",
     "text": [
      "(2267, 11)\n",
      "(614, 11)\n",
      "(2881, 11)\n"
     ]
    }
   ],
   "source": [
    "mlbtr = pd.read_csv('./data/arb_data_mlbTR.csv')\n",
    "cots = pd.read_csv('./data/arb_data_cots.csv')\n",
    "arb = pd.concat([mlbtr, cots], ignore_index=True)\n",
    "print(mlbtr.shape) # (2268, 11)\n",
    "print(cots.shape) # (614, 11)\n",
    "print(arb.shape) # (2882, 12)\n",
    "\n",
    "arb.to_csv('./data/arb_data_2010-2024.csv', index=False)\n"
   ],
   "metadata": {
    "collapsed": false,
    "ExecuteTime": {
     "end_time": "2023-12-08T23:46:59.879749Z",
     "start_time": "2023-12-08T23:46:59.808505Z"
    }
   },
   "id": "beab4110482b421a"
  },
  {
   "cell_type": "code",
   "execution_count": 261,
   "outputs": [
    {
     "name": "stdout",
     "output_type": "stream",
     "text": [
      "Empty DataFrame\n",
      "Columns: [Player, Team, Service, Extension, Year, Non-Tendered, Outrighted, Next Year Salary, first_name, last_name, Source]\n",
      "Index: []\n"
     ]
    }
   ],
   "source": [
    "left_duplicates = arb[arb.duplicated(subset=['first_name', 'last_name', 'Year'])]\n",
    "print(left_duplicates)\n",
    "\n",
    "# arb[arb['Player'] == 'Randall Delgado']"
   ],
   "metadata": {
    "collapsed": false,
    "ExecuteTime": {
     "end_time": "2023-12-08T23:47:20.141234Z",
     "start_time": "2023-12-08T23:47:20.115694Z"
    }
   },
   "id": "370995d332aa68ba"
  },
  {
   "cell_type": "markdown",
   "source": [
    "# Salary Information for 2010-2022"
   ],
   "metadata": {
    "collapsed": false
   },
   "id": "25d135987df6e501"
  },
  {
   "cell_type": "code",
   "execution_count": 291,
   "outputs": [
    {
     "name": "stdout",
     "output_type": "stream",
     "text": [
      "(2881, 11)\n",
      "(16530, 7)\n",
      "(2887, 12)\n"
     ]
    },
    {
     "data": {
      "text/plain": "                  Player      Team  Service  Extension  Year Non-Tendered  \\\n9      Armando Galarraga    Tigers    2.148      False  2011        False   \n12             Bill Bray      Reds    3.018      False  2011        False   \n13          Billy Butler    Royals    3.102       True  2011        False   \n14           Boone Logan   Yankees    3.140      False  2011        False   \n19          Brendan Ryan  Mariners    3.082       True  2011        False   \n...                  ...       ...      ...        ...   ...          ...   \n2882         Matt Foster       CHA    3.093      False  2024          NaN   \n2883          Casey Mize       DET    3.111      False  2024          NaN   \n2884     J.P. Feyereisen       LAN    3.108      False  2024          NaN   \n2885  Vladimir Gutierrez       CIN    2.127      False  2024          NaN   \n2886         Justin Dunn       CIN    4.020      False  2024          NaN   \n\n     Outrighted  Next Year Salary first_name   last_name Source    Salary  \\\n9         False         2300000.0    Armando   Galarraga  MLBTR       NaN   \n12        False          645000.0       Bill        Bray  MLBTR       NaN   \n13        False               NaN      Billy      Butler  MLBTR  470000.0   \n14        False         1200000.0      Boone       Logan  MLBTR       NaN   \n19        False               NaN    Brendan        Ryan  MLBTR  425000.0   \n...         ...               ...        ...         ...    ...       ...   \n2882        NaN               NaN       Matt      Foster   Cots  734000.0   \n2883        NaN               NaN      Casey        Mize   Cots  734200.0   \n2884        NaN               NaN       J.P.  Feyereisen   Cots  750000.0   \n2885        NaN               NaN   Vladimir   Gutierrez   Cots  730000.0   \n2886        NaN               NaN     Justin        Dunn   Cots  900000.0   \n\n      Salary Diff  \n9             NaN  \n12            NaN  \n13            NaN  \n14            NaN  \n19            NaN  \n...           ...  \n2882          NaN  \n2883          NaN  \n2884          NaN  \n2885          NaN  \n2886          NaN  \n\n[850 rows x 13 columns]",
      "text/html": "<div>\n<style scoped>\n    .dataframe tbody tr th:only-of-type {\n        vertical-align: middle;\n    }\n\n    .dataframe tbody tr th {\n        vertical-align: top;\n    }\n\n    .dataframe thead th {\n        text-align: right;\n    }\n</style>\n<table border=\"1\" class=\"dataframe\">\n  <thead>\n    <tr style=\"text-align: right;\">\n      <th></th>\n      <th>Player</th>\n      <th>Team</th>\n      <th>Service</th>\n      <th>Extension</th>\n      <th>Year</th>\n      <th>Non-Tendered</th>\n      <th>Outrighted</th>\n      <th>Next Year Salary</th>\n      <th>first_name</th>\n      <th>last_name</th>\n      <th>Source</th>\n      <th>Salary</th>\n      <th>Salary Diff</th>\n    </tr>\n  </thead>\n  <tbody>\n    <tr>\n      <th>9</th>\n      <td>Armando Galarraga</td>\n      <td>Tigers</td>\n      <td>2.148</td>\n      <td>False</td>\n      <td>2011</td>\n      <td>False</td>\n      <td>False</td>\n      <td>2300000.0</td>\n      <td>Armando</td>\n      <td>Galarraga</td>\n      <td>MLBTR</td>\n      <td>NaN</td>\n      <td>NaN</td>\n    </tr>\n    <tr>\n      <th>12</th>\n      <td>Bill Bray</td>\n      <td>Reds</td>\n      <td>3.018</td>\n      <td>False</td>\n      <td>2011</td>\n      <td>False</td>\n      <td>False</td>\n      <td>645000.0</td>\n      <td>Bill</td>\n      <td>Bray</td>\n      <td>MLBTR</td>\n      <td>NaN</td>\n      <td>NaN</td>\n    </tr>\n    <tr>\n      <th>13</th>\n      <td>Billy Butler</td>\n      <td>Royals</td>\n      <td>3.102</td>\n      <td>True</td>\n      <td>2011</td>\n      <td>False</td>\n      <td>False</td>\n      <td>NaN</td>\n      <td>Billy</td>\n      <td>Butler</td>\n      <td>MLBTR</td>\n      <td>470000.0</td>\n      <td>NaN</td>\n    </tr>\n    <tr>\n      <th>14</th>\n      <td>Boone Logan</td>\n      <td>Yankees</td>\n      <td>3.140</td>\n      <td>False</td>\n      <td>2011</td>\n      <td>False</td>\n      <td>False</td>\n      <td>1200000.0</td>\n      <td>Boone</td>\n      <td>Logan</td>\n      <td>MLBTR</td>\n      <td>NaN</td>\n      <td>NaN</td>\n    </tr>\n    <tr>\n      <th>19</th>\n      <td>Brendan Ryan</td>\n      <td>Mariners</td>\n      <td>3.082</td>\n      <td>True</td>\n      <td>2011</td>\n      <td>False</td>\n      <td>False</td>\n      <td>NaN</td>\n      <td>Brendan</td>\n      <td>Ryan</td>\n      <td>MLBTR</td>\n      <td>425000.0</td>\n      <td>NaN</td>\n    </tr>\n    <tr>\n      <th>...</th>\n      <td>...</td>\n      <td>...</td>\n      <td>...</td>\n      <td>...</td>\n      <td>...</td>\n      <td>...</td>\n      <td>...</td>\n      <td>...</td>\n      <td>...</td>\n      <td>...</td>\n      <td>...</td>\n      <td>...</td>\n      <td>...</td>\n    </tr>\n    <tr>\n      <th>2882</th>\n      <td>Matt Foster</td>\n      <td>CHA</td>\n      <td>3.093</td>\n      <td>False</td>\n      <td>2024</td>\n      <td>NaN</td>\n      <td>NaN</td>\n      <td>NaN</td>\n      <td>Matt</td>\n      <td>Foster</td>\n      <td>Cots</td>\n      <td>734000.0</td>\n      <td>NaN</td>\n    </tr>\n    <tr>\n      <th>2883</th>\n      <td>Casey Mize</td>\n      <td>DET</td>\n      <td>3.111</td>\n      <td>False</td>\n      <td>2024</td>\n      <td>NaN</td>\n      <td>NaN</td>\n      <td>NaN</td>\n      <td>Casey</td>\n      <td>Mize</td>\n      <td>Cots</td>\n      <td>734200.0</td>\n      <td>NaN</td>\n    </tr>\n    <tr>\n      <th>2884</th>\n      <td>J.P. Feyereisen</td>\n      <td>LAN</td>\n      <td>3.108</td>\n      <td>False</td>\n      <td>2024</td>\n      <td>NaN</td>\n      <td>NaN</td>\n      <td>NaN</td>\n      <td>J.P.</td>\n      <td>Feyereisen</td>\n      <td>Cots</td>\n      <td>750000.0</td>\n      <td>NaN</td>\n    </tr>\n    <tr>\n      <th>2885</th>\n      <td>Vladimir Gutierrez</td>\n      <td>CIN</td>\n      <td>2.127</td>\n      <td>False</td>\n      <td>2024</td>\n      <td>NaN</td>\n      <td>NaN</td>\n      <td>NaN</td>\n      <td>Vladimir</td>\n      <td>Gutierrez</td>\n      <td>Cots</td>\n      <td>730000.0</td>\n      <td>NaN</td>\n    </tr>\n    <tr>\n      <th>2886</th>\n      <td>Justin Dunn</td>\n      <td>CIN</td>\n      <td>4.020</td>\n      <td>False</td>\n      <td>2024</td>\n      <td>NaN</td>\n      <td>NaN</td>\n      <td>NaN</td>\n      <td>Justin</td>\n      <td>Dunn</td>\n      <td>Cots</td>\n      <td>900000.0</td>\n      <td>NaN</td>\n    </tr>\n  </tbody>\n</table>\n<p>850 rows × 13 columns</p>\n</div>"
     },
     "execution_count": 291,
     "metadata": {},
     "output_type": "execute_result"
    }
   ],
   "source": [
    "salaries = pd.read_csv('./data/mlb-salaries_2010-2023.csv')\n",
    "salaries2009 = pd.read_csv('./data/mlb-salaries_2000-2010.csv')\n",
    "arb = pd.read_csv('./data/arb_data_2010-2024.csv')\n",
    "\n",
    "# salaries = salaries[~df['Player'] == 'AVERAGE']\n",
    "salaries['Salary'] = pd.to_numeric(salaries['Salary'].replace('[\\$,]', '', regex=True), errors='coerce')\n",
    "\n",
    "salaries[['Last', 'First', 'Suffix']] = salaries['Player'].str.extract(r'([^,]+),\\s*([^ ]+)(?:\\s+([^ ]+))?')\n",
    "salaries['Player'] = salaries.apply(lambda row: f\"{row['First']} {row['Last']}\" if pd.isna(row['Suffix']) else f\"{row['First']} {row['Last']} {row['Suffix']}\", axis=1)\n",
    "salaries.drop(['Last', 'First', 'Suffix'], axis=1, inplace=True)\n",
    "split_names = salaries['Player'].str.split(' ', n=1, expand=True)\n",
    "salaries[['first_name', 'last_name']]  = split_names\n",
    "\n",
    "salaries['Year'] = salaries['Year']+1\n",
    "\n",
    "salaries2009 = salaries2009[salaries2009['Year'] == 2009]\n",
    "salaries2009['Salary'] = pd.to_numeric(salaries2009['Salary'].replace('[\\$,]', '', regex=True), errors='coerce')\n",
    "\n",
    "salaries2009[['Last', 'First', 'Suffix']] = salaries2009['Player'].str.extract(r'([^,]+),\\s*([^ ]+)(?:\\s+([^ ]+))?')\n",
    "salaries2009['Player'] = salaries2009.apply(lambda row: f\"{row['First']} {row['Last']}\" if pd.isna(row['Suffix']) else f\"{row['First']} {row['Last']} {row['Suffix']}\", axis=1)\n",
    "salaries2009.drop(['Last', 'First', 'Suffix'], axis=1, inplace=True)\n",
    "split_names = salaries2009['Player'].str.split(' ', n=1, expand=True)\n",
    "salaries2009[['first_name', 'last_name']]  = split_names\n",
    "\n",
    "salaries2009['Year'] = salaries2009['Year']+1\n",
    "# salaries2009.head()\n",
    "previous_salaries_all = pd.concat([salaries, salaries2009], ignore_index=True)\n",
    "\n",
    "# left_duplicates = arb[arb.duplicated(subset=['first_name', 'last_name', 'Season'])]\n",
    "# print(left_duplicates)\n",
    "\n",
    "# left join salaries to arb\n",
    "arb_salaries = pd.merge(arb, previous_salaries_all[['Salary', 'first_name', 'last_name', 'Year']], how='left', left_on=['first_name', 'last_name', 'Year'], right_on=['first_name', 'last_name', 'Year'])\n",
    "\n",
    "print(arb.shape) # (2268, 14)\n",
    "print(previous_salaries_all.shape) # (16530, 8)\n",
    "print(arb_salaries.shape) # (2270, 16)\n",
    "\n",
    "arb_salaries['Salary Diff'] = arb_salaries['Next Year Salary'] - arb_salaries['Salary']\n",
    "\n",
    "arb_salaries.to_csv('./data/arb_salaries_2010-2024.csv', index=False)\n",
    "\n",
    "\n",
    "# show all rows where the Player is Jones, Adam\n",
    "# salaries.loc[salaries['Player'] == 'Jones, Adam']\n",
    "arb_salaries.loc[arb_salaries['Salary Diff'].isna()]"
   ],
   "metadata": {
    "collapsed": false,
    "ExecuteTime": {
     "end_time": "2023-12-09T00:51:03.985675Z",
     "start_time": "2023-12-09T00:51:03.671395Z"
    }
   },
   "id": "957cabebd430da1d"
  },
  {
   "cell_type": "code",
   "execution_count": 285,
   "outputs": [
    {
     "data": {
      "text/plain": "                   Player Position    MLS      Salary    Year first_name  \\\n3503   Jackie Bradley Jr.       lf  0.000    490000.0  2014.0     Jackie   \n4304   Jackie Bradley Jr.       cf  0.059    502000.0  2015.0     Jackie   \n5805   Jackie Bradley Jr.       cf  1.059         NaN  2016.0     Jackie   \n6630   Jackie Bradley Jr.       cf  1.150    546500.0  2017.0     Jackie   \n7288   Jackie Bradley Jr.       cf  2.150   3600000.0  2018.0     Jackie   \n8417   Jackie Bradley Jr.       cf  3.150   6100000.0  2019.0     Jackie   \n9590   Jackie Bradley Jr.       cf  4.150   8550000.0  2020.0     Jackie   \n10784  Jackie Bradley Jr.       cf  5.150  11000000.0  2021.0     Jackie   \n11955  Jackie Bradley Jr.       cf  6.150  13000000.0  2022.0     Jackie   \n13279  Jackie Bradley Jr.       cf  7.150   9139485.0  2023.0     Jackie   \n14978  Jackie Bradley Jr.       cf  8.150    900000.0  2024.0     Jackie   \n\n         last_name  \n3503   Bradley Jr.  \n4304   Bradley Jr.  \n5805   Bradley Jr.  \n6630   Bradley Jr.  \n7288   Bradley Jr.  \n8417   Bradley Jr.  \n9590   Bradley Jr.  \n10784  Bradley Jr.  \n11955  Bradley Jr.  \n13279  Bradley Jr.  \n14978  Bradley Jr.  ",
      "text/html": "<div>\n<style scoped>\n    .dataframe tbody tr th:only-of-type {\n        vertical-align: middle;\n    }\n\n    .dataframe tbody tr th {\n        vertical-align: top;\n    }\n\n    .dataframe thead th {\n        text-align: right;\n    }\n</style>\n<table border=\"1\" class=\"dataframe\">\n  <thead>\n    <tr style=\"text-align: right;\">\n      <th></th>\n      <th>Player</th>\n      <th>Position</th>\n      <th>MLS</th>\n      <th>Salary</th>\n      <th>Year</th>\n      <th>first_name</th>\n      <th>last_name</th>\n    </tr>\n  </thead>\n  <tbody>\n    <tr>\n      <th>3503</th>\n      <td>Jackie Bradley Jr.</td>\n      <td>lf</td>\n      <td>0.000</td>\n      <td>490000.0</td>\n      <td>2014.0</td>\n      <td>Jackie</td>\n      <td>Bradley Jr.</td>\n    </tr>\n    <tr>\n      <th>4304</th>\n      <td>Jackie Bradley Jr.</td>\n      <td>cf</td>\n      <td>0.059</td>\n      <td>502000.0</td>\n      <td>2015.0</td>\n      <td>Jackie</td>\n      <td>Bradley Jr.</td>\n    </tr>\n    <tr>\n      <th>5805</th>\n      <td>Jackie Bradley Jr.</td>\n      <td>cf</td>\n      <td>1.059</td>\n      <td>NaN</td>\n      <td>2016.0</td>\n      <td>Jackie</td>\n      <td>Bradley Jr.</td>\n    </tr>\n    <tr>\n      <th>6630</th>\n      <td>Jackie Bradley Jr.</td>\n      <td>cf</td>\n      <td>1.150</td>\n      <td>546500.0</td>\n      <td>2017.0</td>\n      <td>Jackie</td>\n      <td>Bradley Jr.</td>\n    </tr>\n    <tr>\n      <th>7288</th>\n      <td>Jackie Bradley Jr.</td>\n      <td>cf</td>\n      <td>2.150</td>\n      <td>3600000.0</td>\n      <td>2018.0</td>\n      <td>Jackie</td>\n      <td>Bradley Jr.</td>\n    </tr>\n    <tr>\n      <th>8417</th>\n      <td>Jackie Bradley Jr.</td>\n      <td>cf</td>\n      <td>3.150</td>\n      <td>6100000.0</td>\n      <td>2019.0</td>\n      <td>Jackie</td>\n      <td>Bradley Jr.</td>\n    </tr>\n    <tr>\n      <th>9590</th>\n      <td>Jackie Bradley Jr.</td>\n      <td>cf</td>\n      <td>4.150</td>\n      <td>8550000.0</td>\n      <td>2020.0</td>\n      <td>Jackie</td>\n      <td>Bradley Jr.</td>\n    </tr>\n    <tr>\n      <th>10784</th>\n      <td>Jackie Bradley Jr.</td>\n      <td>cf</td>\n      <td>5.150</td>\n      <td>11000000.0</td>\n      <td>2021.0</td>\n      <td>Jackie</td>\n      <td>Bradley Jr.</td>\n    </tr>\n    <tr>\n      <th>11955</th>\n      <td>Jackie Bradley Jr.</td>\n      <td>cf</td>\n      <td>6.150</td>\n      <td>13000000.0</td>\n      <td>2022.0</td>\n      <td>Jackie</td>\n      <td>Bradley Jr.</td>\n    </tr>\n    <tr>\n      <th>13279</th>\n      <td>Jackie Bradley Jr.</td>\n      <td>cf</td>\n      <td>7.150</td>\n      <td>9139485.0</td>\n      <td>2023.0</td>\n      <td>Jackie</td>\n      <td>Bradley Jr.</td>\n    </tr>\n    <tr>\n      <th>14978</th>\n      <td>Jackie Bradley Jr.</td>\n      <td>cf</td>\n      <td>8.150</td>\n      <td>900000.0</td>\n      <td>2024.0</td>\n      <td>Jackie</td>\n      <td>Bradley Jr.</td>\n    </tr>\n  </tbody>\n</table>\n</div>"
     },
     "execution_count": 285,
     "metadata": {},
     "output_type": "execute_result"
    }
   ],
   "source": [
    "previous_salaries_all[(previous_salaries_all['first_name'] == 'Jackie') & (previous_salaries_all['last_name'] == 'Bradley Jr.')]\n",
    "# previous_salaries_all[(previous_salaries_all['Player'] == 'Bradley Jr, Jackie')]"
   ],
   "metadata": {
    "collapsed": false,
    "ExecuteTime": {
     "end_time": "2023-12-09T00:03:20.784611Z",
     "start_time": "2023-12-09T00:03:20.760716Z"
    }
   },
   "id": "b2085a7d22dc0a81"
  }
 ],
 "metadata": {
  "kernelspec": {
   "display_name": "Python 3",
   "language": "python",
   "name": "python3"
  },
  "language_info": {
   "codemirror_mode": {
    "name": "ipython",
    "version": 2
   },
   "file_extension": ".py",
   "mimetype": "text/x-python",
   "name": "python",
   "nbconvert_exporter": "python",
   "pygments_lexer": "ipython2",
   "version": "2.7.6"
  }
 },
 "nbformat": 4,
 "nbformat_minor": 5
}
